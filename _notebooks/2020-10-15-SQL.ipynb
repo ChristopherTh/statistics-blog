{
  "nbformat": 4,
  "nbformat_minor": 0,
  "metadata": {
    "kernelspec": {
      "name": "Python 3.7.9 64-bit ('statistics_blog': conda)",
      "display_name": "Python 3.7.9 64-bit ('statistics_blog': conda)",
      "metadata": {
        "interpreter": {
          "hash": "1903b2bc6fa09ef9a571b65384e6224e56d66c2aef7136d7796c6206344f5845"
        }
      }
    },
    "language_info": {
      "codemirror_mode": {
        "name": "ipython",
        "version": 3
      },
      "file_extension": ".py",
      "mimetype": "text/x-python",
      "name": "python",
      "nbconvert_exporter": "python",
      "pygments_lexer": "ipython3",
      "version": "3.7.9-final"
    },
    "colab": {
      "name": "base_notebook.ipynb",
      "provenance": []
    }
  },
  "cells": [
    {
      "cell_type": "markdown",
      "metadata": {
        "id": "6Gshu8xmRrY5"
      },
      "source": [
        "# \"SQL\"\n",
        "> \"Example database to learn and review SQL\"\n",
        "\n",
        "- author: Christopher Thiemann\n",
        "- toc: true\n",
        "- branch: master\n",
        "- badges: true\n",
        "- comments: true\n",
        "- categories: [SQL, ]\n",
        "- hide: false\n",
        "- search_exclude: true"
      ]
    },
    {
      "cell_type": "code",
      "metadata": {
        "id": "Swd421s9RrY6"
      },
      "source": [
        "#hide\n",
        "import warnings\n",
        "\n",
        "\n",
        "import numpy as np\n",
        "import scipy as sp\n",
        "import sklearn\n",
        "import statsmodels.api as sm\n",
        "from statsmodels.formula.api import ols\n",
        "\n",
        "\n",
        "import matplotlib as mpl\n",
        "import matplotlib.pyplot as plt\n",
        "%matplotlib inline\n",
        "%config InlineBackend.figure_format = 'retina'\n",
        "\n",
        "import seaborn as sns\n",
        "sns.set_context(\"poster\")\n",
        "sns.set(rc={'figure.figsize': (16, 9.)})\n",
        "sns.set_style(\"whitegrid\")\n",
        "\n",
        "import pandas as pd\n",
        "pd.set_option(\"display.max_rows\", 120)\n",
        "pd.set_option(\"display.max_columns\", 120)\n",
        "\n",
        "# load specific python package\n",
        "import sqlite3"
      ],
      "execution_count": null,
      "outputs": []
    },
    {
      "cell_type": "code",
      "metadata": {
        "id": "7aTSS2MYTG7w",
        "outputId": "10869537-933a-4957-dd1d-ec04a3e43cbb",
        "colab": {
          "base_uri": "https://localhost:8080/",
          "height": 136
        }
      },
      "source": [
        "!curl https://cdn.sqlitetutorial.net/wp-content/uploads/2018/03/chinook.zip -o database.zip\n",
        "!unzip database.zip\n",
        "!ls"
      ],
      "execution_count": null,
      "outputs": [
        {
          "output_type": "stream",
          "text": [
            "  % Total    % Received % Xferd  Average Speed   Time    Time     Time  Current\n",
            "                                 Dload  Upload   Total   Spent    Left  Speed\n",
            "100  298k  100  298k    0     0  1394k      0 --:--:-- --:--:-- --:--:-- 1394k\n",
            "Archive:  database.zip\n",
            "replace chinook.db? [y]es, [n]o, [A]ll, [N]one, [r]ename: y\n",
            "  inflating: chinook.db              \n",
            "chinook.db  database.zip  data.db  sample_data\ttest.zip\n"
          ],
          "name": "stdout"
        }
      ]
    },
    {
      "cell_type": "code",
      "metadata": {
        "id": "y8D2I-0oU1if",
        "outputId": "21719933-7f82-4cd4-fab2-e412d9a75c27",
        "colab": {
          "base_uri": "https://localhost:8080/",
          "height": 1000
        }
      },
      "source": [
        "con = sqlite3.connect(\"chinook.db\")\n",
        "cursor = con.cursor()\n",
        "with con:\n",
        "    cursor.execute(\"SELECT name FROM sqlite_master WHERE type='table';\")\n",
        "    for table_name in cursor.fetchall():\n",
        "        \n",
        "        print(table_name[0])\n",
        "        print(pd.read_sql_query(f\"select * from {table_name[0]}\", con).head(), \"\\n\\n\\n\\n\\n\\n\")"
      ],
      "execution_count": null,
      "outputs": [
        {
          "output_type": "stream",
          "text": [
            "albums\n",
            "   AlbumId                                  Title  ArtistId\n",
            "0        1  For Those About To Rock We Salute You         1\n",
            "1        2                      Balls to the Wall         2\n",
            "2        3                      Restless and Wild         2\n",
            "3        4                      Let There Be Rock         1\n",
            "4        5                               Big Ones         3 \n",
            "\n",
            "\n",
            "\n",
            "\n",
            "\n",
            "\n",
            "sqlite_sequence\n",
            "          name   seq\n",
            "0       genres    25\n",
            "1  media_types     5\n",
            "2      artists   275\n",
            "3       albums   347\n",
            "4       tracks  3503 \n",
            "\n",
            "\n",
            "\n",
            "\n",
            "\n",
            "\n",
            "artists\n",
            "   ArtistId               Name\n",
            "0         1              AC/DC\n",
            "1         2             Accept\n",
            "2         3          Aerosmith\n",
            "3         4  Alanis Morissette\n",
            "4         5    Alice In Chains \n",
            "\n",
            "\n",
            "\n",
            "\n",
            "\n",
            "\n",
            "customers\n",
            "   CustomerId  FirstName     LastName  \\\n",
            "0           1       Luís    Gonçalves   \n",
            "1           2     Leonie       Köhler   \n",
            "2           3   François     Tremblay   \n",
            "3           4      Bjørn       Hansen   \n",
            "4           5  František  Wichterlová   \n",
            "\n",
            "                                            Company  \\\n",
            "0  Embraer - Empresa Brasileira de Aeronáutica S.A.   \n",
            "1                                              None   \n",
            "2                                              None   \n",
            "3                                              None   \n",
            "4                                  JetBrains s.r.o.   \n",
            "\n",
            "                           Address                 City State         Country  \\\n",
            "0  Av. Brigadeiro Faria Lima, 2170  São José dos Campos    SP          Brazil   \n",
            "1          Theodor-Heuss-Straße 34            Stuttgart  None         Germany   \n",
            "2                1498 rue Bélanger             Montréal    QC          Canada   \n",
            "3                 Ullevålsveien 14                 Oslo  None          Norway   \n",
            "4                    Klanova 9/506               Prague  None  Czech Republic   \n",
            "\n",
            "  PostalCode               Phone                 Fax  \\\n",
            "0  12227-000  +55 (12) 3923-5555  +55 (12) 3923-5566   \n",
            "1      70174    +49 0711 2842222                None   \n",
            "2    H2G 1A7   +1 (514) 721-4711                None   \n",
            "3       0171     +47 22 44 22 22                None   \n",
            "4      14700    +420 2 4172 5555    +420 2 4172 5555   \n",
            "\n",
            "                      Email  SupportRepId  \n",
            "0      luisg@embraer.com.br             3  \n",
            "1     leonekohler@surfeu.de             5  \n",
            "2       ftremblay@gmail.com             3  \n",
            "3     bjorn.hansen@yahoo.no             4  \n",
            "4  frantisekw@jetbrains.com             4   \n",
            "\n",
            "\n",
            "\n",
            "\n",
            "\n",
            "\n",
            "employees\n",
            "   EmployeeId LastName FirstName                Title  ReportsTo  \\\n",
            "0           1    Adams    Andrew      General Manager        NaN   \n",
            "1           2  Edwards     Nancy        Sales Manager        1.0   \n",
            "2           3  Peacock      Jane  Sales Support Agent        2.0   \n",
            "3           4     Park  Margaret  Sales Support Agent        2.0   \n",
            "4           5  Johnson     Steve  Sales Support Agent        2.0   \n",
            "\n",
            "             BirthDate             HireDate              Address      City  \\\n",
            "0  1962-02-18 00:00:00  2002-08-14 00:00:00  11120 Jasper Ave NW  Edmonton   \n",
            "1  1958-12-08 00:00:00  2002-05-01 00:00:00         825 8 Ave SW   Calgary   \n",
            "2  1973-08-29 00:00:00  2002-04-01 00:00:00        1111 6 Ave SW   Calgary   \n",
            "3  1947-09-19 00:00:00  2003-05-03 00:00:00     683 10 Street SW   Calgary   \n",
            "4  1965-03-03 00:00:00  2003-10-17 00:00:00         7727B 41 Ave   Calgary   \n",
            "\n",
            "  State Country PostalCode              Phone                Fax  \\\n",
            "0    AB  Canada    T5K 2N1  +1 (780) 428-9482  +1 (780) 428-3457   \n",
            "1    AB  Canada    T2P 2T3  +1 (403) 262-3443  +1 (403) 262-3322   \n",
            "2    AB  Canada    T2P 5M5  +1 (403) 262-3443  +1 (403) 262-6712   \n",
            "3    AB  Canada    T2P 5G3  +1 (403) 263-4423  +1 (403) 263-4289   \n",
            "4    AB  Canada    T3B 1Y7   1 (780) 836-9987   1 (780) 836-9543   \n",
            "\n",
            "                      Email  \n",
            "0    andrew@chinookcorp.com  \n",
            "1     nancy@chinookcorp.com  \n",
            "2      jane@chinookcorp.com  \n",
            "3  margaret@chinookcorp.com  \n",
            "4     steve@chinookcorp.com   \n",
            "\n",
            "\n",
            "\n",
            "\n",
            "\n",
            "\n",
            "genres\n",
            "   GenreId                Name\n",
            "0        1                Rock\n",
            "1        2                Jazz\n",
            "2        3               Metal\n",
            "3        4  Alternative & Punk\n",
            "4        5       Rock And Roll \n",
            "\n",
            "\n",
            "\n",
            "\n",
            "\n",
            "\n",
            "invoices\n",
            "   InvoiceId  CustomerId          InvoiceDate           BillingAddress  \\\n",
            "0          1           2  2009-01-01 00:00:00  Theodor-Heuss-Straße 34   \n",
            "1          2           4  2009-01-02 00:00:00         Ullevålsveien 14   \n",
            "2          3           8  2009-01-03 00:00:00          Grétrystraat 63   \n",
            "3          4          14  2009-01-06 00:00:00           8210 111 ST NW   \n",
            "4          5          23  2009-01-11 00:00:00          69 Salem Street   \n",
            "\n",
            "  BillingCity BillingState BillingCountry BillingPostalCode  Total  \n",
            "0   Stuttgart         None        Germany             70174   1.98  \n",
            "1        Oslo         None         Norway              0171   3.96  \n",
            "2    Brussels         None        Belgium              1000   5.94  \n",
            "3    Edmonton           AB         Canada           T6G 2C7   8.91  \n",
            "4      Boston           MA            USA              2113  13.86   \n",
            "\n",
            "\n",
            "\n",
            "\n",
            "\n",
            "\n",
            "invoice_items\n",
            "   InvoiceLineId  InvoiceId  TrackId  UnitPrice  Quantity\n",
            "0              1          1        2       0.99         1\n",
            "1              2          1        4       0.99         1\n",
            "2              3          2        6       0.99         1\n",
            "3              4          2        8       0.99         1\n",
            "4              5          2       10       0.99         1 \n",
            "\n",
            "\n",
            "\n",
            "\n",
            "\n",
            "\n",
            "media_types\n",
            "   MediaTypeId                         Name\n",
            "0            1              MPEG audio file\n",
            "1            2     Protected AAC audio file\n",
            "2            3  Protected MPEG-4 video file\n",
            "3            4     Purchased AAC audio file\n",
            "4            5               AAC audio file \n",
            "\n",
            "\n",
            "\n",
            "\n",
            "\n",
            "\n",
            "playlists\n",
            "   PlaylistId        Name\n",
            "0           1       Music\n",
            "1           2      Movies\n",
            "2           3    TV Shows\n",
            "3           4  Audiobooks\n",
            "4           5  90’s Music \n",
            "\n",
            "\n",
            "\n",
            "\n",
            "\n",
            "\n",
            "playlist_track\n",
            "   PlaylistId  TrackId\n",
            "0           1     3402\n",
            "1           1     3389\n",
            "2           1     3390\n",
            "3           1     3391\n",
            "4           1     3392 \n",
            "\n",
            "\n",
            "\n",
            "\n",
            "\n",
            "\n",
            "tracks\n",
            "   TrackId                                     Name  AlbumId  MediaTypeId  \\\n",
            "0        1  For Those About To Rock (We Salute You)        1            1   \n",
            "1        2                        Balls to the Wall        2            2   \n",
            "2        3                          Fast As a Shark        3            2   \n",
            "3        4                        Restless and Wild        3            2   \n",
            "4        5                     Princess of the Dawn        3            2   \n",
            "\n",
            "   GenreId                                           Composer  Milliseconds  \\\n",
            "0        1          Angus Young, Malcolm Young, Brian Johnson        343719   \n",
            "1        1                                               None        342562   \n",
            "2        1  F. Baltes, S. Kaufman, U. Dirkscneider & W. Ho...        230619   \n",
            "3        1  F. Baltes, R.A. Smith-Diesel, S. Kaufman, U. D...        252051   \n",
            "4        1                         Deaffy & R.A. Smith-Diesel        375418   \n",
            "\n",
            "      Bytes  UnitPrice  \n",
            "0  11170334       0.99  \n",
            "1   5510424       0.99  \n",
            "2   3990994       0.99  \n",
            "3   4331779       0.99  \n",
            "4   6290521       0.99   \n",
            "\n",
            "\n",
            "\n",
            "\n",
            "\n",
            "\n",
            "sqlite_stat1\n",
            "              tbl                                idx        stat\n",
            "0          tracks               IFK_TrackMediaTypeId    3503 701\n",
            "1          tracks                   IFK_TrackGenreId    3503 141\n",
            "2          tracks                   IFK_TrackAlbumId     3503 11\n",
            "3  playlist_track           IFK_PlaylistTrackTrackId      8715 3\n",
            "4  playlist_track  sqlite_autoindex_playlist_track_1  8715 623 1 \n",
            "\n",
            "\n",
            "\n",
            "\n",
            "\n",
            "\n"
          ],
          "name": "stdout"
        }
      ]
    },
    {
      "cell_type": "code",
      "metadata": {
        "id": "K-jnqrgjdkCm",
        "outputId": "443cf066-7b1d-4d3a-c53b-a407c157d406",
        "colab": {
          "base_uri": "https://localhost:8080/",
          "height": 450
        }
      },
      "source": [
        "pd.read_sql_query(\"select * from artists\", con, index_col='ArtistId')"
      ],
      "execution_count": null,
      "outputs": [
        {
          "output_type": "execute_result",
          "data": {
            "text/html": [
              "<div>\n",
              "<style scoped>\n",
              "    .dataframe tbody tr th:only-of-type {\n",
              "        vertical-align: middle;\n",
              "    }\n",
              "\n",
              "    .dataframe tbody tr th {\n",
              "        vertical-align: top;\n",
              "    }\n",
              "\n",
              "    .dataframe thead th {\n",
              "        text-align: right;\n",
              "    }\n",
              "</style>\n",
              "<table border=\"1\" class=\"dataframe\">\n",
              "  <thead>\n",
              "    <tr style=\"text-align: right;\">\n",
              "      <th></th>\n",
              "      <th>Name</th>\n",
              "    </tr>\n",
              "    <tr>\n",
              "      <th>ArtistId</th>\n",
              "      <th></th>\n",
              "    </tr>\n",
              "  </thead>\n",
              "  <tbody>\n",
              "    <tr>\n",
              "      <th>1</th>\n",
              "      <td>AC/DC</td>\n",
              "    </tr>\n",
              "    <tr>\n",
              "      <th>2</th>\n",
              "      <td>Accept</td>\n",
              "    </tr>\n",
              "    <tr>\n",
              "      <th>3</th>\n",
              "      <td>Aerosmith</td>\n",
              "    </tr>\n",
              "    <tr>\n",
              "      <th>4</th>\n",
              "      <td>Alanis Morissette</td>\n",
              "    </tr>\n",
              "    <tr>\n",
              "      <th>5</th>\n",
              "      <td>Alice In Chains</td>\n",
              "    </tr>\n",
              "    <tr>\n",
              "      <th>...</th>\n",
              "      <td>...</td>\n",
              "    </tr>\n",
              "    <tr>\n",
              "      <th>271</th>\n",
              "      <td>Mela Tenenbaum, Pro Musica Prague &amp; Richard Kapp</td>\n",
              "    </tr>\n",
              "    <tr>\n",
              "      <th>272</th>\n",
              "      <td>Emerson String Quartet</td>\n",
              "    </tr>\n",
              "    <tr>\n",
              "      <th>273</th>\n",
              "      <td>C. Monteverdi, Nigel Rogers - Chiaroscuro; Lon...</td>\n",
              "    </tr>\n",
              "    <tr>\n",
              "      <th>274</th>\n",
              "      <td>Nash Ensemble</td>\n",
              "    </tr>\n",
              "    <tr>\n",
              "      <th>275</th>\n",
              "      <td>Philip Glass Ensemble</td>\n",
              "    </tr>\n",
              "  </tbody>\n",
              "</table>\n",
              "<p>275 rows × 1 columns</p>\n",
              "</div>"
            ],
            "text/plain": [
              "                                                       Name\n",
              "ArtistId                                                   \n",
              "1                                                     AC/DC\n",
              "2                                                    Accept\n",
              "3                                                 Aerosmith\n",
              "4                                         Alanis Morissette\n",
              "5                                           Alice In Chains\n",
              "...                                                     ...\n",
              "271        Mela Tenenbaum, Pro Musica Prague & Richard Kapp\n",
              "272                                  Emerson String Quartet\n",
              "273       C. Monteverdi, Nigel Rogers - Chiaroscuro; Lon...\n",
              "274                                           Nash Ensemble\n",
              "275                                   Philip Glass Ensemble\n",
              "\n",
              "[275 rows x 1 columns]"
            ]
          },
          "metadata": {
            "tags": []
          },
          "execution_count": 87
        }
      ]
    },
    {
      "cell_type": "code",
      "metadata": {
        "id": "bx0MDscogupf",
        "outputId": "105d26e5-5782-4d54-aef9-5f96fde936dc",
        "colab": {
          "base_uri": "https://localhost:8080/",
          "height": 425
        }
      },
      "source": [
        "pd.read_sql_query(\"select COUNT(AlbumId) as a from artists left join albums on artists.ArtistId = albums.ArtistId group by ArtistId\", con)"
      ],
      "execution_count": null,
      "outputs": [
        {
          "output_type": "error",
          "ename": "DatabaseError",
          "evalue": "ignored",
          "traceback": [
            "\u001b[0;31m---------------------------------------------------------------------------\u001b[0m",
            "\u001b[0;31mOperationalError\u001b[0m                          Traceback (most recent call last)",
            "\u001b[0;32m/usr/local/lib/python3.6/dist-packages/pandas/io/sql.py\u001b[0m in \u001b[0;36mexecute\u001b[0;34m(self, *args, **kwargs)\u001b[0m\n\u001b[1;32m   1680\u001b[0m         \u001b[0;32mtry\u001b[0m\u001b[0;34m:\u001b[0m\u001b[0;34m\u001b[0m\u001b[0;34m\u001b[0m\u001b[0m\n\u001b[0;32m-> 1681\u001b[0;31m             \u001b[0mcur\u001b[0m\u001b[0;34m.\u001b[0m\u001b[0mexecute\u001b[0m\u001b[0;34m(\u001b[0m\u001b[0;34m*\u001b[0m\u001b[0margs\u001b[0m\u001b[0;34m,\u001b[0m \u001b[0;34m**\u001b[0m\u001b[0mkwargs\u001b[0m\u001b[0;34m)\u001b[0m\u001b[0;34m\u001b[0m\u001b[0;34m\u001b[0m\u001b[0m\n\u001b[0m\u001b[1;32m   1682\u001b[0m             \u001b[0;32mreturn\u001b[0m \u001b[0mcur\u001b[0m\u001b[0;34m\u001b[0m\u001b[0;34m\u001b[0m\u001b[0m\n",
            "\u001b[0;31mOperationalError\u001b[0m: ambiguous column name: ArtistId",
            "\nThe above exception was the direct cause of the following exception:\n",
            "\u001b[0;31mDatabaseError\u001b[0m                             Traceback (most recent call last)",
            "\u001b[0;32m<ipython-input-93-a443052af76c>\u001b[0m in \u001b[0;36m<module>\u001b[0;34m()\u001b[0m\n\u001b[0;32m----> 1\u001b[0;31m \u001b[0mpd\u001b[0m\u001b[0;34m.\u001b[0m\u001b[0mread_sql_query\u001b[0m\u001b[0;34m(\u001b[0m\u001b[0;34m\"select COUNT(AlbumId) as a from artists left join albums on artists.ArtistId = albums.ArtistId group by ArtistId\"\u001b[0m\u001b[0;34m,\u001b[0m \u001b[0mcon\u001b[0m\u001b[0;34m)\u001b[0m\u001b[0;34m\u001b[0m\u001b[0;34m\u001b[0m\u001b[0m\n\u001b[0m",
            "\u001b[0;32m/usr/local/lib/python3.6/dist-packages/pandas/io/sql.py\u001b[0m in \u001b[0;36mread_sql_query\u001b[0;34m(sql, con, index_col, coerce_float, params, parse_dates, chunksize)\u001b[0m\n\u001b[1;32m    381\u001b[0m         \u001b[0mcoerce_float\u001b[0m\u001b[0;34m=\u001b[0m\u001b[0mcoerce_float\u001b[0m\u001b[0;34m,\u001b[0m\u001b[0;34m\u001b[0m\u001b[0;34m\u001b[0m\u001b[0m\n\u001b[1;32m    382\u001b[0m         \u001b[0mparse_dates\u001b[0m\u001b[0;34m=\u001b[0m\u001b[0mparse_dates\u001b[0m\u001b[0;34m,\u001b[0m\u001b[0;34m\u001b[0m\u001b[0;34m\u001b[0m\u001b[0m\n\u001b[0;32m--> 383\u001b[0;31m         \u001b[0mchunksize\u001b[0m\u001b[0;34m=\u001b[0m\u001b[0mchunksize\u001b[0m\u001b[0;34m,\u001b[0m\u001b[0;34m\u001b[0m\u001b[0;34m\u001b[0m\u001b[0m\n\u001b[0m\u001b[1;32m    384\u001b[0m     )\n\u001b[1;32m    385\u001b[0m \u001b[0;34m\u001b[0m\u001b[0m\n",
            "\u001b[0;32m/usr/local/lib/python3.6/dist-packages/pandas/io/sql.py\u001b[0m in \u001b[0;36mread_query\u001b[0;34m(self, sql, index_col, coerce_float, params, parse_dates, chunksize)\u001b[0m\n\u001b[1;32m   1725\u001b[0m \u001b[0;34m\u001b[0m\u001b[0m\n\u001b[1;32m   1726\u001b[0m         \u001b[0margs\u001b[0m \u001b[0;34m=\u001b[0m \u001b[0m_convert_params\u001b[0m\u001b[0;34m(\u001b[0m\u001b[0msql\u001b[0m\u001b[0;34m,\u001b[0m \u001b[0mparams\u001b[0m\u001b[0;34m)\u001b[0m\u001b[0;34m\u001b[0m\u001b[0;34m\u001b[0m\u001b[0m\n\u001b[0;32m-> 1727\u001b[0;31m         \u001b[0mcursor\u001b[0m \u001b[0;34m=\u001b[0m \u001b[0mself\u001b[0m\u001b[0;34m.\u001b[0m\u001b[0mexecute\u001b[0m\u001b[0;34m(\u001b[0m\u001b[0;34m*\u001b[0m\u001b[0margs\u001b[0m\u001b[0;34m)\u001b[0m\u001b[0;34m\u001b[0m\u001b[0;34m\u001b[0m\u001b[0m\n\u001b[0m\u001b[1;32m   1728\u001b[0m         \u001b[0mcolumns\u001b[0m \u001b[0;34m=\u001b[0m \u001b[0;34m[\u001b[0m\u001b[0mcol_desc\u001b[0m\u001b[0;34m[\u001b[0m\u001b[0;36m0\u001b[0m\u001b[0;34m]\u001b[0m \u001b[0;32mfor\u001b[0m \u001b[0mcol_desc\u001b[0m \u001b[0;32min\u001b[0m \u001b[0mcursor\u001b[0m\u001b[0;34m.\u001b[0m\u001b[0mdescription\u001b[0m\u001b[0;34m]\u001b[0m\u001b[0;34m\u001b[0m\u001b[0;34m\u001b[0m\u001b[0m\n\u001b[1;32m   1729\u001b[0m \u001b[0;34m\u001b[0m\u001b[0m\n",
            "\u001b[0;32m/usr/local/lib/python3.6/dist-packages/pandas/io/sql.py\u001b[0m in \u001b[0;36mexecute\u001b[0;34m(self, *args, **kwargs)\u001b[0m\n\u001b[1;32m   1691\u001b[0m \u001b[0;34m\u001b[0m\u001b[0m\n\u001b[1;32m   1692\u001b[0m             \u001b[0mex\u001b[0m \u001b[0;34m=\u001b[0m \u001b[0mDatabaseError\u001b[0m\u001b[0;34m(\u001b[0m\u001b[0;34mf\"Execution failed on sql '{args[0]}': {exc}\"\u001b[0m\u001b[0;34m)\u001b[0m\u001b[0;34m\u001b[0m\u001b[0;34m\u001b[0m\u001b[0m\n\u001b[0;32m-> 1693\u001b[0;31m             \u001b[0;32mraise\u001b[0m \u001b[0mex\u001b[0m \u001b[0;32mfrom\u001b[0m \u001b[0mexc\u001b[0m\u001b[0;34m\u001b[0m\u001b[0;34m\u001b[0m\u001b[0m\n\u001b[0m\u001b[1;32m   1694\u001b[0m \u001b[0;34m\u001b[0m\u001b[0m\n\u001b[1;32m   1695\u001b[0m     \u001b[0;34m@\u001b[0m\u001b[0mstaticmethod\u001b[0m\u001b[0;34m\u001b[0m\u001b[0;34m\u001b[0m\u001b[0m\n",
            "\u001b[0;31mDatabaseError\u001b[0m: Execution failed on sql 'select COUNT(AlbumId) as a from artists left join albums on artists.ArtistId = albums.ArtistId group by ArtistId': ambiguous column name: ArtistId"
          ]
        }
      ]
    },
    {
      "cell_type": "markdown",
      "metadata": {
        "id": "Tfqb9UHAX6Zi"
      },
      "source": [
        "![](https://cdn.sqlitetutorial.net/wp-content/uploads/2018/03/sqlite-sample-database-diagram-color.pdf)"
      ]
    },
    {
      "cell_type": "markdown",
      "metadata": {
        "id": "myDJSlI-RrZA"
      },
      "source": [
        "## Helper Functions"
      ]
    },
    {
      "cell_type": "markdown",
      "metadata": {
        "id": "ENbW_7PcRrZB"
      },
      "source": [
        "## Plot for the Blog Post"
      ]
    },
    {
      "cell_type": "markdown",
      "metadata": {
        "id": "2deF47kQRrZC"
      },
      "source": [
        "## Sources\n",
        "\n",
        "- Hello This is a markdown page {% cite signaltrain %}\n",
        "- http://openbook.rheinwerk-verlag.de/python/33_003.html#u33.3.1\n",
        "- https://www.sqlitetutorial.net/sqlite-left-join/\n",
        "- https://realpython.com/python-sqlite-sqlalchemy/"
      ]
    },
    {
      "cell_type": "markdown",
      "metadata": {
        "id": "uctOGIHYRrZC"
      },
      "source": [
        "## References"
      ]
    },
    {
      "cell_type": "markdown",
      "metadata": {
        "id": "MUbGnRhiRrZD"
      },
      "source": [
        "{% bibliography --cited %}"
      ]
    }
  ]
}