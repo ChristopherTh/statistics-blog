{
 "cells": [
  {
   "cell_type": "markdown",
   "metadata": {},
   "source": [
    "# \"Generalized Linear Models\"\n",
    "> \"My reference notebook for the glm.\"\n",
    "\n",
    "- author: Christopher Thiemann\n",
    "- toc: true\n",
    "- branch: master\n",
    "- badges: true\n",
    "- comments: true\n",
    "- categories: [statistics, regression]\n",
    "- hide: false\n",
    "- search_exclude: true\n",
    "- image: images/poisson.png"
   ]
  },
  {
   "cell_type": "markdown",
   "metadata": {},
   "source": [
    "#hide\n",
    "Hello This is a markdown page {% cite signaltrain %}"
   ]
  },
  {
   "cell_type": "code",
   "execution_count": 1,
   "metadata": {},
   "outputs": [],
   "source": [
    "import numpy as np\n",
    "import statsmodels.api as sm\n",
    "import matplotlib.pyplot as plt\n",
    "import seaborn as sns; sns.set()\n",
    "import pandas as pd\n",
    "%load_ext rpy2.ipython"
   ]
  },
  {
   "cell_type": "code",
   "execution_count": 181,
   "metadata": {},
   "outputs": [
    {
     "data": {
      "image/png": "[encoded data removed]"
     },
     "metadata": {},
     "output_type": "display_data"
    },
    {
     "data": {
      "image/png": "[encoded data removed]"
     },
     "metadata": {},
     "output_type": "display_data"
    }
   ],
   "source": [
    "%%R\n",
    "library(GLMsData)\n",
    "library(statmod)\n",
    "data(trees)\n",
    "test <- glm(Volume ~ log(Girth) + log(Height),\n",
    "                       family=Gamma(link=log),\n",
    "                       data = trees)\n",
    "termplot(test)"
   ]
  },
  {
   "cell_type": "code",
   "execution_count": 177,
   "metadata": {},
   "outputs": [
    {
     "name": "stdout",
     "output_type": "stream",
     "text": [
      "[0.15137988 0.16720986 0.19753587 0.05885776 0.12137312 0.15204507\n",
      " 0.11943164 0.05063703 0.09064522 0.0464631  0.07215894 0.04640131\n",
      " 0.04640131 0.07274876 0.0355806  0.0356386  0.11634535 0.12550467\n",
      " 0.07113393 0.24276869 0.03750002 0.04611522 0.05388005 0.11447309\n",
      " 0.07092367 0.08546694 0.09158618 0.0982445  0.10062086 0.10062086\n",
      " 0.1803079 ]\n"
     ]
    }
   ],
   "source": [
    "df = %R trees\n",
    "from math import e\n",
    "df['const'] = e\n",
    "model = sm.GLM(df.Volume,\n",
    "               np.log(df[['Girth', 'Height', 'const']]),\n",
    "              family = sm.families.Gamma(sm.families.links.log())).fit()\n",
    "\n",
    "print(model.get_hat_matrix_diag(observed = False))"
   ]
  },
  {
   "cell_type": "code",
   "execution_count": 76,
   "metadata": {},
   "outputs": [
    {
     "data": {
      "text/plain": [
       "array([-12.60016831, -12.07476618, -12.88977745,         -inf,\n",
       "               -inf,         -inf,         -inf,         -inf,\n",
       "       -16.48231214, -18.93575586, -16.01097737, -18.90184158,\n",
       "       -17.68074307, -15.89876804,         -inf,         -inf,\n",
       "       -19.20825567,         -inf,         -inf,         -inf,\n",
       "       -20.65439011,         -inf, -19.99125293, -29.28298215,\n",
       "               -inf, -25.73351869, -27.19694238, -26.49680107,\n",
       "               -inf,         -inf,         -inf])"
      ]
     },
     "execution_count": 76,
     "metadata": {},
     "output_type": "execute_result"
    }
   ],
   "source": [
    "from scipy.stats import gamma, norm\n",
    "aaa = gamma.cdf(df.Volume, model.predict(), loc = model.predict(), scale =  1 / model.scale)\n",
    "df_test = pd.DataFrame()\n",
    "norm.ppf(aaa, loc=0, scale=1)\n",
    "#df_test['quantile_residuals'].clip(-10, 10, inplace = True)"
   ]
  },
  {
   "cell_type": "code",
   "execution_count": 161,
   "metadata": {},
   "outputs": [
    {
     "data": {
      "text/plain": [
       "6.376862177015887e-23"
      ]
     },
     "execution_count": 161,
     "metadata": {},
     "output_type": "execute_result"
    }
   ],
   "source": [
    "from tweedie import tweedie\n",
    "norm.ppf(gamma.cdf( df.Volume/ model.predict() / model.scale, 1 / model.scale )\n",
    ", loc=0, scale=1)\n",
    "\n",
    "gamma.cdf( df.Volume[0] , \n",
    "          a=  1 / (model.scale * model.predict()[0]),          loc = model.predict()[0],\n",
    "          scale = np.sqrt(model.scale * model.predict()[0] ** 2))"
   ]
  },
  {
   "cell_type": "code",
   "execution_count": 142,
   "metadata": {},
   "outputs": [
    {
     "data": {
      "text/plain": [
       "0.2979869527983411"
      ]
     },
     "execution_count": 142,
     "metadata": {},
     "output_type": "execute_result"
    }
   ],
   "source": [
    "(df.Volume - model.predict())[0] / (model.scale * model.predict())[0] ** 2)"
   ]
  },
  {
   "cell_type": "code",
   "execution_count": 112,
   "metadata": {},
   "outputs": [
    {
     "data": {
      "text/plain": [
       "0.6050873519451425"
      ]
     },
     "execution_count": 112,
     "metadata": {},
     "output_type": "execute_result"
    }
   ],
   "source": [
    "from scipy.optimize import minimize_scalar\n",
    "\n",
    "tweedie(p=2, mu=model.predict()[0], phi=model.scale).cdf(df.Volume[0])\n",
    "\n"
   ]
  },
  {
   "cell_type": "markdown",
   "metadata": {},
   "source": [
    "## Motivation"
   ]
  },
  {
   "cell_type": "markdown",
   "metadata": {},
   "source": [
    "## The Model"
   ]
  },
  {
   "cell_type": "markdown",
   "metadata": {},
   "source": [
    "## Diagnostics"
   ]
  },
  {
   "cell_type": "markdown",
   "metadata": {},
   "source": [
    "### Residuals"
   ]
  },
  {
   "cell_type": "markdown",
   "metadata": {},
   "source": [
    "#### Respones Residual"
   ]
  },
  {
   "cell_type": "markdown",
   "metadata": {},
   "source": [
    "*Response residuals* are defined as \n",
    "\n",
    "$y_i - \\hat{\\mu}_i$\n",
    "\n",
    "the problem with this definition is that these residuals are not necessarily normal when $y_i$ is from an EDM for example a Gamma distribution."
   ]
  },
  {
   "cell_type": "markdown",
   "metadata": {},
   "source": [
    "#### Pearson Residuals"
   ]
  },
  {
   "cell_type": "markdown",
   "metadata": {},
   "source": [
    "This motivates the use of *person residuals* which basicyally scale the respose residual such that they have constant variacne\n",
    "\n",
    "$r_P = \\frac{y-\\hat{\\mu}}{\\sqrt{V(\\hat{\\mu})/w}} $\n",
    "\n",
    "THe *deviance residuals are defined as \n",
    "\n",
    "$r_D = sign(y-\\hat{\\mu})\\sqrt{w d(y-\\hat{\\mu})}$"
   ]
  },
  {
   "cell_type": "markdown",
   "metadata": {},
   "source": [
    "#### Quantile Residuals"
   ]
  },
  {
   "cell_type": "markdown",
   "metadata": {},
   "source": [
    "### Leverages"
   ]
  },
  {
   "cell_type": "markdown",
   "metadata": {},
   "source": [
    "#Python\n",
    "fitted_model.get_hat_matrix_diag(observed = False)\n",
    "\n",
    "#R\n",
    "hatvalues(fitted_model)"
   ]
  },
  {
   "cell_type": "markdown",
   "metadata": {},
   "source": [
    "### Independence"
   ]
  },
  {
   "cell_type": "markdown",
   "metadata": {},
   "source": [
    "Plot Residuals in a lagged plot i.e. $e_i$ against $e_{i-1}$"
   ]
  },
  {
   "cell_type": "markdown",
   "metadata": {},
   "source": [
    "### Check systematic component"
   ]
  },
  {
   "cell_type": "markdown",
   "metadata": {},
   "source": [
    "standadized deviance and /or quantile against explanatory variables\n",
    "\n",
    "there should be no trends\n",
    "\n",
    "constant variance\n",
    "\n",
    "fr fitted agaisnt residuals transform muhat"
   ]
  },
  {
   "cell_type": "code",
   "execution_count": 180,
   "metadata": {},
   "outputs": [
    {
     "name": "stderr",
     "output_type": "stream",
     "text": [
      "R[write to console]: Fehler in library(BostonHousing) : \n",
      "  es gibt kein Paket namens ‘BostonHousing’\n",
      "\n",
      "R[write to console]: Zusätzlich: \n",
      "R[write to console]: Warnmeldung:\n",
      "\n",
      "R[write to console]: package ‘BostonHousing’ is not available (for R version 3.6.3) \n",
      "\n"
     ]
    },
    {
     "name": "stdout",
     "output_type": "stream",
     "text": [
      "\n",
      "Fehler in library(BostonHousing) : \n",
      "  es gibt kein Paket namens ‘BostonHousing’\n"
     ]
    }
   ],
   "source": [
    "%%R\n",
    "library(BostonHousing)"
   ]
  },
  {
   "cell_type": "markdown",
   "metadata": {},
   "source": [
    "### Assumptions"
   ]
  },
  {
   "cell_type": "markdown",
   "metadata": {},
   "source": [
    "### Some Theory"
   ]
  },
  {
   "cell_type": "markdown",
   "metadata": {},
   "source": [
    "### Interpretation"
   ]
  },
  {
   "cell_type": "markdown",
   "metadata": {},
   "source": [
    "### Extensions"
   ]
  },
  {
   "cell_type": "markdown",
   "metadata": {},
   "source": [
    "## Simulations"
   ]
  },
  {
   "cell_type": "markdown",
   "metadata": {},
   "source": [
    "## Real world example"
   ]
  },
  {
   "cell_type": "markdown",
   "metadata": {},
   "source": [
    "## Helper Functions"
   ]
  },
  {
   "cell_type": "markdown",
   "metadata": {},
   "source": [
    "## Plot for the Blog Post"
   ]
  },
  {
   "cell_type": "code",
   "execution_count": null,
   "metadata": {},
   "outputs": [],
   "source": []
  },
  {
   "cell_type": "markdown",
   "metadata": {},
   "source": [
    "## References"
   ]
  },
  {
   "cell_type": "markdown",
   "metadata": {},
   "source": [
    "{% bibliography --cited %}"
   ]
  }
 ],
 "metadata": {
  "kernelspec": {
   "display_name": "Python 3.8.3 64-bit",
   "language": "python",
   "name": "python38364bit154eb24c3b124597acbf66f2245041ba"
  },
  "language_info": {
   "codemirror_mode": {
    "name": "ipython",
    "version": 3
   },
   "file_extension": ".py",
   "mimetype": "text/x-python",
   "name": "python",
   "nbconvert_exporter": "python",
   "pygments_lexer": "ipython3",
   "version": "3.8.3"
  }
 },
 "nbformat": 4,
 "nbformat_minor": 4
}
