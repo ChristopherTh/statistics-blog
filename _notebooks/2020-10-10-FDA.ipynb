{
  "nbformat": 4,
  "nbformat_minor": 0,
  "metadata": {
    "kernelspec": {
      "name": "Python 3.7.9 64-bit ('statistics_blog': conda)",
      "display_name": "Python 3.7.9 64-bit ('statistics_blog': conda)",
      "metadata": {
        "interpreter": {
          "hash": "1903b2bc6fa09ef9a571b65384e6224e56d66c2aef7136d7796c6206344f5845"
        }
      }
    },
    "language_info": {
      "codemirror_mode": {
        "name": "ipython",
        "version": 3
      },
      "file_extension": ".py",
      "mimetype": "text/x-python",
      "name": "python",
      "nbconvert_exporter": "python",
      "pygments_lexer": "ipython3",
      "version": "3.7.9-final"
    },
    "colab": {
      "name": "base_notebook.ipynb",
      "provenance": []
    }
  },
  "cells": [
    {
      "cell_type": "markdown",
      "metadata": {
        "id": "I8XP3NRkYco5"
      },
      "source": [
        "# \"Functional Data Analysis\"\n",
        "> \"My refernce notebook for fda.\"\n",
        "\n",
        "- author: Christopher Thiemann\n",
        "- toc: true\n",
        "- branch: master\n",
        "- badges: true\n",
        "- comments: true\n",
        "- categories: [statistics, functional data analysis]\n",
        "- hide: false\n",
        "- search_exclude: true"
      ]
    },
    {
      "cell_type": "code",
      "metadata": {
        "id": "DOCkJPjjYco6"
      },
      "source": [
        "#hide\n",
        "import warnings\n",
        "\n",
        "\n",
        "import numpy as np\n",
        "import scipy as sp\n",
        "import sklearn\n",
        "import statsmodels.api as sm\n",
        "from statsmodels.formula.api import ols\n",
        "\n",
        "\n",
        "import matplotlib as mpl\n",
        "import matplotlib.pyplot as plt\n",
        "%matplotlib inline\n",
        "%config InlineBackend.figure_format = 'retina'\n",
        "\n",
        "import seaborn as sns\n",
        "sns.set_context(\"poster\")\n",
        "sns.set(rc={'figure.figsize': (16, 9.)})\n",
        "sns.set_style(\"whitegrid\")\n",
        "\n",
        "import pandas as pd\n",
        "pd.set_option(\"display.max_rows\", 120)\n",
        "pd.set_option(\"display.max_columns\", 120)\n",
        "\n",
        "# supress warnings related to r\n",
        "from rpy2.rinterface import RRuntimeWarning\n",
        "warnings.filterwarnings('ignore', category= FutureWarning)\n",
        "warnings.filterwarnings('ignore', category= RRuntimeWarning)\n",
        "\n",
        "#load the r interface\n",
        "%load_ext rpy2.ipython\n",
        "from rpy2.robjects import pandas2ri\n",
        "pandas2ri.activate()\n",
        "\n",
        "import rpy2.interactive as r\n",
        "import rpy2.interactive.packages # this can take few seconds\n",
        "rlib = r.packages.packages\n",
        "r.packages.importr(\"utils\")\n",
        "rlib.utils.install_packages(\"tidyverse\")\n",
        "rlib.utils.install_packages(\"GGally\")"
      ],
      "execution_count": null,
      "outputs": []
    },
    {
      "cell_type": "code",
      "metadata": {
        "id": "ZsQEe4oAYcpH"
      },
      "source": [
        "#hide\n",
        "# load r packages\n",
        "%%R \n",
        "library(tidyverse)\n",
        "library(GGally)"
      ],
      "execution_count": null,
      "outputs": []
    },
    {
      "cell_type": "markdown",
      "metadata": {
        "id": "FjSesk51YcpK"
      },
      "source": [
        "## Helper Functions"
      ]
    },
    {
      "cell_type": "markdown",
      "metadata": {
        "id": "1g6yJAqBYcpL"
      },
      "source": [
        "## Plot for the Blog Post"
      ]
    },
    {
      "cell_type": "markdown",
      "metadata": {
        "id": "Ddp5cRX8YcpM"
      },
      "source": [
        "## Sources\n",
        "\n",
        "- Hello This is a markdown page {% cite signaltrain %}\n",
        "- [Link](http://anson.ucdavis.edu/~mueller/Review151106.pdf)\n",
        "- http://faculty.marshall.usc.edu/gareth-james/Research/fpc.pdf\n",
        "- https://edoc.hu-berlin.de/bitstream/handle/18452/16237/benko.pdf?sequence=1\n",
        "- https://ciencias.medellin.unal.edu.co/eventos/seminario-institucional/images/presentaciones/pres_nedret.pdf\n",
        "- http://faculty.bscb.cornell.edu/~hooker/ShortCourseHandout.pdf\n",
        "- http://hss.ulb.uni-bonn.de/2018/5070/5070.pdf\n"
      ]
    },
    {
      "cell_type": "markdown",
      "metadata": {
        "id": "rF2jgUjyYcpN"
      },
      "source": [
        "## References"
      ]
    },
    {
      "cell_type": "markdown",
      "metadata": {
        "id": "t1YQWaTaYcpO"
      },
      "source": [
        "{% bibliography --cited %}"
      ]
    }
  ]
}