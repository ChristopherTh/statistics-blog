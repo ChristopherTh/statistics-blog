{
 "cells": [
  {
   "cell_type": "markdown",
   "metadata": {},
   "source": [
    "# \"Singular Value Decomposition\"\n",
    "> \"My reference notebook for the SVD.\"\n",
    "\n",
    "- author: Christopher Thiemann\n",
    "- toc: true\n",
    "- branch: master\n",
    "- badges: true\n",
    "- comments: true\n",
    "- categories: [mathematics, linear algebra]\n",
    "- hide: false\n",
    "- search_exclude: true"
   ]
  },
  {
   "cell_type": "code",
   "execution_count": 141,
   "metadata": {},
   "outputs": [],
   "source": [
    "#hide\n",
    "import numpy as np \n",
    "from numpy.linalg import svd\n",
    "import matplotlib.pyplot as plt\n",
    "import pandas as pd"
   ]
  },
  {
   "cell_type": "markdown",
   "metadata": {},
   "source": [
    "#hide\n",
    "Hello This is a markdown page {% cite signaltrain %}\n",
    "- image: images/poisson.png"
   ]
  },
  {
   "cell_type": "markdown",
   "metadata": {},
   "source": [
    "## Motivation\n",
    "\n",
    "Mainly inspired by this post by Daniela Witten when she was the author of the Women in stat twitter account. I will collect here tricks and ideas behind the SVD.\n"
   ]
  },
  {
   "source": [
    "> twitter: https://twitter.com/WomenInStat/status/1285610321747611653"
   ],
   "cell_type": "markdown",
   "metadata": {}
  },
  {
   "cell_type": "markdown",
   "metadata": {},
   "source": [
    "## The Model\n",
    "\n",
    "$X=UDV^T$\n",
    "\n",
    "$X \\in \\mathbb{R}^{n \\times p}$, w.log $n > p$ in the statsitics context we can think of X as the data matrix, here in most cases we indeed have more observations then variables. $U$ is an $n \\times p$ matrix, and $D$ and $V$ have dimension $p \\times p.\n",
    "\n",
    "decomposiition is unuqie\n",
    "\n",
    "$U$ and $V$ are orthorgonal so it holds that  $U^T U = I$,  $V V^T = I$ and $V^T V = I$ (she writes $U U^T \\neq I$ why? need to check this) the columns of $U$ and $V$ are called the left and right singular vectors\n",
    "\n",
    "$D$ is diagonal with nonnegative and decreasing elements: $D_{11} \\geq D_{22} \\geq \\ldots \\geq D_{pp} \\geq 0$ these are called *singular values*\n",
    "\n",
    "In words the idea behind SVD is as follows. Given some matrix  Recall that this is a mapping which takes a p dimensional vector as input and and transforms it into a n dimensional vector. Graphically it stretches the vector and rotates it. The SVD decomposes this operations in its seperate parts. To do this we take a orthonormal basis in the p dimensional space, apply the X mapping to get a new basis in n.\n",
    "\n",
    "\n",
    "number non zero singular values is the rank\n",
    "\n",
    "high colinearity if d_11 / d_pp is \"large\"\n",
    "\n"
   ]
  },
  {
   "source": [
    "## computing svds\n",
    "\n",
    "$X'X=V \\Sigma^2 V'$\n",
    "\n",
    "$X'XV=V \\Sigma^2$ (eigenvalue problem) -> $\\lambda_j=\\sigma_j^2$ and eigenvectors are $V$\n",
    "\n",
    "$X X'=U=U \\Sigma^2$"
   ],
   "cell_type": "markdown",
   "metadata": {}
  },
  {
   "source": [
    "### Intuition\n",
    "\n",
    "Rewrite as $XV=UD$. Remember $U$ and $V$ are orthonormal basis. So X acts on its orthonormal system by stretching and rotating it. \"XV \\approx U$ captures the rotaing of the basis (up to to stretching) finally we stretch it to the correct position by ultipling with the singular values"
   ],
   "cell_type": "markdown",
   "metadata": {}
  },
  {
   "source": [
    "## Missing Value imputation\n",
    "\n",
    "See gives a recipe to fill in missing values, assuming they are missing at random. The procedure is as follows:\n",
    "\n",
    "- Fill in missing values with mean of column\n",
    "- calc svd\n",
    "- get rank k approximation\n",
    "- replace the entries at the missing values with the rank k approxmation\n",
    "- repeat until convergence\n",
    "\n"
   ],
   "cell_type": "markdown",
   "metadata": {}
  },
  {
   "cell_type": "markdown",
   "metadata": {},
   "source": [
    "## Helper Functions"
   ]
  },
  {
   "cell_type": "code",
   "execution_count": 257,
   "metadata": {},
   "outputs": [],
   "source": [
    "def rank_k_approx(A, k):\n",
    "    \"\"\"A is matrix to be approximated.\"\"\"\n",
    "\n",
    "    k = k -1 #for python indexing, if i want rank 1 approx need to index with 0\n",
    "\n",
    "\n",
    "    U, D, V_T = svd(A,\n",
    "                    full_matrices=False,\n",
    "                    compute_uv=True,\n",
    "                    hermitian=False)\n",
    "\n",
    "\n",
    "    return U[:, :k] @ np.diag(D)[:k, :k] @ V_T[:k, :]\n",
    "\n",
    "def svd_impute(df, k):\n",
    "\n",
    "    df_work = df.copy()\n",
    "\n",
    "    #impute with mean\n",
    "    df_work.fillna(df_work.mean(), axis = 0, inplace = True)\n",
    "\n",
    "    err = []\n",
    "    while True:\n",
    "\n",
    "        approx = rank_k_approx(df_work, k)\n",
    "\n",
    "        approx = pd.DataFrame(approx)\n",
    "\n",
    "        df_work_proposal = df.combine_first(approx)\n",
    "\n",
    "        current_error = np.linalg.norm(df_work_proposal - df_work, ord = 'fro')\n",
    "\n",
    "        err.append(current_error)\n",
    "\n",
    "\n",
    "        if current_error < .005:\n",
    "\n",
    "            return df_work_proposal, err\n",
    "\n",
    "        else:\n",
    "\n",
    "            df_work = df_work_proposal\n",
    "\n",
    "\n",
    "\n",
    "\n",
    "\n",
    "\n",
    "\n",
    "\n",
    "\n"
   ]
  },
  {
   "cell_type": "markdown",
   "metadata": {},
   "source": [
    "## Plot for the Blog Post"
   ]
  },
  {
   "cell_type": "code",
   "execution_count": null,
   "metadata": {},
   "outputs": [],
   "source": []
  },
  {
   "source": [
    "## Sources\n",
    "\n",
    "- https://www.youtube.com/watch?v=EokL7E6o1AE&list=PLtnewl6Gh3udJIG9w1EqHqqTG0tH0YSCx&index=10&t=69s\n"
   ],
   "cell_type": "markdown",
   "metadata": {}
  },
  {
   "cell_type": "markdown",
   "metadata": {},
   "source": [
    "## References"
   ]
  },
  {
   "cell_type": "markdown",
   "metadata": {},
   "source": [
    "{% bibliography --cited %}"
   ]
  }
 ],
 "metadata": {
  "kernelspec": {
   "name": "Python 3.8.2 64-bit ('new_base': conda)",
   "display_name": "Python 3.8.2 64-bit ('new_base': conda)",
   "metadata": {
    "interpreter": {
     "hash": "53a41db535624128ff192d41e12e439784dfeec1ad5ca9ac843ae27fdce331fa"
    }
   }
  },
  "language_info": {
   "codemirror_mode": {
    "name": "ipython",
    "version": 3
   },
   "file_extension": ".py",
   "mimetype": "text/x-python",
   "name": "python",
   "nbconvert_exporter": "python",
   "pygments_lexer": "ipython3",
   "version": "3.8.2-final"
  }
 },
 "nbformat": 4,
 "nbformat_minor": 4
}