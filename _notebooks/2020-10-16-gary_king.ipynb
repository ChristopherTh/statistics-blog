{
  "nbformat": 4,
  "nbformat_minor": 0,
  "metadata": {
    "kernelspec": {
      "name": "Python 3.7.9 64-bit ('statistics_blog': conda)",
      "display_name": "Python 3.7.9 64-bit ('statistics_blog': conda)",
      "metadata": {
        "interpreter": {
          "hash": "1903b2bc6fa09ef9a571b65384e6224e56d66c2aef7136d7796c6206344f5845"
        }
      }
    },
    "language_info": {
      "codemirror_mode": {
        "name": "ipython",
        "version": 3
      },
      "file_extension": ".py",
      "mimetype": "text/x-python",
      "name": "python",
      "nbconvert_exporter": "python",
      "pygments_lexer": "ipython3",
      "version": "3.7.9-final"
    },
    "colab": {
      "name": "base_notebook.ipynb",
      "provenance": [],
      "include_colab_link": true
    }
  },
  "cells": [
    {
      "cell_type": "markdown",
      "metadata": {
        "id": "2fBsh9c6Vqmm"
      },
      "source": [
        "# \"Gary King G2001 Course Notes\"\n",
        "> \"My notes on his video lecture series.\"\n",
        "\n",
        "- author: Christopher Thiemann\n",
        "- toc: true\n",
        "- branch: master\n",
        "- badges: true\n",
        "- comments: true\n",
        "- categories: [statistics, ]\n",
        "- hide: false\n",
        "- search_exclude: true\n",
        "- image: images/poisson.png"
      ]
    },
    {
      "cell_type": "code",
      "metadata": {
        "id": "bLOcOJdJVqmn"
      },
      "source": [
        "#hide\n",
        "%%capture\n",
        "import warnings\n",
        "\n",
        "\n",
        "import numpy as np\n",
        "import scipy as sp\n",
        "import sklearn\n",
        "import statsmodels.api as sm\n",
        "from statsmodels.formula.api import ols\n",
        "\n",
        "\n",
        "import matplotlib as mpl\n",
        "import matplotlib.pyplot as plt\n",
        "%matplotlib inline\n",
        "%config InlineBackend.figure_format = 'retina'\n",
        "\n",
        "import seaborn as sns\n",
        "sns.set_context(\"poster\")\n",
        "sns.set(rc={'figure.figsize': (16, 9.)})\n",
        "sns.set_style(\"whitegrid\")\n",
        "\n",
        "import pandas as pd\n",
        "pd.set_option(\"display.max_rows\", 120)\n",
        "pd.set_option(\"display.max_columns\", 120)\n",
        "\n",
        "# supress warnings related to r\n",
        "from rpy2.rinterface import RRuntimeWarning\n",
        "warnings.filterwarnings('ignore', category= FutureWarning)\n",
        "warnings.filterwarnings('ignore', category= RRuntimeWarning)\n",
        "\n",
        "#load the r interface\n",
        "%load_ext rpy2.ipython\n",
        "from rpy2.robjects import pandas2ri\n",
        "pandas2ri.activate()\n",
        "\n",
        "import rpy2.interactive as r\n",
        "import rpy2.interactive.packages # this can take few seconds\n",
        "rlib = r.packages.packages\n",
        "r.packages.importr(\"utils\")\n",
        "rlib.utils.install_packages(\"tidyverse\")\n",
        "rlib.utils.install_packages(\"GGally\")"
      ],
      "execution_count": 1,
      "outputs": []
    },
    {
      "cell_type": "code",
      "metadata": {
        "id": "npGttLcsVqms",
        "outputId": "251b7cea-4ee4-4df7-8b97-d39546869385",
        "colab": {
          "base_uri": "https://localhost:8080/",
          "height": 272
        }
      },
      "source": [
        "#hide\n",
        "# load r packages\n",
        "%%R \n",
        "library(tidyverse, quietly = TRUE)\n",
        "library(GGally, quietly = TRUE)"
      ],
      "execution_count": 2,
      "outputs": [
        {
          "output_type": "stream",
          "text": [
            "R[write to console]: ── Attaching packages ─────────────────────────────────────── tidyverse 1.3.0 ──\n",
            "\n",
            "R[write to console]: ✔ ggplot2 3.3.2     ✔ purrr   0.3.4\n",
            "✔ tibble  3.0.4     ✔ dplyr   1.0.2\n",
            "✔ tidyr   1.1.2     ✔ stringr 1.4.0\n",
            "✔ readr   1.4.0     ✔ forcats 0.5.0\n",
            "\n",
            "R[write to console]: ── Conflicts ────────────────────────────────────────── tidyverse_conflicts() ──\n",
            "✖ dplyr::filter() masks stats::filter()\n",
            "✖ dplyr::lag()    masks stats::lag()\n",
            "\n",
            "R[write to console]: Registered S3 method overwritten by 'GGally':\n",
            "  method from   \n",
            "  +.gg   ggplot2\n",
            "\n"
          ],
          "name": "stderr"
        }
      ]
    },
    {
      "cell_type": "markdown",
      "metadata": {
        "id": "O5e5ikGGWZwO"
      },
      "source": [
        "## 2. Statistical Models\n",
        "\n",
        "https://www.youtube.com/watch?v=qbxNf4iqJPo"
      ]
    },
    {
      "cell_type": "markdown",
      "metadata": {
        "id": "T9qgSgooWmsb"
      },
      "source": [
        "### Checking normality of the dependent variable of a linear model with a histogram is a bad idea\n",
        "\n",
        "I always believed that the process of ending up with a linear model is to plot the distribution of $y$ see that it follows a normal distribution or a distribution which is approx normal after a transformation i.e. log transform and then use the linar model. As it turns out this is not quite right, take for example the case where $y$ is wage and $X$ cointains only a dummy for gender. Then the distribution is probaply bimodel because of the wage gap. ONly if we **condition** on the gender then $y$ is normal or in the case of wage transformable to normal!!!!\n",
        "\n",
        "$y|X=women \\sim N(\\mu_i, \\sigma^2)$"
      ]
    },
    {
      "cell_type": "markdown",
      "metadata": {
        "id": "xlZI0V__YPxS"
      },
      "source": [
        "### General model description of the decomposition observed_data=systematic_component + stochastic/random_component\n",
        "\n",
        "$y_i \\sim f(\\theta_i , \\alpha)$ stochastic component\n",
        "\n",
        "$\\theta_i=g(x_i, \\beta)$ systematic component\n",
        "\n",
        "- $y_i$ is our dependent variable\n",
        "- $f$ is the density of our assumed distribution for $y$\n",
        "- $\\theta_i$ is some feature of the distribution which we want to model, often this is the mean but it can be any moment of the ditsrbution say the variance or some quantile...which we model dependnt of our exogenous variables and which of course varies over teh data (question to myself how to model say mean and variance together?)\n",
        "- $\\alpha$ is a feature of the distribution which stays constant think of $sigma$ in the linear model\n",
        "- $g$ is the link function\n",
        "- $x_i$ is the exogenous data\n",
        "- $\\beta$ effect coeficients\n"
      ]
    },
    {
      "cell_type": "code",
      "metadata": {
        "id": "xYO_a7duWYZM"
      },
      "source": [
        ""
      ],
      "execution_count": null,
      "outputs": []
    },
    {
      "cell_type": "markdown",
      "metadata": {
        "id": "ZoGDB3UlVqmv"
      },
      "source": [
        "## Helper Functions"
      ]
    },
    {
      "cell_type": "markdown",
      "metadata": {
        "id": "jiH63VZ2Vqmv"
      },
      "source": [
        "## Plot for the Blog Post"
      ]
    },
    {
      "cell_type": "markdown",
      "metadata": {
        "id": "HC2SxdZkVqmw"
      },
      "source": [
        "## Sources\n",
        "\n",
        "- Hello This is a markdown page {% cite signaltrain %}"
      ]
    },
    {
      "cell_type": "markdown",
      "metadata": {
        "id": "5fQjCZO0Vqmx"
      },
      "source": [
        "## References"
      ]
    },
    {
      "cell_type": "markdown",
      "metadata": {
        "id": "cFiq825PVqmy"
      },
      "source": [
        "{% bibliography --cited %}"
      ]
    },
    {
      "cell_type": "code",
      "metadata": {
        "id": "kFGWFFGAWWzP"
      },
      "source": [
        ""
      ],
      "execution_count": null,
      "outputs": []
    }
  ]
}