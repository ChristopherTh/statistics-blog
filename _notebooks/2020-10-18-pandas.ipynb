{
  "nbformat": 4,
  "nbformat_minor": 0,
  "metadata": {
    "kernelspec": {
      "name": "Python 3.7.9 64-bit ('statistics_blog': conda)",
      "display_name": "Python 3.7.9 64-bit ('statistics_blog': conda)",
      "metadata": {
        "interpreter": {
          "hash": "1903b2bc6fa09ef9a571b65384e6224e56d66c2aef7136d7796c6206344f5845"
        }
      }
    },
    "language_info": {
      "codemirror_mode": {
        "name": "ipython",
        "version": 3
      },
      "file_extension": ".py",
      "mimetype": "text/x-python",
      "name": "python",
      "nbconvert_exporter": "python",
      "pygments_lexer": "ipython3",
      "version": "3.7.9-final"
    },
    "colab": {
      "name": "base_notebook.ipynb",
      "provenance": []
    }
  },
  "cells": [
    {
      "cell_type": "markdown",
      "metadata": {
        "id": "hdkPk2fK-3Zn"
      },
      "source": [
        "# \"Pandas\"\n",
        "> \"Collection for all my ressources, snippets and tricks on pandas\"\n",
        "\n",
        "- author: Christopher Thiemann\n",
        "- toc: true\n",
        "- branch: master\n",
        "- badges: true\n",
        "- comments: true\n",
        "- categories: [python, ]\n",
        "- hide: false\n",
        "- search_exclude: true"
      ]
    },
    {
      "cell_type": "code",
      "metadata": {
        "id": "N7mpKfUJ-3Zo",
        "outputId": "f2d9eef9-5619-488d-b204-4b8555093e7b",
        "colab": {
          "base_uri": "https://localhost:8080/",
          "height": 51
        }
      },
      "source": [
        "#hide\n",
        "import warnings\n",
        "\n",
        "\n",
        "import numpy as np\n",
        "import scipy as sp\n",
        "import sklearn\n",
        "import statsmodels.api as sm\n",
        "from statsmodels.formula.api import ols\n",
        "\n",
        "\n",
        "import matplotlib as mpl\n",
        "import matplotlib.pyplot as plt\n",
        "%matplotlib inline\n",
        "%config InlineBackend.figure_format = 'retina'\n",
        "\n",
        "import seaborn as sns\n",
        "sns.set_context(\"poster\")\n",
        "sns.set(rc={'figure.figsize': (16, 9.)})\n",
        "sns.set_style(\"whitegrid\")\n",
        "\n",
        "import pandas as pd\n",
        "pd.set_option(\"display.max_rows\", 120)\n",
        "pd.set_option(\"display.max_columns\", 120)\n",
        "\n"
      ],
      "execution_count": 1,
      "outputs": [
        {
          "output_type": "stream",
          "text": [
            "/usr/local/lib/python3.6/dist-packages/statsmodels/tools/_testing.py:19: FutureWarning: pandas.util.testing is deprecated. Use the functions in the public API at pandas.testing instead.\n",
            "  import pandas.util.testing as tm\n"
          ],
          "name": "stderr"
        }
      ]
    },
    {
      "cell_type": "markdown",
      "metadata": {
        "id": "k9kqcPcL_Teq"
      },
      "source": [
        "## Pandas Pipe\n",
        "\n",
        "Pandas pipe functionality allows to write clean data preperation steps. Instead of having varaibles flying around like df1, df2 ,... the pipe chains a series of function calls on on dataframe. The mental model goes along like this\n",
        "\n",
        "df -> apply function -> apply function -> ...\n",
        "\n",
        "By seperating out each step as a function this has the advantage that you can save theem in  a seperate python file where you can test them with unitests. Below is a small example which illustrates the functionality. Note it might be the case that the pipeline changes the original dataframe thats why the first step in the pipeline returns just a copy (there is probably a better way to do it) secondly it should b possible to use the logging module to get a better insight of what the pipeline steps do.\n",
        "\n",
        "Source https://calmcode.io/pandas-pipe/end.html"
      ]
    },
    {
      "cell_type": "code",
      "metadata": {
        "id": "Ao0aAByyF6wx"
      },
      "source": [
        "list_df = pd.read_html(\"https://de.wikipedia.org/wiki/Liste_der_L%C3%A4nder_nach_Bruttoinlandsprodukt?oldformat=true\")"
      ],
      "execution_count": 69,
      "outputs": []
    },
    {
      "cell_type": "code",
      "metadata": {
        "id": "iTWbMJ3kGzcv"
      },
      "source": [
        "def deal_first_col(df_pipe):\n",
        "\n",
        "    df_pipe.columns = ['drop','Land','BIP in MIO US $ 2018', 'veränderung']\n",
        "\n",
        "\n",
        "\n",
        "    return df_pipe.iloc[:, 1:]\n",
        "\n",
        "def make_copy(df_pipe):\n",
        "\n",
        "    return df_pipe.copy()\n",
        "\n",
        "def set_dtypes(df_pipe, dtype_dict):\n",
        "    df_pipe['veränderung'] = df_pipe['veränderung'].str.replace(r\",\", \".\")\n",
        "\n",
        "    df_pipe['veränderung'] = df_pipe['veränderung'].str.replace(r\"\\xa0\", \"\")\n",
        "    df_pipe['veränderung'] = df_pipe['veränderung'].str.replace(r\"%\", \"\")\n",
        "    df_pipe['veränderung'] = df_pipe['veränderung'].str.replace(\"−\", \"-\")\n",
        "\n",
        "    df_pipe['BIP in MIO US $ 2018'] = df_pipe['BIP in MIO US $ 2018'].str.replace(r\".\", \"\")\n",
        "\n",
        "    return df_pipe.astype(dtype_dict)\n",
        "\n"
      ],
      "execution_count": 113,
      "outputs": []
    },
    {
      "cell_type": "code",
      "metadata": {
        "id": "uyjQ2d0AGEud",
        "outputId": "48323484-fdc9-4821-ac12-de0e0b4e4fe6",
        "colab": {
          "base_uri": "https://localhost:8080/",
          "height": 419
        }
      },
      "source": [
        "df = list_df[0]\n",
        "\n",
        "(df\n",
        "    .pipe(make_copy)\n",
        "    .pipe(deal_first_col)\n",
        "    .dropna()\n",
        "    .pipe(set_dtypes, {'BIP in MIO US $ 2018': int,\n",
        "                        'veränderung': float})\n",
        "    )\n"
      ],
      "execution_count": 115,
      "outputs": [
        {
          "output_type": "execute_result",
          "data": {
            "text/html": [
              "<div>\n",
              "<style scoped>\n",
              "    .dataframe tbody tr th:only-of-type {\n",
              "        vertical-align: middle;\n",
              "    }\n",
              "\n",
              "    .dataframe tbody tr th {\n",
              "        vertical-align: top;\n",
              "    }\n",
              "\n",
              "    .dataframe thead th {\n",
              "        text-align: right;\n",
              "    }\n",
              "</style>\n",
              "<table border=\"1\" class=\"dataframe\">\n",
              "  <thead>\n",
              "    <tr style=\"text-align: right;\">\n",
              "      <th></th>\n",
              "      <th>Land</th>\n",
              "      <th>BIP in MIO US $ 2018</th>\n",
              "      <th>veränderung</th>\n",
              "    </tr>\n",
              "  </thead>\n",
              "  <tbody>\n",
              "    <tr>\n",
              "      <th>0</th>\n",
              "      <td>Welt</td>\n",
              "      <td>84929508</td>\n",
              "      <td>5.80</td>\n",
              "    </tr>\n",
              "    <tr>\n",
              "      <th>1</th>\n",
              "      <td>Vereinigte Staaten</td>\n",
              "      <td>20580250</td>\n",
              "      <td>5.43</td>\n",
              "    </tr>\n",
              "    <tr>\n",
              "      <th>3</th>\n",
              "      <td>Europäische Union</td>\n",
              "      <td>18736855</td>\n",
              "      <td>4.67</td>\n",
              "    </tr>\n",
              "    <tr>\n",
              "      <th>4</th>\n",
              "      <td>Volksrepublik ChinaA1</td>\n",
              "      <td>13368073</td>\n",
              "      <td>10.83</td>\n",
              "    </tr>\n",
              "    <tr>\n",
              "      <th>5</th>\n",
              "      <td>Japan</td>\n",
              "      <td>4971767</td>\n",
              "      <td>2.30</td>\n",
              "    </tr>\n",
              "    <tr>\n",
              "      <th>...</th>\n",
              "      <td>...</td>\n",
              "      <td>...</td>\n",
              "      <td>...</td>\n",
              "    </tr>\n",
              "    <tr>\n",
              "      <th>194</th>\n",
              "      <td>Palau</td>\n",
              "      <td>284</td>\n",
              "      <td>-0.70</td>\n",
              "    </tr>\n",
              "    <tr>\n",
              "      <th>195</th>\n",
              "      <td>Marshallinseln</td>\n",
              "      <td>214</td>\n",
              "      <td>2.88</td>\n",
              "    </tr>\n",
              "    <tr>\n",
              "      <th>196</th>\n",
              "      <td>Kiribati</td>\n",
              "      <td>189</td>\n",
              "      <td>1.61</td>\n",
              "    </tr>\n",
              "    <tr>\n",
              "      <th>197</th>\n",
              "      <td>Nauru</td>\n",
              "      <td>112</td>\n",
              "      <td>1.82</td>\n",
              "    </tr>\n",
              "    <tr>\n",
              "      <th>198</th>\n",
              "      <td>Tuvalu</td>\n",
              "      <td>42</td>\n",
              "      <td>5.00</td>\n",
              "    </tr>\n",
              "  </tbody>\n",
              "</table>\n",
              "<p>195 rows × 3 columns</p>\n",
              "</div>"
            ],
            "text/plain": [
              "                      Land  BIP in MIO US $ 2018  veränderung\n",
              "0                     Welt              84929508         5.80\n",
              "1       Vereinigte Staaten              20580250         5.43\n",
              "3        Europäische Union              18736855         4.67\n",
              "4    Volksrepublik ChinaA1              13368073        10.83\n",
              "5                    Japan               4971767         2.30\n",
              "..                     ...                   ...          ...\n",
              "194                  Palau                   284        -0.70\n",
              "195         Marshallinseln                   214         2.88\n",
              "196               Kiribati                   189         1.61\n",
              "197                  Nauru                   112         1.82\n",
              "198                 Tuvalu                    42         5.00\n",
              "\n",
              "[195 rows x 3 columns]"
            ]
          },
          "metadata": {
            "tags": []
          },
          "execution_count": 115
        }
      ]
    },
    {
      "cell_type": "markdown",
      "metadata": {
        "id": "LXWaW6yf-3Zv"
      },
      "source": [
        "## Helper Functions"
      ]
    },
    {
      "cell_type": "markdown",
      "metadata": {
        "id": "hBixdn-5-3Zv"
      },
      "source": [
        "## Plot for the Blog Post"
      ]
    },
    {
      "cell_type": "markdown",
      "metadata": {
        "id": "-erIXYpX-3Zw"
      },
      "source": [
        "## Sources\n",
        "- [x] https://calmcode.io/pandas-pipe/end.html\n",
        "- [ ] https://www.dataschool.io/python-pandas-tips-and-tricks/\n",
        "- [ ] https://www.kaggle.com/python10pm/pandas-100-tricks\n",
        "- [ ] https://realpython.com/python-pandas-tricks/\n",
        "\n",
        "- [ ] https://github.com/BrendaHali/python_cheat_sheets/blob/master/pandas-cheat-sheet.ipynb\n",
        "\n",
        "- [ ] https://github.com/Zsailer/pandas_flavor\n",
        "\n",
        "- [ ] https://github.com/pandera-dev/pandera\n",
        "\n",
        "- [ ] https://github.com/firmai/pandasvault\n",
        "\n",
        "- [ ] https://github.com/pandas-ml/pandas-ml\n",
        "\n",
        "- [ ] https://github.com/TMiguelT/PandasSchema\n",
        "\n",
        "- [ ] https://github.com/PatrikHlobil/Pandas-Bokeh\n",
        "\n",
        "- [ ] https://github.com/pdpipe/pdpipe\n",
        "\n",
        "- [ ] https://github.com/vaexio/vaex\n",
        "\n",
        "- [ ] siuba\n",
        "\n",
        "- [ ] ibis\n",
        "\n",
        "- [ ] https://github.com/modin-project/modin\n",
        "\n",
        "- [ ] https://github.com/nalepae/pandarallel\n",
        "\n",
        "- [ ] https://github.com/engarde-dev/engarde\n",
        "\n",
        "- [ ] https://github.com/santosjorge/cufflinks\n",
        "\n",
        "- [ ] https://github.com/ZaxR/bulwark\n",
        "\n",
        "- [ ] https://github.com/pandas-profiling/pandas-profiling\n",
        "\n",
        "- [ ] https://github.com/pandas-dev/pandas\n",
        "\n",
        "- [ ] https://github.com/kieferk/dfply\n",
        "\n",
        "- [ ] https://github.com/pydata/pandas-datareader\n",
        "\n",
        "- [ ] https://github.com/man-group/dtale\n",
        "\n",
        "- [ ] https://github.com/jvns/pandas-cookbook\n",
        "\n",
        "- [ ] https://twitter.com/data_cheeves/status/1183464943149965312\n",
        "\n",
        "- [ ] https://github.com/nalepae/pandarallel\n",
        "\n",
        "- [ ] https://github.com/jmcarpenter2/swifter/blob/master/examples/swifter_apply_examples.ipynb\n",
        "\n",
        "- [ ] https://github.com/firmai/pandapy\n",
        "\n",
        "- [ ] https://github.com/IntelPython/sdc\n",
        "\n",
        "- [ ] https://github.com/chezou/tabula-py\n",
        "\n",
        "- [ ] https://tomaugspurger.github.io/archives.html\n",
        "\n",
        "- [ ] https://github.com/TomAugspurger/effective-pandas\n",
        "\n",
        "- [ ] https://github.com/PatrikHlobil/Pandas-Bokeh\n",
        "\n",
        "- [ ] https://twitter.com/jschwabish/status/1290323581881266177\n",
        "- [ ] https://twitter.com/TedPetrou/status/1282378990561439746\n",
        "- [ ] https://www.allthesnippets.com/search/\n",
        "- [ ] https://github.com/yhat/pandasql/\n"
      ]
    },
    {
      "cell_type": "markdown",
      "metadata": {
        "id": "W831Gg-Q-3Zw"
      },
      "source": [
        "## References"
      ]
    },
    {
      "cell_type": "markdown",
      "metadata": {
        "id": "BJvsMn6l-3Zx"
      },
      "source": [
        "{% bibliography --cited %}"
      ]
    }
  ]
}