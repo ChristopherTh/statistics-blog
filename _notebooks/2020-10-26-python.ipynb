{
  "nbformat": 4,
  "nbformat_minor": 0,
  "metadata": {
    "kernelspec": {
      "name": "Python 3.7.9 64-bit ('statistics_blog': conda)",
      "display_name": "Python 3.7.9 64-bit ('statistics_blog': conda)",
      "metadata": {
        "interpreter": {
          "hash": "1903b2bc6fa09ef9a571b65384e6224e56d66c2aef7136d7796c6206344f5845"
        }
      }
    },
    "language_info": {
      "codemirror_mode": {
        "name": "ipython",
        "version": 3
      },
      "file_extension": ".py",
      "mimetype": "text/x-python",
      "name": "python",
      "nbconvert_exporter": "python",
      "pygments_lexer": "ipython3",
      "version": "3.7.9-final"
    },
    "colab": {
      "name": "base_notebook.ipynb",
      "provenance": []
    }
  },
  "cells": [
    {
      "cell_type": "markdown",
      "metadata": {
        "id": "LEt71BNVhCyq"
      },
      "source": [
        "# \"Python\"\n",
        "> \"Subheader\"\n",
        "\n",
        "- author: Christopher Thiemann\n",
        "- toc: true\n",
        "- branch: master\n",
        "- badges: true\n",
        "- comments: true\n",
        "- categories: [python, ]\n",
        "- hide: true\n",
        "- search_exclude: true\n"
      ]
    },
    {
      "cell_type": "code",
      "metadata": {
        "id": "a2kINqX3hCys",
        "outputId": "7dc015ca-f619-4044-e421-a078061093ad",
        "colab": {
          "base_uri": "https://localhost:8080/",
          "height": 51
        }
      },
      "source": [
        "#hide\n",
        "import warnings\n",
        "1+1\n",
        "\n",
        "import numpy as np\n",
        "import scipy as sp\n",
        "import sklearn\n",
        "import statsmodels.api as sm\n",
        "from statsmodels.formula.api import ols\n",
        "\n",
        "\n",
        "import matplotlib as mpl\n",
        "import matplotlib.pyplot as plt\n",
        "%matplotlib inline\n",
        "%config InlineBackend.figure_format = 'retina'\n",
        "\n",
        "import seaborn as sns\n",
        "sns.set_context(\"poster\")\n",
        "sns.set(rc={'figure.figsize': (16, 9.)})\n",
        "sns.set_style(\"whitegrid\")\n",
        "\n",
        "import pandas as pd\n",
        "pd.set_option(\"display.max_rows\", 120)\n",
        "pd.set_option(\"display.max_columns\", 120)\n"
      ],
      "execution_count": 1,
      "outputs": [
        {
          "output_type": "stream",
          "text": [
            "/usr/local/lib/python3.6/dist-packages/statsmodels/tools/_testing.py:19: FutureWarning: pandas.util.testing is deprecated. Use the functions in the public API at pandas.testing instead.\n",
            "  import pandas.util.testing as tm\n"
          ],
          "name": "stderr"
        }
      ]
    },
    {
      "cell_type": "markdown",
      "metadata": {
        "id": "qlHcZ6PBpGZD"
      },
      "source": [
        "## Standartpackages"
      ]
    },
    {
      "cell_type": "markdown",
      "metadata": {
        "id": "h86ZQn3npSmV"
      },
      "source": [
        "### Pathlib\n",
        "\n",
        "Cheatsheet:  https://github.com/chris1610/pbpython/blob/master/extras/Pathlib-Cheatsheet.pdf"
      ]
    },
    {
      "cell_type": "code",
      "metadata": {
        "id": "Fdg3QFNLpWl0"
      },
      "source": [
        "from pathlib import Path\n",
        "import shutil\n",
        "\n",
        "# absoluten pfad zu .py datei\n",
        "cwd = Path.cwd()\n",
        "\n",
        "# pfad erweitern\n",
        "cwd.joinpath(\"Test\")\n",
        "\n",
        "# in dem Pfad nach Datein suchen\n",
        "cwd.glob('*.py')\n",
        "\n",
        "# rekursiv nach datein matchen\n",
        "list(cwd.rglob('*.py'))\n",
        "\n",
        "#neuen ordner erstellen\n",
        "new_folder = cwd.joinpath(\"new_folder\")\n",
        "new_folder.mkdir()\n",
        "\n",
        "\n",
        "# datei erstellen\n",
        "new_folder.joinpath(\"test_script.py\").touch()\n",
        "\n",
        "# ordner löschen\n",
        "new_folder.rmdir()\n",
        "\n",
        "\n",
        "\n",
        "with .open() as f:\n",
        "...     f.readline()\n",
        "\n",
        "# erstellt relativen pfad zu dierser datei\n",
        "Path('.')\n",
        "\n",
        "\n",
        "\n",
        "\n",
        "\n"
      ],
      "execution_count": null,
      "outputs": []
    },
    {
      "cell_type": "markdown",
      "metadata": {
        "id": "I2KPqWO2pdBl"
      },
      "source": [
        "### Shutil"
      ]
    },
    {
      "cell_type": "code",
      "metadata": {
        "id": "734pm_JSpeuB"
      },
      "source": [
        "# kopieren einer datei\n",
        "shutil.copy(Path('.').joinpath(\"test.txt\"), cwd.joinpath(\"hallo\"))"
      ],
      "execution_count": null,
      "outputs": []
    },
    {
      "cell_type": "markdown",
      "metadata": {
        "id": "VqWvQPdWprdP"
      },
      "source": [
        "### Time/ Datetime /Dateutil"
      ]
    },
    {
      "cell_type": "code",
      "metadata": {
        "id": "RHBEu7I6pzLi"
      },
      "source": [
        "from time import sleep, perf_counter\n",
        "from datetime import date, time, datetime, timedelta\n",
        "from dateutil.relativedelta import relativedelta\n",
        "\n",
        "## time module\n",
        "\n",
        "# stoppen des Programms für 5 sekunden\n",
        "sleep(5)\n",
        "\n",
        "# Laufzeit von Funktionen messen\n",
        "def fib(x):\n",
        "\n",
        "    init = [1, 1]\n",
        "\n",
        "    for i in range(x):\n",
        "\n",
        "        n, n1 = init[-1], init[-2]\n",
        "\n",
        "        init.append(n + n1)\n",
        "\n",
        "    return init[-1]\n",
        "\n",
        "\n",
        "start = perf_counter()\n",
        "\n",
        "fib(5000)\n",
        "\n",
        "end = perf_counter()\n",
        "\n",
        "print(f\"Die Funktion lief {end - start} Sekunden\")\n",
        "\n",
        "\n",
        "## datetime module\n",
        "\n",
        "# date darstellung von tag, monat, jahr\n",
        "# time darstellung von stunde minuite sekunde ...\n",
        "# datetime = date + time\n",
        "# timedelta beschreibt Zeitspannen zwieschen datetime und date objecten\n",
        "\n",
        "## date\n",
        "\n",
        "# erzeugen eines Datums, Hinweis: Wirft Fehler bei SChaltjahr\n",
        "# Januar = 1, Februar = 2, ...\n",
        "date(year=2000, month=12, day=1)\n",
        "\n",
        "# Holen das Akutellen Datums\n",
        "date.today()\n",
        "\n",
        "# umwandeln datetime.ddate objecte in ein string\n",
        "\n",
        "bsp_datum = date.today()\n",
        "\n",
        "date.ctime(bsp_datum)  #  Format 'Tue Oct 23 00:00:00 1989'\n",
        "date.isoformat(bsp_datum)  # \"YYYY-MM-DD\"\n",
        "bsp_datum.strftime(\n",
        "    \"%d.%m.%Y um %H:%M:%S Uhr\"\n",
        ")  # custom format für zum Beispiel Deutsche Zeit\n",
        "\n",
        "bsp_datum.weekday()  # gibt Wochjendtag zurück, 0 = Montag, 1 = Dienstag usw.\n",
        "\n",
        "## time\n",
        "\n",
        "time(hour=12, minute=20, second=36, microsecond=123456)\n",
        "\n",
        "## datetime\n",
        "d1 = datetime(year=1989, month=1, day=9, hour=0, minute=0, second=0)\n",
        "\n",
        "d1.date()\n",
        "d1.weekday()\n",
        "d1.time()\n",
        "d1.month\n",
        "d1.hour\n",
        "\n",
        "datetime.now()  # aktuelles dateime\n",
        "datetime.utcnow()  # aktuelles datime utc\n",
        "\n",
        "# Umwandeln von string zu datum object\n",
        "datetime.strptime(\"04.12.1997\", \"%d.%m.%Y\")\n",
        "\n",
        "# umwandeln von datetime zu date object\n",
        "datetime.date(bsp_datum)\n",
        "\n",
        "## timedelta\n",
        "\n",
        "# date object 1 jahr in die Zukunft schieben\n",
        "date(year=2000, month=12, day=1) + timedelta(365)\n",
        "\n",
        "# date object 1 jahr in die Vergangenheit schieben\n",
        "date(year=2000, month=12, day=1) - timedelta(365)\n",
        "\n",
        "# mit timedelte objecten kann gerechnet werden\n",
        "timedelta(1) * 365\n",
        "\n",
        "# differenzen von datetime/date objecten ergibt timedelta object\n",
        "d2 = datetime(1989, 2, 10, 00, 0, 0)\n",
        "delta1 = d2 - d1\n",
        "\n",
        "## dateutil\n",
        "\n",
        "# schiebt das datum um 1 tag nach vorne\n",
        "bsp_datum + relativedelta(days=+1)\n",
        "\n",
        "# sertzt auf ein tag, beachte day vs. day(s) !\n",
        "bsp_datum + relativedelta(day=1)\n",
        "\n",
        "# differenz bilden\n",
        "relativedelta(date(2008, 9, 20), date(2006, 5, 18))\n",
        "relativedelta(date.today(), date(1994, 7, 19))  # alter berechen\n",
        "\n",
        "\n",
        "\n",
        "from dateutil.rrule import *\n",
        "\n",
        "# nächsten 10 Tage\n",
        "list(rrule(DAILY, dtstart=date.today(), interval=1, count=2))\n",
        "\n",
        "# täglich bis ...\n",
        "list(rrule(DAILY, dtstart=date.today(), until=date(2020, 12, 1)))\n",
        "\n",
        "list(rrule(DAILY, dtstart=date(2020, 1, 1), until=date(2022, 1, 1), bymonth=[1, 2]))\n"
      ],
      "execution_count": null,
      "outputs": []
    },
    {
      "cell_type": "markdown",
      "metadata": {
        "id": "emNmxdOMq1DC"
      },
      "source": [
        "### logging"
      ]
    },
    {
      "cell_type": "code",
      "metadata": {
        "id": "mNuJFtLzq50w"
      },
      "source": [
        "#main.py\n",
        "import logging\n",
        "import auxiliary_module\n",
        "\n",
        "## Erstelle zwei logger handlder, einer der alles ohne zu löschjen\n",
        "## in eine log datei schreibt und einen zweiten für die console\n",
        "\n",
        "# create logger with 'spam_application'\n",
        "logger = logging.getLogger()  # kein name eintragen!\n",
        "logger.setLevel(logging.DEBUG)\n",
        "# create file handler which logs even debug messages\n",
        "fh = logging.FileHandler(\"aktueller_log.log\", mode=\"w\")\n",
        "fh.setLevel(logging.DEBUG)\n",
        "\n",
        "fh1 = logging.FileHandler(\"continious_log.log\")\n",
        "fh1.setLevel(logging.DEBUG)\n",
        "\n",
        "\n",
        "ch = logging.StreamHandler()\n",
        "ch.setLevel(logging.DEBUG)\n",
        "# create formatter and add it to the handlers\n",
        "formatter = logging.Formatter(\n",
        "    \"%(asctime)s - %(name)s - %(levelname)s - %(message)s\", \"%d.%m.%Y %H:%M:%S\",\n",
        ")\n",
        "fh.setFormatter(formatter)\n",
        "fh1.setFormatter(formatter)\n",
        "ch.setFormatter(formatter)\n",
        "\n",
        "# add the handlers to the logger\n",
        "logger.addHandler(fh)\n",
        "logger.addHandler(ch)\n",
        "logger.addHandler(fh1)\n",
        "\n",
        "\n",
        "logger.info(\"Teestmedsage\")\n",
        "\n",
        "\n",
        "auxiliary_module.some_function()\n"
      ],
      "execution_count": null,
      "outputs": []
    },
    {
      "cell_type": "code",
      "metadata": {
        "id": "YqqgPUPnq9Vo"
      },
      "source": [
        "#aux_.üyfile\n",
        "import logging\n",
        "\n",
        "# mehr nicht reinschreiben, alle handler, einstellungen werrden im hauptscript definiert\n",
        "\n",
        "# create logger\n",
        "module_logger = logging.getLogger(__name__)\n",
        "\n",
        "\n",
        "def some_function():\n",
        "    module_logger.info('received a call to \"some_function\"')\n"
      ],
      "execution_count": null,
      "outputs": []
    },
    {
      "cell_type": "markdown",
      "metadata": {
        "id": "__gboCxSrPAc"
      },
      "source": [
        "### ftp"
      ]
    },
    {
      "cell_type": "code",
      "metadata": {
        "id": "9OZQoonvrQQP"
      },
      "source": [
        "with ftplib.FTP(\"ftp.bsh.de\") as f:\n",
        "        f.login()\n",
        "        f.cwd(\"AufMod-Data/CSV_XYZ_files/Bathymetries1982_2012CSV\")\n",
        "\n",
        "        with io.BytesIO() as buf:\n",
        "            f.retrbinary(f'RETR Bathymetry_{year}.zip', buf.write)\n",
        "\n",
        "            buf.seek(0)\n",
        "            with ZipFile(buf).open(f\"Bathymetry_{year}.csv\") as f:\n",
        "\n",
        "                df = pd.read_csv(f)\n",
        "\n"
      ],
      "execution_count": null,
      "outputs": []
    },
    {
      "cell_type": "markdown",
      "metadata": {
        "id": "hqC1fBxtra6S"
      },
      "source": [
        "### sys"
      ]
    },
    {
      "cell_type": "code",
      "metadata": {
        "id": "ZRIw44eprchv"
      },
      "source": [
        "import sys\n",
        "\n",
        "# lite mit command words\n",
        "# zum Beispiel python3 file.py -hello\n",
        "# sys.argv = ['file.py', 'hello']\n",
        "sys.argv \n",
        "\n",
        "# pfad die python interpreer \n",
        "# nach moulen durchsucht\n",
        "sys.path \n",
        "\n"
      ],
      "execution_count": null,
      "outputs": []
    },
    {
      "cell_type": "markdown",
      "metadata": {
        "id": "lx1h_rxitQ4G"
      },
      "source": [
        "### pytest"
      ]
    },
    {
      "cell_type": "code",
      "metadata": {
        "id": "3R4k0kJetSOi"
      },
      "source": [
        "from numpy.testing import assert_allclose\n",
        "import numpy as np\n",
        "import pytest\n",
        "import pandas as pd\n",
        "\n",
        "## command line\n",
        "# coverage run -m pytest\n",
        "# danach coverage html\n",
        "\n",
        "# pytest path/file.py::test_name     macht nur diesen test\n",
        "\n",
        "\n",
        "# einfacher test\n",
        "\n",
        "\n",
        "def test_simple():\n",
        "\n",
        "    assert 1 == 1\n",
        "    assert \"hello\" == \"hello\"\n",
        "\n",
        "\n",
        "# wenn ich einen test habe der eine funktion für verschiedene Werte überprüfen möchte kann ich das paramatriesieren\n",
        "@pytest.mark.parametrize(\"input1, input2\", [(1, 1), (2, 2)])\n",
        "def test_para(input1, input2):\n",
        "\n",
        "    assert input1 == input2\n",
        "\n",
        "\n",
        "def my_func(number):\n",
        "\n",
        "    if not isinstance(number, int):\n",
        "\n",
        "        raise ValueError(\"input not a number\")\n",
        "\n",
        "    return number + 1\n",
        "\n",
        "\n",
        "def test_raise():\n",
        "\n",
        "    with pytest.raises(ValueError):\n",
        "        my_func(\"a\")\n",
        "\n",
        "\n",
        "# fixture erstellen\n",
        "@pytest.fixture\n",
        "def example_df():\n",
        "\n",
        "    df = pd.DataFrame({\"text\": [\"hello\", \"bye\"], \"num\": [1, 2]})\n",
        "\n",
        "    return df\n",
        "\n",
        "\n",
        "def test_df1(example_df):\n",
        "\n",
        "    assert example_df.shape[1] == 2\n"
      ],
      "execution_count": null,
      "outputs": []
    },
    {
      "cell_type": "markdown",
      "metadata": {
        "id": "9cyBUoYDhCy2"
      },
      "source": [
        "## Helper Functions"
      ]
    },
    {
      "cell_type": "markdown",
      "metadata": {
        "id": "vBYwlUEBhCy3"
      },
      "source": [
        "## Plot for the Blog Post"
      ]
    },
    {
      "cell_type": "markdown",
      "metadata": {
        "id": "v9DBLmzYhCy3"
      },
      "source": [
        "## Sources\n",
        "\n"
      ]
    },
    {
      "cell_type": "markdown",
      "metadata": {
        "id": "R88DR6kKoo0N"
      },
      "source": [
        "### Websites\n",
        "\n",
        "https://www.pythonlikeyoumeanit.com/module_4.html\n",
        "\n",
        "https://realpython.com/\n",
        "\n",
        "https://learn.draft.dev/technical-blogs/python\n",
        "\n",
        "https://twitter.com/raymondh/status/1309935931818831874\n",
        "\n",
        "https://twitter.com/svpino/status/1308632185113579522\n",
        "\n",
        "https://pymotw.com/2/glob/"
      ]
    },
    {
      "cell_type": "markdown",
      "metadata": {
        "id": "ie1UlCI1hZ38"
      },
      "source": [
        "### Books\n",
        "fluent python\n",
        "\n",
        "\n",
        "https://github.com/AllenDowney/ThinkPython2\n",
        "\n",
        "https://www.amazon.de/Modern-Python-Standard-Library-Cookbook/dp/1788830822\n",
        "\n",
        "https://www.amazon.de/Python-Informatics-Dr-Charles-Severance/dp/1492339245\n",
        "\n",
        "High Performance Python: Practical Performant Programming for Humans 2nd Edition\n",
        "\n",
        "http://openbook.rheinwerk-verlag.de/python/\n",
        "\n",
        "https://automatetheboringstuff.com/\n",
        "\n",
        "A Practical Introduction to Python 3\n",
        "\n",
        "https://book.pythontips.com/en/latest/index.html\n",
        "\n",
        "python essential reference\n",
        "\n",
        "https://www.fullstackpython.com/\n",
        "\n",
        "https://www.kevinsheppard.com/files/teaching/python/notes/python_introduction_2019.pdf\n",
        "\n",
        "https://www.slitherintopython.com/\n",
        "\n",
        "https://py-pkgs.org/\n",
        "\n"
      ]
    },
    {
      "cell_type": "markdown",
      "metadata": {
        "id": "JTr8iaVHhmud"
      },
      "source": [
        "### Repos\n",
        "\n",
        "https://github.com/python-poetry/poetry\n",
        "\n",
        "https://github.com/satwikkansal/wtfpython\n",
        "\n",
        "https://quantecon.org/quantecon-py/\n",
        "\n",
        "https://www.geeksforgeeks.org/python-programming-language/\n",
        "\n",
        "https://github.com/cool-RR/PySnooper\n",
        "\n",
        "https://github.com/python-attrs/attrs\n",
        "\n",
        "https://pbpython.com/\n",
        "\n",
        "https://awesome-python.com/\n",
        "\n",
        "https://github.com/itamarst/eliot\n",
        "\n",
        "https://github.com/8080labs/pyforest\n",
        "\n",
        "https://github.com/keon/algorithms\n",
        "\n",
        "https://numfocus.org/\n",
        "\n",
        "https://github.com/chiphuyen/python-is-cool\n",
        "\n",
        "https://github.com/faif/python-patterns\n",
        "\n",
        "https://github.com/dbader/schedule\n",
        "\n",
        "https://calmcode.io/\n",
        "\n",
        "https://github.com/tiangolo/typer\n",
        "\n",
        "https://github.com/vinta/awesome-python\n",
        "\n",
        "https://github.com/pydata\n",
        "\n",
        "practical python proggramming dabeaz\n",
        "\n",
        "http://people.duke.edu/~ccc14/sta-663-2017/\n",
        "\n",
        "https://www.kaggle.com/parulpandey/useful-python-libraries-for-data-science/notebook\n"
      ]
    },
    {
      "cell_type": "markdown",
      "metadata": {
        "id": "VX-xSz5CocTQ"
      },
      "source": [
        "### Cheatsheet\n",
        "\n",
        "https://gto76.github.io/python-cheatsheet/"
      ]
    },
    {
      "cell_type": "markdown",
      "metadata": {
        "id": "r7iI5GAzokO3"
      },
      "source": [
        "### Kurse\n",
        "https://ocw.mit.edu/courses/electrical-engineering-and-computer-science/6-0001-introduction-to-computer-science-and-programming-in-python-fall-2016/"
      ]
    },
    {
      "cell_type": "markdown",
      "metadata": {
        "id": "eDYRNlfGhCy4"
      },
      "source": [
        "## References"
      ]
    },
    {
      "cell_type": "markdown",
      "metadata": {
        "id": "5wONm9xohCy4"
      },
      "source": [
        "{% bibliography --cited %}"
      ]
    }
  ]
}