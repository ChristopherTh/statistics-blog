{
 "cells": [
  {
   "cell_type": "markdown",
   "metadata": {
    "colab_type": "text",
    "id": "FwXO9KaYZAKU"
   },
   "source": [
    "# \"l1 Trend Filtering\"\n",
    "> \"My reference notebook for l1 trend filtering.\"\n",
    "\n",
    "- author: Christopher Thiemann\n",
    "- toc: true\n",
    "- branch: master\n",
    "- badges: true\n",
    "- comments: true\n",
    "- categories: [time series, lasso, trend-filtering]\n",
    "- hide: false\n",
    "- search_exclude: true\n",
    "- image: images/l1_trend_filtering.png"
   ]
  },
  {
   "cell_type": "code",
   "execution_count": 94,
   "metadata": {
    "colab": {},
    "colab_type": "code",
    "id": "HXmLP-_A7L-i"
   },
   "outputs": [],
   "source": [
    "#hide\n",
    "import matplotlib.pyplot as plt\n",
    "import numpy as np\n",
    "import pandas as pd\n",
    "from sklearn.linear_model import Lasso\n",
    "import cvxpy as cp\n",
    "from scipy.sparse import dia_matrix\n",
    "import seaborn as sns; sns.set()\n",
    "from sklearn.metrics import mean_squared_error\n"
   ]
  },
  {
   "cell_type": "markdown",
   "metadata": {
    "colab_type": "text",
    "id": "uiEYk1WbWb08"
   },
   "source": [
    "## Motivation"
   ]
  },
  {
   "cell_type": "markdown",
   "metadata": {
    "colab_type": "text",
    "id": "6O4pqt3GWes1"
   },
   "source": [
    "When working with timeseries data $y_1, y_2,...y_t, ...y_T$ one decomposes the time series in different components most often that is trend, seasonal and a random component. $y_t = x_t + s_t + \\varepsilon_t$. During my econmoics studies I first encountered the Hodrick -Prescott Filter (HP) in a macro course. As we will see, the HP filter produces a non linear trend component while the l1-trend filter will provide a piecewise linear trend component. This makes l2 trend filtgering more interpretable because we can interpret the kink points in the piece wiese linear solution as change points in the trends.\n",
    "\n",
    "The corresponding paper is {% cite l1trendfilter %}"
   ]
  },
  {
   "cell_type": "markdown",
   "metadata": {
    "colab_type": "text",
    "id": "dIStss2CpDKH"
   },
   "source": [
    "## Hodrick Prescott Filter"
   ]
  },
  {
   "cell_type": "markdown",
   "metadata": {
    "colab_type": "text",
    "id": "qHfVI3agpHCX"
   },
   "source": [
    "The Hp-Filter is defined as the solution to the following problem\n",
    "\n",
    "$x^{HP} = argmin_{x \\in R^T} 1 / 2 \\sum_{t=1}^T (y_t-x_t)^2 + \\lambda \\sum_{t=2}^{T-1}(x_{t-1}-2x_t+x_{t+1})^2$\n",
    "\n",
    "The second term penalized the roughness of the solution.\n",
    "\n",
    "For $\\lambda = 0$ we have $x_t^{HP} = y_t$ and for $\\lambda -> \\infty$ one can show that the solution is given by $x_t^{HP} = \\alpha + \\beta t$\n",
    "\n",
    "An alternative formulation of the problem is\n",
    "\n",
    "$1 / 2 ||y-x||_2^2 + \\lambda ||Dx||_2^2$\n",
    "\n",
    "where D is a $(T-2) \\times T$ second order difference matrix. See below an example with $T = 10$"
   ]
  },
  {
   "cell_type": "code",
   "execution_count": null,
   "metadata": {
    "colab": {
     "base_uri": "https://localhost:8080/",
     "height": 153
    },
    "colab_type": "code",
    "id": "B2GRjD0Ir7sn",
    "outputId": "d1248045-0783-4694-9d40-6214c5aee765"
   },
   "outputs": [
    {
     "data": {
      "text/plain": [
       "array([[ 1., -2.,  1.,  0.,  0.,  0.,  0.,  0.,  0.,  0.],\n",
       "       [ 0.,  1., -2.,  1.,  0.,  0.,  0.,  0.,  0.,  0.],\n",
       "       [ 0.,  0.,  1., -2.,  1.,  0.,  0.,  0.,  0.,  0.],\n",
       "       [ 0.,  0.,  0.,  1., -2.,  1.,  0.,  0.,  0.,  0.],\n",
       "       [ 0.,  0.,  0.,  0.,  1., -2.,  1.,  0.,  0.,  0.],\n",
       "       [ 0.,  0.,  0.,  0.,  0.,  1., -2.,  1.,  0.,  0.],\n",
       "       [ 0.,  0.,  0.,  0.,  0.,  0.,  1., -2.,  1.,  0.],\n",
       "       [ 0.,  0.,  0.,  0.,  0.,  0.,  0.,  1., -2.,  1.]])"
      ]
     },
     "execution_count": 181,
     "metadata": {
      "tags": []
     },
     "output_type": "execute_result"
    }
   ],
   "source": [
    "#hide_input\n",
    "calc_D(10)"
   ]
  },
  {
   "cell_type": "markdown",
   "metadata": {
    "colab_type": "text",
    "id": "gHFY5Mc0uBou"
   },
   "source": [
    "The solution can then be written as \n",
    "\n",
    "$x^{HP} = (I+2\\lambda D' D)^{-1}y$"
   ]
  },
  {
   "cell_type": "markdown",
   "metadata": {
    "colab_type": "text",
    "id": "GNCGzpac6j8Q"
   },
   "source": [
    "## l1 Trend Filtering"
   ]
  },
  {
   "cell_type": "markdown",
   "metadata": {
    "colab_type": "text",
    "id": "-qsOrRiM6nBm"
   },
   "source": [
    "The problem is similar to the Hp Filter\n",
    "\n",
    "$1 / 2 \\sum_{t=1}^T (y_t-x_t)^2 + \\lambda \\sum_{t=2}^{T-1}|x_{t-1}-2x_t+x_{t+1}|$\n",
    "\n",
    "it is possible to rewrite the problem as a lasso problem\n",
    "\n",
    "$1 / 2 || A \\theta - y||_2^2 + \\lambda \\sum_{t = 3}^T |\\theta_t|$\n",
    "\n",
    "Note that we are **not** penalizing the first two coeficients.\n",
    "\n",
    "$A$ is a square T dimensional Matrix of the following form. (T = 10) \n",
    "\n"
   ]
  },
  {
   "cell_type": "code",
   "execution_count": null,
   "metadata": {
    "colab": {
     "base_uri": "https://localhost:8080/",
     "height": 187
    },
    "colab_type": "code",
    "id": "vDK9YFq-8soW",
    "outputId": "f9c29052-a404-4f84-fb88-5cb29d8c7963"
   },
   "outputs": [
    {
     "data": {
      "text/plain": [
       "array([[1., 0., 0., 0., 0., 0., 0., 0., 0., 0.],\n",
       "       [1., 1., 0., 0., 0., 0., 0., 0., 0., 0.],\n",
       "       [1., 2., 1., 0., 0., 0., 0., 0., 0., 0.],\n",
       "       [1., 3., 2., 1., 0., 0., 0., 0., 0., 0.],\n",
       "       [1., 4., 3., 2., 1., 0., 0., 0., 0., 0.],\n",
       "       [1., 5., 4., 3., 2., 1., 0., 0., 0., 0.],\n",
       "       [1., 6., 5., 4., 3., 2., 1., 0., 0., 0.],\n",
       "       [1., 7., 6., 5., 4., 3., 2., 1., 0., 0.],\n",
       "       [1., 8., 7., 6., 5., 4., 3., 2., 1., 0.],\n",
       "       [1., 9., 8., 7., 6., 5., 4., 3., 2., 1.]])"
      ]
     },
     "execution_count": 202,
     "metadata": {
      "tags": []
     },
     "output_type": "execute_result"
    }
   ],
   "source": [
    "#hide_input\n",
    "calc_A(10)"
   ]
  },
  {
   "cell_type": "markdown",
   "metadata": {
    "colab_type": "text",
    "id": "gm53pVRX89du"
   },
   "source": [
    "To recover the solution of the original l1 trend filtering problem we transform the solution as\n",
    "\n",
    "$x = A \\theta$\n",
    "\n",
    "since the solution to the lasso problem is piecewiese linear the solution to the l1 trend filter is also piecewiese linear."
   ]
  },
  {
   "cell_type": "markdown",
   "metadata": {
    "colab_type": "text",
    "id": "7rhlYlbYBWsn"
   },
   "source": [
    "## Reproducing S&P 500 example"
   ]
  },
  {
   "cell_type": "code",
   "execution_count": 132,
   "metadata": {
    "colab": {
     "base_uri": "https://localhost:8080/",
     "height": 588
    },
    "colab_type": "code",
    "id": "avZftS4L6UFe",
    "outputId": "07208bd4-c6c2-4c9b-e6ee-9916ccc782f5"
   },
   "outputs": [
    {
     "data": {
      "image/png": "[encoded data removed]",
      "text/plain": [
       "<Figure size 720x720 with 1 Axes>"
      ]
     },
     "metadata": {
      "tags": []
     },
     "output_type": "display_data"
    }
   ],
   "source": [
    "#data\n",
    "# downloaded from https://finance.yahoo.com/quote/%5EGSPC/history?period1=922320000&period2=1172880000&interval=1d&filter=history&frequency=1d\n",
    "ts = pd.read_csv(\"sandp.csv\")\n",
    "ts.rename( columns = {'Close': 'S&P 500'}, inplace = True)\n",
    "log_price = np.log(ts['S&P 500'])\n",
    "log_price.index = ts.Date\n",
    "\n",
    "# apply trend filtering\n",
    "solution_hp = HP_filter(log_price, 2000000)\n",
    "solution_l1 = l1_trend_filter_lasso(log_price, 100)\n",
    "\n",
    "#plotting\n",
    "fig, axes = plt.subplots(figsize = (10, 10))\n",
    "\n",
    "log_price.plot(ax = axes,alpha = .3)\n",
    "fig.autofmt_xdate()\n",
    "\n",
    "axes.plot(solution_l1, label = 'l1 Trend Filtering', linewidth = 2)\n",
    "axes.set_ylabel(\"log-price\")\n",
    "axes.set_xlabel(\" \")\n",
    "axes.legend()\n",
    "fig.savefig(\"l1_trend_filtering.png\");"
   ]
  },
  {
   "cell_type": "markdown",
   "metadata": {
    "colab_type": "text",
    "id": "p0TbXzk56BE8"
   },
   "source": [
    "## Extension"
   ]
  },
  {
   "cell_type": "markdown",
   "metadata": {
    "colab_type": "text",
    "id": "hLDHAu1819xp"
   },
   "source": [
    "It is possible to extend the trend filtering problem to respect seasonality, outliers or level shifts.\n",
    "\n",
    "The problem is then\n",
    "\n",
    "$1/2 ||y-x-u-w-\\alpha sin(\\omega t) -\\beta cos(\\omega t)||_2^2 + \\lambda||Dx||_1+\\rho||u||_1+\\eta \\sum_{t=2}^T|w_t-w_{t-1}|$\n",
    "\n",
    "where $sin$ and $cos$ is understood vectorwise. $u$ models *spikes*, $w$ *level shifts* and $\\alpha$ and $\\beta$ measure the sinusoidal periodic component. $\\omega$ is the frequency. $x$ is the trend component. For an implementation look in the helper functions section."
   ]
  },
  {
   "cell_type": "markdown",
   "metadata": {
    "colab_type": "text",
    "id": "vxG9kuGHy7C5"
   },
   "source": [
    "## Helper Functions"
   ]
  },
  {
   "cell_type": "code",
   "execution_count": 73,
   "metadata": {
    "colab": {},
    "colab_type": "code",
    "id": "SKFlLWNcy-Xo"
   },
   "outputs": [],
   "source": [
    "def calc_A(n):\n",
    "\n",
    "    A = np.zeros((n, n))\n",
    "    A[:, 0] = 1\n",
    "\n",
    "    for i in range(1, n):\n",
    "\n",
    "        A[i:, i] = list(range(1, n - i + 1))\n",
    "\n",
    "    return A\n",
    "\n",
    "\n",
    "def calc_D(n, return_sparse = False):\n",
    "\n",
    "    D = np.zeros((n - 2, n))\n",
    "\n",
    "    dif = np.array([1, -2, 1])\n",
    "\n",
    "    for i in range(n-2):\n",
    "\n",
    "        D[ i, i : (i+3)] = dif\n",
    "\n",
    "    if return_sparse:\n",
    "\n",
    "        return dia_matrix(D)\n",
    "    else:\n",
    "        return D\n",
    "\n",
    "def HP_filter(ts, lam):\n",
    "\n",
    "    n = len(ts)\n",
    "\n",
    "    D = calc_D(n)\n",
    "\n",
    "    return np.linalg.inv(np.eye(n) + 2 * lam * (D.T @ D)) @ ts\n",
    "\n",
    "def l1_trend_filter_lasso(ts, lambda_value):\n",
    "\n",
    "    n = len(ts)\n",
    "\n",
    "    A = calc_A(n)\n",
    "\n",
    "    beta = cp.Variable(n)\n",
    "    lambd = cp.Parameter(nonneg=True)\n",
    "    u = cp.Variable(n)\n",
    "    lambd.value = lambda_value\n",
    "    problem = cp.Problem(cp.Minimize(cp.norm2(A @ beta - ts)**2 + lambd * cp.norm1(beta[2 : ])))\n",
    "    problem.solve(verbose = True, solver=cp.CVXOPT)\n",
    "\n",
    "\n",
    "    solution = A @ beta.value\n",
    "\n",
    "    return solution\n",
    "    \n",
    "def l1_trend_filter(ts, freq, lam, rho, eta):\n",
    "\n",
    "    if isinstance(ts, pd.Series):\n",
    "\n",
    "        ts = ts.to_numpy()\n",
    "\n",
    "\n",
    "\n",
    "\n",
    "\n",
    "    n = len(ts)\n",
    "\n",
    "    sin_comp = np.sin(freq * np.array(range(1, n + 1)))\n",
    "    cosine_com = np.cos(freq * np.array(range(1, n + 1)))\n",
    "\n",
    "    D = calc_D(n, return_sparse = True)\n",
    "\n",
    "    #define variables\n",
    "    a = cp.Variable(1)\n",
    "    b = cp.Variable(1)\n",
    "    w = cp.Variable(n)\n",
    "    x = cp.Variable(shape=n)\n",
    "    u = cp.Variable(shape = n)\n",
    "\n",
    "    eta = eta\n",
    "    rho = rho\n",
    "    lam = lam\n",
    "\n",
    "    obj = cp.Minimize(0.5 * cp.sum_squares( ts - x - a * sin_comp - b * cosine_com)\n",
    "                                            + lam * cp.norm(D  @ x, 1)\n",
    "                                            + rho * cp.norm(u, 1) \n",
    "                                            + eta * cp.norm(w[1:] - w[0:n-1],\n",
    "                                            1) )\n",
    "    prob = cp.Problem(obj)\n",
    "\n",
    "    \n",
    "    prob.solve(verbose=False)\n",
    "\n",
    "    \n",
    "\n",
    "    return x.value, u.value, w.value, a.value, b.value, mean_squared_error(ts, x.value + a.value * sin_comp + b.value * cosine_com)\n",
    "\n",
    "\n"
   ]
  },
  {
   "cell_type": "markdown",
   "metadata": {
    "colab_type": "text",
    "id": "LsBJ3DUsZRgJ"
   },
   "source": [
    "{% bibliography --cited %}"
   ]
  }
 ],
 "metadata": {
  "colab": {
   "name": "l1_trend_filter.ipynb",
   "provenance": [],
   "toc_visible": true
  },
  "kernelspec": {
   "display_name": "Python 3",
   "language": "python",
   "name": "python3"
  },
  "language_info": {
   "codemirror_mode": {
    "name": "ipython",
    "version": 3
   },
   "file_extension": ".py",
   "mimetype": "text/x-python",
   "name": "python",
   "nbconvert_exporter": "python",
   "pygments_lexer": "ipython3",
   "version": "3.7.6"
  }
 },
 "nbformat": 4,
 "nbformat_minor": 4
}
