{
  "nbformat": 4,
  "nbformat_minor": 0,
  "metadata": {
    "kernelspec": {
      "name": "Python 3.7.9 64-bit ('statistics_blog': conda)",
      "display_name": "Python 3.7.9 64-bit ('statistics_blog': conda)",
      "metadata": {
        "interpreter": {
          "hash": "1903b2bc6fa09ef9a571b65384e6224e56d66c2aef7136d7796c6206344f5845"
        }
      }
    },
    "language_info": {
      "codemirror_mode": {
        "name": "ipython",
        "version": 3
      },
      "file_extension": ".py",
      "mimetype": "text/x-python",
      "name": "python",
      "nbconvert_exporter": "python",
      "pygments_lexer": "ipython3",
      "version": "3.7.9-final"
    },
    "colab": {
      "name": "base_notebook.ipynb",
      "provenance": []
    }
  },
  "cells": [
    {
      "cell_type": "markdown",
      "metadata": {
        "id": "gKn4LsU2dy7z"
      },
      "source": [
        "# \"Altair\"\n",
        "> \"Subheader\"\n",
        "\n",
        "- author: Christopher Thiemann\n",
        "- toc: true\n",
        "- branch: master\n",
        "- badges: true\n",
        "- comments: true\n",
        "- categories: [statistics, ]\n",
        "- hide: false\n",
        "- search_exclude: true\n",
        "- image: images/poisson.png"
      ]
    },
    {
      "cell_type": "code",
      "metadata": {
        "id": "KgbCnod-dy71"
      },
      "source": [
        "#hide\n",
        "import warnings\n",
        "1+1\n",
        "\n",
        "import numpy as np\n",
        "import scipy as sp\n",
        "import sklearn\n",
        "import statsmodels.api as sm\n",
        "from statsmodels.formula.api import ols\n",
        "\n",
        "import altair as alt\n",
        "import matplotlib as mpl\n",
        "import matplotlib.pyplot as plt\n",
        "%matplotlib inline\n",
        "%config InlineBackend.figure_format = 'retina'\n",
        "\n",
        "import seaborn as sns\n",
        "sns.set_context(\"poster\")\n",
        "sns.set(rc={'figure.figsize': (16, 9.)})\n",
        "sns.set_style(\"whitegrid\")\n",
        "\n",
        "import pandas as pd\n",
        "pd.set_option(\"display.max_rows\", 120)\n",
        "pd.set_option(\"display.max_columns\", 120)\n",
        "\n"
      ],
      "execution_count": 4,
      "outputs": []
    },
    {
      "cell_type": "markdown",
      "metadata": {
        "id": "G5jLrhlNeI_b"
      },
      "source": [
        "## Recipe"
      ]
    },
    {
      "cell_type": "code",
      "metadata": {
        "id": "7cjHwG8zd0gj",
        "outputId": "f3f289c2-4026-4928-c528-957d8fddc756",
        "colab": {
          "base_uri": "https://localhost:8080/",
          "height": 204
        }
      },
      "source": [
        "df = sns.load_dataset('car_crashes')\n",
        "df.head()\n"
      ],
      "execution_count": 5,
      "outputs": [
        {
          "output_type": "execute_result",
          "data": {
            "text/html": [
              "<div>\n",
              "<style scoped>\n",
              "    .dataframe tbody tr th:only-of-type {\n",
              "        vertical-align: middle;\n",
              "    }\n",
              "\n",
              "    .dataframe tbody tr th {\n",
              "        vertical-align: top;\n",
              "    }\n",
              "\n",
              "    .dataframe thead th {\n",
              "        text-align: right;\n",
              "    }\n",
              "</style>\n",
              "<table border=\"1\" class=\"dataframe\">\n",
              "  <thead>\n",
              "    <tr style=\"text-align: right;\">\n",
              "      <th></th>\n",
              "      <th>total</th>\n",
              "      <th>speeding</th>\n",
              "      <th>alcohol</th>\n",
              "      <th>not_distracted</th>\n",
              "      <th>no_previous</th>\n",
              "      <th>ins_premium</th>\n",
              "      <th>ins_losses</th>\n",
              "      <th>abbrev</th>\n",
              "    </tr>\n",
              "  </thead>\n",
              "  <tbody>\n",
              "    <tr>\n",
              "      <th>0</th>\n",
              "      <td>18.8</td>\n",
              "      <td>7.332</td>\n",
              "      <td>5.640</td>\n",
              "      <td>18.048</td>\n",
              "      <td>15.040</td>\n",
              "      <td>784.55</td>\n",
              "      <td>145.08</td>\n",
              "      <td>AL</td>\n",
              "    </tr>\n",
              "    <tr>\n",
              "      <th>1</th>\n",
              "      <td>18.1</td>\n",
              "      <td>7.421</td>\n",
              "      <td>4.525</td>\n",
              "      <td>16.290</td>\n",
              "      <td>17.014</td>\n",
              "      <td>1053.48</td>\n",
              "      <td>133.93</td>\n",
              "      <td>AK</td>\n",
              "    </tr>\n",
              "    <tr>\n",
              "      <th>2</th>\n",
              "      <td>18.6</td>\n",
              "      <td>6.510</td>\n",
              "      <td>5.208</td>\n",
              "      <td>15.624</td>\n",
              "      <td>17.856</td>\n",
              "      <td>899.47</td>\n",
              "      <td>110.35</td>\n",
              "      <td>AZ</td>\n",
              "    </tr>\n",
              "    <tr>\n",
              "      <th>3</th>\n",
              "      <td>22.4</td>\n",
              "      <td>4.032</td>\n",
              "      <td>5.824</td>\n",
              "      <td>21.056</td>\n",
              "      <td>21.280</td>\n",
              "      <td>827.34</td>\n",
              "      <td>142.39</td>\n",
              "      <td>AR</td>\n",
              "    </tr>\n",
              "    <tr>\n",
              "      <th>4</th>\n",
              "      <td>12.0</td>\n",
              "      <td>4.200</td>\n",
              "      <td>3.360</td>\n",
              "      <td>10.920</td>\n",
              "      <td>10.680</td>\n",
              "      <td>878.41</td>\n",
              "      <td>165.63</td>\n",
              "      <td>CA</td>\n",
              "    </tr>\n",
              "  </tbody>\n",
              "</table>\n",
              "</div>"
            ],
            "text/plain": [
              "   total  speeding  alcohol  not_distracted  no_previous  ins_premium  \\\n",
              "0   18.8     7.332    5.640          18.048       15.040       784.55   \n",
              "1   18.1     7.421    4.525          16.290       17.014      1053.48   \n",
              "2   18.6     6.510    5.208          15.624       17.856       899.47   \n",
              "3   22.4     4.032    5.824          21.056       21.280       827.34   \n",
              "4   12.0     4.200    3.360          10.920       10.680       878.41   \n",
              "\n",
              "   ins_losses abbrev  \n",
              "0      145.08     AL  \n",
              "1      133.93     AK  \n",
              "2      110.35     AZ  \n",
              "3      142.39     AR  \n",
              "4      165.63     CA  "
            ]
          },
          "metadata": {
            "tags": []
          },
          "execution_count": 5
        }
      ]
    },
    {
      "cell_type": "code",
      "metadata": {
        "id": "z_USmeRxzqIG",
        "outputId": "ccddb1dc-08b6-4e03-89d4-e43f579a5ced",
        "colab": {
          "base_uri": "https://localhost:8080/",
          "height": 368
        }
      },
      "source": [
        "(alt.Chart(df) \n",
        "  .mark_point(color='black') #the kind of chart , can pass extra intputs, not based on data only of type of chart\n",
        "  .encode(x='total', y='speeding', tooltip = ['abbrev', 'not_distracted']) # encode data from df to the chart, ecnode links to df\n",
        "  .properties(width=600, height=300) #ad extra properties independent of the mark and chart\n",
        "  .interactive())"
      ],
      "execution_count": 9,
      "outputs": [
        {
          "output_type": "execute_result",
          "data": {
            "text/plain": [
              "alt.Chart(...)"
            ],
            "text/html": [
              "\n",
              "<div id=\"altair-viz-03b5a534e6104d889df18a3863e89577\"></div>\n",
              "<script type=\"text/javascript\">\n",
              "  (function(spec, embedOpt){\n",
              "    let outputDiv = document.currentScript.previousElementSibling;\n",
              "    if (outputDiv.id !== \"altair-viz-03b5a534e6104d889df18a3863e89577\") {\n",
              "      outputDiv = document.getElementById(\"altair-viz-03b5a534e6104d889df18a3863e89577\");\n",
              "    }\n",
              "    const paths = {\n",
              "      \"vega\": \"https://cdn.jsdelivr.net/npm//vega@5?noext\",\n",
              "      \"vega-lib\": \"https://cdn.jsdelivr.net/npm//vega-lib?noext\",\n",
              "      \"vega-lite\": \"https://cdn.jsdelivr.net/npm//vega-lite@4.8.1?noext\",\n",
              "      \"vega-embed\": \"https://cdn.jsdelivr.net/npm//vega-embed@6?noext\",\n",
              "    };\n",
              "\n",
              "    function loadScript(lib) {\n",
              "      return new Promise(function(resolve, reject) {\n",
              "        var s = document.createElement('script');\n",
              "        s.src = paths[lib];\n",
              "        s.async = true;\n",
              "        s.onload = () => resolve(paths[lib]);\n",
              "        s.onerror = () => reject(`Error loading script: ${paths[lib]}`);\n",
              "        document.getElementsByTagName(\"head\")[0].appendChild(s);\n",
              "      });\n",
              "    }\n",
              "\n",
              "    function showError(err) {\n",
              "      outputDiv.innerHTML = `<div class=\"error\" style=\"color:red;\">${err}</div>`;\n",
              "      throw err;\n",
              "    }\n",
              "\n",
              "    function displayChart(vegaEmbed) {\n",
              "      vegaEmbed(outputDiv, spec, embedOpt)\n",
              "        .catch(err => showError(`Javascript Error: ${err.message}<br>This usually means there's a typo in your chart specification. See the javascript console for the full traceback.`));\n",
              "    }\n",
              "\n",
              "    if(typeof define === \"function\" && define.amd) {\n",
              "      requirejs.config({paths});\n",
              "      require([\"vega-embed\"], displayChart, err => showError(`Error loading script: ${err.message}`));\n",
              "    } else if (typeof vegaEmbed === \"function\") {\n",
              "      displayChart(vegaEmbed);\n",
              "    } else {\n",
              "      loadScript(\"vega\")\n",
              "        .then(() => loadScript(\"vega-lite\"))\n",
              "        .then(() => loadScript(\"vega-embed\"))\n",
              "        .catch(showError)\n",
              "        .then(() => displayChart(vegaEmbed));\n",
              "    }\n",
              "  })({\"config\": {\"view\": {\"continuousWidth\": 400, \"continuousHeight\": 300}}, \"data\": {\"name\": \"data-b4052d6f341684cce42c9d54b1cd2716\"}, \"mark\": {\"type\": \"point\", \"color\": \"black\"}, \"encoding\": {\"tooltip\": [{\"type\": \"nominal\", \"field\": \"abbrev\"}, {\"type\": \"quantitative\", \"field\": \"not_distracted\"}], \"x\": {\"type\": \"quantitative\", \"field\": \"total\"}, \"y\": {\"type\": \"quantitative\", \"field\": \"speeding\"}}, \"height\": 300, \"selection\": {\"selector003\": {\"type\": \"interval\", \"bind\": \"scales\", \"encodings\": [\"x\", \"y\"]}}, \"width\": 600, \"$schema\": \"https://vega.github.io/schema/vega-lite/v4.8.1.json\", \"datasets\": {\"data-b4052d6f341684cce42c9d54b1cd2716\": [{\"total\": 18.8, \"speeding\": 7.332000000000002, \"alcohol\": 5.64, \"not_distracted\": 18.048, \"no_previous\": 15.04, \"ins_premium\": 784.55, \"ins_losses\": 145.08, \"abbrev\": \"AL\"}, {\"total\": 18.1, \"speeding\": 7.421, \"alcohol\": 4.525, \"not_distracted\": 16.290000000000006, \"no_previous\": 17.014, \"ins_premium\": 1053.48, \"ins_losses\": 133.93, \"abbrev\": \"AK\"}, {\"total\": 18.6, \"speeding\": 6.51, \"alcohol\": 5.208000000000001, \"not_distracted\": 15.624, \"no_previous\": 17.855999999999998, \"ins_premium\": 899.47, \"ins_losses\": 110.35, \"abbrev\": \"AZ\"}, {\"total\": 22.4, \"speeding\": 4.032, \"alcohol\": 5.824, \"not_distracted\": 21.056, \"no_previous\": 21.28, \"ins_premium\": 827.34, \"ins_losses\": 142.39, \"abbrev\": \"AR\"}, {\"total\": 12.0, \"speeding\": 4.2, \"alcohol\": 3.36, \"not_distracted\": 10.92, \"no_previous\": 10.68, \"ins_premium\": 878.41, \"ins_losses\": 165.63, \"abbrev\": \"CA\"}, {\"total\": 13.6, \"speeding\": 5.032, \"alcohol\": 3.808, \"not_distracted\": 10.743999999999998, \"no_previous\": 12.92, \"ins_premium\": 835.5, \"ins_losses\": 139.91, \"abbrev\": \"CO\"}, {\"total\": 10.8, \"speeding\": 4.968, \"alcohol\": 3.888, \"not_distracted\": 9.396, \"no_previous\": 8.856, \"ins_premium\": 1068.73, \"ins_losses\": 167.02, \"abbrev\": \"CT\"}, {\"total\": 16.2, \"speeding\": 6.1560000000000015, \"alcohol\": 4.86, \"not_distracted\": 14.094000000000001, \"no_previous\": 16.038, \"ins_premium\": 1137.87, \"ins_losses\": 151.48, \"abbrev\": \"DE\"}, {\"total\": 5.9, \"speeding\": 2.006, \"alcohol\": 1.5930000000000002, \"not_distracted\": 5.9, \"no_previous\": 5.9, \"ins_premium\": 1273.89, \"ins_losses\": 136.05, \"abbrev\": \"DC\"}, {\"total\": 17.9, \"speeding\": 3.759, \"alcohol\": 5.190999999999999, \"not_distracted\": 16.468, \"no_previous\": 16.826, \"ins_premium\": 1160.13, \"ins_losses\": 144.18, \"abbrev\": \"FL\"}, {\"total\": 15.6, \"speeding\": 2.964, \"alcohol\": 3.9, \"not_distracted\": 14.82, \"no_previous\": 14.508, \"ins_premium\": 913.15, \"ins_losses\": 142.8, \"abbrev\": \"GA\"}, {\"total\": 17.5, \"speeding\": 9.45, \"alcohol\": 7.175, \"not_distracted\": 14.35, \"no_previous\": 15.225, \"ins_premium\": 861.18, \"ins_losses\": 120.92, \"abbrev\": \"HI\"}, {\"total\": 15.3, \"speeding\": 5.508000000000001, \"alcohol\": 4.437, \"not_distracted\": 13.005, \"no_previous\": 14.994000000000002, \"ins_premium\": 641.96, \"ins_losses\": 82.75, \"abbrev\": \"ID\"}, {\"total\": 12.8, \"speeding\": 4.6080000000000005, \"alcohol\": 4.352, \"not_distracted\": 12.032, \"no_previous\": 12.288000000000002, \"ins_premium\": 803.11, \"ins_losses\": 139.15, \"abbrev\": \"IL\"}, {\"total\": 14.5, \"speeding\": 3.625, \"alcohol\": 4.205, \"not_distracted\": 13.775, \"no_previous\": 13.775, \"ins_premium\": 710.46, \"ins_losses\": 108.92, \"abbrev\": \"IN\"}, {\"total\": 15.7, \"speeding\": 2.669, \"alcohol\": 3.925, \"not_distracted\": 15.229000000000001, \"no_previous\": 13.659, \"ins_premium\": 649.06, \"ins_losses\": 114.47, \"abbrev\": \"IA\"}, {\"total\": 17.8, \"speeding\": 4.806, \"alcohol\": 4.272, \"not_distracted\": 13.706, \"no_previous\": 15.13, \"ins_premium\": 780.45, \"ins_losses\": 133.8, \"abbrev\": \"KS\"}, {\"total\": 21.4, \"speeding\": 4.066, \"alcohol\": 4.922, \"not_distracted\": 16.691999999999997, \"no_previous\": 16.264, \"ins_premium\": 872.51, \"ins_losses\": 137.13, \"abbrev\": \"KY\"}, {\"total\": 20.5, \"speeding\": 7.175, \"alcohol\": 6.765, \"not_distracted\": 14.965, \"no_previous\": 20.09, \"ins_premium\": 1281.55, \"ins_losses\": 194.78, \"abbrev\": \"LA\"}, {\"total\": 15.1, \"speeding\": 5.738, \"alcohol\": 4.53, \"not_distracted\": 13.137, \"no_previous\": 12.684000000000001, \"ins_premium\": 661.88, \"ins_losses\": 96.57, \"abbrev\": \"ME\"}, {\"total\": 12.5, \"speeding\": 4.25, \"alcohol\": 4.0, \"not_distracted\": 8.875, \"no_previous\": 12.375, \"ins_premium\": 1048.78, \"ins_losses\": 192.7, \"abbrev\": \"MD\"}, {\"total\": 8.2, \"speeding\": 1.886, \"alcohol\": 2.87, \"not_distracted\": 7.134, \"no_previous\": 6.56, \"ins_premium\": 1011.14, \"ins_losses\": 135.63, \"abbrev\": \"MA\"}, {\"total\": 14.1, \"speeding\": 3.384, \"alcohol\": 3.948, \"not_distracted\": 13.395, \"no_previous\": 10.857, \"ins_premium\": 1110.61, \"ins_losses\": 152.26, \"abbrev\": \"MI\"}, {\"total\": 9.6, \"speeding\": 2.208, \"alcohol\": 2.784, \"not_distracted\": 8.448, \"no_previous\": 8.448, \"ins_premium\": 777.18, \"ins_losses\": 133.35, \"abbrev\": \"MN\"}, {\"total\": 17.6, \"speeding\": 2.64, \"alcohol\": 5.456, \"not_distracted\": 1.76, \"no_previous\": 17.6, \"ins_premium\": 896.07, \"ins_losses\": 155.77, \"abbrev\": \"MS\"}, {\"total\": 16.1, \"speeding\": 6.923000000000001, \"alcohol\": 5.474000000000001, \"not_distracted\": 14.812, \"no_previous\": 13.524, \"ins_premium\": 790.32, \"ins_losses\": 144.45, \"abbrev\": \"MO\"}, {\"total\": 21.4, \"speeding\": 8.345999999999998, \"alcohol\": 9.416, \"not_distracted\": 17.976, \"no_previous\": 18.19, \"ins_premium\": 816.21, \"ins_losses\": 85.15, \"abbrev\": \"MT\"}, {\"total\": 14.9, \"speeding\": 1.9370000000000005, \"alcohol\": 5.215, \"not_distracted\": 13.857, \"no_previous\": 13.41, \"ins_premium\": 732.28, \"ins_losses\": 114.82, \"abbrev\": \"NE\"}, {\"total\": 14.7, \"speeding\": 5.439, \"alcohol\": 4.704, \"not_distracted\": 13.965, \"no_previous\": 14.553, \"ins_premium\": 1029.87, \"ins_losses\": 138.71, \"abbrev\": \"NV\"}, {\"total\": 11.6, \"speeding\": 4.06, \"alcohol\": 3.48, \"not_distracted\": 10.092, \"no_previous\": 9.628, \"ins_premium\": 746.54, \"ins_losses\": 120.21, \"abbrev\": \"NH\"}, {\"total\": 11.2, \"speeding\": 1.7919999999999998, \"alcohol\": 3.136, \"not_distracted\": 9.632, \"no_previous\": 8.735999999999999, \"ins_premium\": 1301.52, \"ins_losses\": 159.85, \"abbrev\": \"NJ\"}, {\"total\": 18.4, \"speeding\": 3.496, \"alcohol\": 4.968, \"not_distracted\": 12.328, \"no_previous\": 18.032, \"ins_premium\": 869.85, \"ins_losses\": 120.75, \"abbrev\": \"NM\"}, {\"total\": 12.3, \"speeding\": 3.936, \"alcohol\": 3.5670000000000006, \"not_distracted\": 10.824000000000002, \"no_previous\": 9.84, \"ins_premium\": 1234.31, \"ins_losses\": 150.01, \"abbrev\": \"NY\"}, {\"total\": 16.8, \"speeding\": 6.5520000000000005, \"alcohol\": 5.208000000000001, \"not_distracted\": 15.792, \"no_previous\": 13.608, \"ins_premium\": 708.24, \"ins_losses\": 127.82, \"abbrev\": \"NC\"}, {\"total\": 23.9, \"speeding\": 5.496999999999999, \"alcohol\": 10.038, \"not_distracted\": 23.661, \"no_previous\": 20.554, \"ins_premium\": 688.75, \"ins_losses\": 109.72, \"abbrev\": \"ND\"}, {\"total\": 14.1, \"speeding\": 3.948, \"alcohol\": 4.794, \"not_distracted\": 13.958999999999998, \"no_previous\": 11.562, \"ins_premium\": 697.73, \"ins_losses\": 133.52, \"abbrev\": \"OH\"}, {\"total\": 19.9, \"speeding\": 6.3679999999999986, \"alcohol\": 5.770999999999999, \"not_distracted\": 18.308, \"no_previous\": 18.706, \"ins_premium\": 881.51, \"ins_losses\": 178.86, \"abbrev\": \"OK\"}, {\"total\": 12.8, \"speeding\": 4.224, \"alcohol\": 3.3280000000000003, \"not_distracted\": 8.576, \"no_previous\": 11.52, \"ins_premium\": 804.71, \"ins_losses\": 104.61, \"abbrev\": \"OR\"}, {\"total\": 18.2, \"speeding\": 9.1, \"alcohol\": 5.642, \"not_distracted\": 17.471999999999998, \"no_previous\": 16.016, \"ins_premium\": 905.99, \"ins_losses\": 153.86, \"abbrev\": \"PA\"}, {\"total\": 11.1, \"speeding\": 3.774, \"alcohol\": 4.218, \"not_distracted\": 10.212, \"no_previous\": 8.769, \"ins_premium\": 1148.99, \"ins_losses\": 148.58, \"abbrev\": \"RI\"}, {\"total\": 23.9, \"speeding\": 9.082, \"alcohol\": 9.799, \"not_distracted\": 22.944, \"no_previous\": 19.359, \"ins_premium\": 858.97, \"ins_losses\": 116.29, \"abbrev\": \"SC\"}, {\"total\": 19.4, \"speeding\": 6.0139999999999985, \"alcohol\": 6.401999999999999, \"not_distracted\": 19.012, \"no_previous\": 16.683999999999994, \"ins_premium\": 669.31, \"ins_losses\": 96.87, \"abbrev\": \"SD\"}, {\"total\": 19.5, \"speeding\": 4.095, \"alcohol\": 5.655, \"not_distracted\": 15.99, \"no_previous\": 15.795, \"ins_premium\": 767.91, \"ins_losses\": 155.57, \"abbrev\": \"TN\"}, {\"total\": 19.4, \"speeding\": 7.76, \"alcohol\": 7.371999999999999, \"not_distracted\": 17.654, \"no_previous\": 16.878, \"ins_premium\": 1004.75, \"ins_losses\": 156.83, \"abbrev\": \"TX\"}, {\"total\": 11.3, \"speeding\": 4.859, \"alcohol\": 1.808, \"not_distracted\": 9.943999999999999, \"no_previous\": 10.848000000000004, \"ins_premium\": 809.38, \"ins_losses\": 109.48, \"abbrev\": \"UT\"}, {\"total\": 13.6, \"speeding\": 4.08, \"alcohol\": 4.08, \"not_distracted\": 13.056, \"no_previous\": 12.92, \"ins_premium\": 716.2, \"ins_losses\": 109.61, \"abbrev\": \"VT\"}, {\"total\": 12.7, \"speeding\": 2.4130000000000003, \"alcohol\": 3.429, \"not_distracted\": 11.049000000000001, \"no_previous\": 11.175999999999998, \"ins_premium\": 768.95, \"ins_losses\": 153.72, \"abbrev\": \"VA\"}, {\"total\": 10.6, \"speeding\": 4.452, \"alcohol\": 3.498, \"not_distracted\": 8.692, \"no_previous\": 9.116, \"ins_premium\": 890.03, \"ins_losses\": 111.62, \"abbrev\": \"WA\"}, {\"total\": 23.8, \"speeding\": 8.092, \"alcohol\": 6.664, \"not_distracted\": 23.086, \"no_previous\": 20.706, \"ins_premium\": 992.61, \"ins_losses\": 152.56, \"abbrev\": \"WV\"}, {\"total\": 13.8, \"speeding\": 4.968, \"alcohol\": 4.553999999999999, \"not_distracted\": 5.3820000000000014, \"no_previous\": 11.592, \"ins_premium\": 670.31, \"ins_losses\": 106.62, \"abbrev\": \"WI\"}, {\"total\": 17.4, \"speeding\": 7.308, \"alcohol\": 5.568, \"not_distracted\": 14.094000000000001, \"no_previous\": 15.659999999999998, \"ins_premium\": 791.14, \"ins_losses\": 122.04, \"abbrev\": \"WY\"}]}}, {\"mode\": \"vega-lite\"});\n",
              "</script>"
            ]
          },
          "metadata": {
            "tags": []
          },
          "execution_count": 9
        }
      ]
    },
    {
      "cell_type": "markdown",
      "metadata": {
        "id": "vknSsvhndy8G"
      },
      "source": [
        "## Helper Functions"
      ]
    },
    {
      "cell_type": "markdown",
      "metadata": {
        "id": "40t-KUnwdy8G"
      },
      "source": [
        "## Plot for the Blog Post"
      ]
    },
    {
      "cell_type": "markdown",
      "metadata": {
        "id": "zcCPxJqcdy8N"
      },
      "source": [
        "## Sources\n",
        "\n",
        "- Hello This is a markdown page {% cite signaltrain %}\n",
        "\n",
        "https://twitter.com/eitanlees/status/1234608793109061633\n",
        "\n",
        "https://towardsdatascience.com/how-to-create-interactive-and-elegant-plot-with-altair-8dd87a890f2a\n",
        "\n",
        "https://calmcode.io/altair/recipe.html"
      ]
    },
    {
      "cell_type": "markdown",
      "metadata": {
        "id": "2WBK_6UMdy8N"
      },
      "source": [
        "## References"
      ]
    },
    {
      "cell_type": "markdown",
      "metadata": {
        "id": "U5umvn_Bdy8O"
      },
      "source": [
        "{% bibliography --cited %}"
      ]
    }
  ]
}