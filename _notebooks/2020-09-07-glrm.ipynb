{
  "nbformat": 4,
  "nbformat_minor": 0,
  "metadata": {
    "kernelspec": {
      "display_name": "Python 3.8.3 64-bit",
      "language": "python",
      "name": "python38364bit154eb24c3b124597acbf66f2245041ba"
    },
    "language_info": {
      "codemirror_mode": {
        "name": "ipython",
        "version": 3
      },
      "file_extension": ".py",
      "mimetype": "text/x-python",
      "name": "python",
      "nbconvert_exporter": "python",
      "pygments_lexer": "ipython3",
      "version": "3.8.3"
    },
    "colab": {
      "name": "2020-09-07-glrm.ipynb",
      "provenance": []
    }
  },
  "cells": [
    {
      "cell_type": "markdown",
      "metadata": {
        "id": "2JHaI0xdCXcw",
        "colab_type": "text"
      },
      "source": [
        "# \"Generalized Low Rank Model\"\n",
        "> \"My reference notebook for the glrm.\"\n",
        "\n",
        "- author: Christopher Thiemann\n",
        "- toc: true\n",
        "- branch: master\n",
        "- badges: true\n",
        "- comments: true\n",
        "- categories: [statistics, distributions]\n",
        "- hide: false\n",
        "- search_exclude: true"
      ]
    },
    {
      "cell_type": "markdown",
      "metadata": {
        "id": "onhUOUW1ZAhq",
        "colab_type": "text"
      },
      "source": [
        "> Important: Due to the scope this reference is under heavy development."
      ]
    },
    {
      "cell_type": "code",
      "metadata": {
        "id": "SJFijZisCa3W",
        "colab_type": "code",
        "colab": {
          "base_uri": "https://localhost:8080/",
          "height": 71
        },
        "outputId": "14f67610-6cd6-4ab1-8d4f-3b205365e687"
      },
      "source": [
        "#hide\n",
        "import cvxpy as cp\n",
        "import numpy as np\n",
        "import matplotlib.pyplot as plt\n",
        "import seaborn as sns; sns.set()\n",
        "from sklearn.decomposition import PCA\n",
        "\n"
      ],
      "execution_count": 28,
      "outputs": [
        {
          "output_type": "stream",
          "text": [
            "/usr/local/lib/python3.6/dist-packages/statsmodels/tools/_testing.py:19: FutureWarning: pandas.util.testing is deprecated. Use the functions in the public API at pandas.testing instead.\n",
            "  import pandas.util.testing as tm\n"
          ],
          "name": "stderr"
        }
      ]
    },
    {
      "cell_type": "markdown",
      "metadata": {
        "id": "mNW9Jd45CXc3",
        "colab_type": "text"
      },
      "source": [
        "## Motivation"
      ]
    },
    {
      "cell_type": "markdown",
      "metadata": {
        "id": "C4T2IxR3CXc5",
        "colab_type": "text"
      },
      "source": [
        "WWatching this video got me interested into generalized low rank models:"
      ]
    },
    {
      "cell_type": "markdown",
      "metadata": {
        "id": "6aQt5VwDCXc6",
        "colab_type": "text"
      },
      "source": [
        "> youtube: https://www.youtube.com/watch?v=9iol3Lk6kyU&t=16s"
      ]
    },
    {
      "cell_type": "markdown",
      "metadata": {
        "id": "-hWct-n6CXc9",
        "colab_type": "text"
      },
      "source": [
        "I will start with PCA as ntroductory example and to motivate the idea of matri decomposition. Then I will introduce the general generalized low rank framework (GLRM) by {% cite udell2014generalized %}. From there I will discuss all the different factorization methods which one can derive from the framework."
      ]
    },
    {
      "cell_type": "markdown",
      "metadata": {
        "id": "V1qMaCZ9CXc-",
        "colab_type": "text"
      },
      "source": [
        "## Introduction"
      ]
    },
    {
      "cell_type": "markdown",
      "metadata": {
        "id": "G0EusOZ0CXdA",
        "colab_type": "text"
      },
      "source": [
        "## The Model"
      ]
    },
    {
      "cell_type": "markdown",
      "metadata": {
        "id": "LlLJdJ1ECXdB",
        "colab_type": "text"
      },
      "source": [
        "We have given our data matrix $X$ which has $n$ rows representing the observations and $p$ columns representing the variables. In many cases we have more observations than variables i.e. $n > p$. ut sometimes $p$ is \"large\" and therefore you can't use non paametric techniques for example. This motivates the idea to represent $X$ with another matrix say $U$ which has fewer columns than $X$ but still captures most of the information contained in $X$. This leads to the idea of matrix factorization.\n",
        "\n",
        "$X \\approx U V$\n",
        "\n",
        "where $U$ is $n \\times d$ and $V$ is $d \\times p$. Again we think about $U$ as a low dimensional approximation of our data hence $d < p$ and $V$ can be though of as a mapping of the compressed features back to the original ones.\n",
        "\n",
        "Like explained in th talk, depending on what we mean/define to be $\\approx$ we get many different dimensionality reduction techniques. \n",
        "\n",
        "$Loss(X, U V)$\n",
        "\n",
        "let's define $u_i$ to be the i'th row of $U$ and $v_j$ to be the j'th column of $V$. For example the very first entry in the data matrix $x_{11}$ is approximated by $u_1 v_1 = \\sum_{j=1}^d u_{1j} v_{j1}$. I will use the notation $(UV)_{11}$ the problem can then be written as\n",
        "\n",
        "$\\sum_{i=1}^n \\sum_{j=1}^p Loss(X_{ij}, (UV)_{ij})$\n",
        "\n",
        "more generally we can also add optmiation constraints on $U$ and $V$\n",
        "\n",
        "$\\sum_{i=1}^n \\sum_{j=1}^p Loss(X_{ij}, (UV)_{ij}) + \\sum_{i=1}^nr_i(u_i) + \\sum_{j=1}^pr_j(v_j)$\n"
      ]
    },
    {
      "cell_type": "markdown",
      "metadata": {
        "id": "MJ632TSCCXdD",
        "colab_type": "text"
      },
      "source": [
        "### PCA"
      ]
    },
    {
      "cell_type": "markdown",
      "metadata": {
        "id": "B3TcbkuPCXdF",
        "colab_type": "text"
      },
      "source": [
        "We recover PCA if we use mean squared error as loss function and don't use any constraints\n",
        "\n",
        "$\\sum_{i=1}^n \\sum_{j=1}^p (X_{ij} - (UV)_{ij})^2$\n"
      ]
    },
    {
      "cell_type": "code",
      "metadata": {
        "id": "SjKt3IkNa88H",
        "colab_type": "code",
        "colab": {
          "base_uri": "https://localhost:8080/",
          "height": 285
        },
        "outputId": "94a6172c-0bec-4544-8b59-1226a353f083"
      },
      "source": [
        "from sklearn.datasets import load_iris\n",
        "\n",
        "X, y = load_iris(return_X_y = True)\n",
        "\n",
        "X = (X - X.mean()) / X.std()\n",
        "\n",
        "n, p = X.shape\n",
        "\n",
        "n_comp = 2\n",
        "\n",
        "pca = PCA(n_comp)\n",
        "\n",
        "x_approx = pca.fit_transform(X)\n",
        "plt.scatter(x_approx[:,0], x_approx[:, 1], c = y)"
      ],
      "execution_count": null,
      "outputs": [
        {
          "output_type": "execute_result",
          "data": {
            "text/plain": [
              "<matplotlib.collections.PathCollection at 0x7f593c0bee48>"
            ]
          },
          "metadata": {
            "tags": []
          },
          "execution_count": 78
        },
        {
          "output_type": "display_data",
          "data": {
            "image/png": "[encoded data removed]",
            "text/plain": [
              "<Figure size 432x288 with 1 Axes>"
            ]
          },
          "metadata": {
            "tags": []
          }
        }
      ]
    },
    {
      "cell_type": "code",
      "metadata": {
        "id": "5NZh9VI7C3Sw",
        "colab_type": "code",
        "colab": {
          "base_uri": "https://localhost:8080/",
          "height": 1000
        },
        "outputId": "b11c4c59-0ba7-4b70-bf95-b42f60b5406e"
      },
      "source": [
        "u = cp.Variable((n, n_comp))\n",
        "v = np.random.normal(size = (n_comp, p))\n",
        "\n",
        "obj = cp.sum_squares(X - u @ v)\n",
        "\n",
        "problem = cp.Problem(cp.Minimize(obj))\n",
        "\n",
        "problem.solve()\n",
        "\n",
        "u.value\n",
        "\n",
        "i = 1\n",
        "\n",
        "while True:\n",
        "\n",
        "    # in odd cases fix u\n",
        "    if i % 2 != 0:\n",
        "\n",
        "        u = u.value\n",
        "        v = cp.Variable((n_comp, p))\n",
        "\n",
        "        #print(u)\n",
        "\n",
        "\n",
        "    # in even cases fix v\n",
        "    if i % 2 == 0:\n",
        "\n",
        "        u = cp.Variable((n, n_comp))\n",
        "        v = v.value\n",
        "\n",
        "        #print(v)\n",
        "\n",
        "    obj = cp.norm(X - u * v, 'fro')\n",
        "    problem = cp.Problem(cp.Minimize(obj))\n",
        "    problem.solve()\n",
        "\n",
        "    print(problem.value)\n",
        "\n",
        "\n",
        "    i += 1\n",
        "\n",
        "    if i == 100:\n",
        "\n",
        "        break\n",
        "\n",
        "    \n",
        "\n",
        "\n"
      ],
      "execution_count": null,
      "outputs": [
        {
          "output_type": "stream",
          "text": [
            "6.667556480665767\n",
            "3.2997276888415596\n",
            "3.0542451664750963\n",
            "3.0421720895511433\n",
            "3.041570811405219\n",
            "3.0415403995622956\n",
            "3.041538830257549\n",
            "3.041538770827892\n",
            "3.0415387471322752\n",
            "3.0415387665822027\n",
            "3.041538746915346\n",
            "3.041538766571112\n",
            "3.041538746914772\n",
            "3.041538766571083\n",
            "3.041538746914774\n",
            "3.0415387665710756\n",
            "3.0415387469147688\n",
            "3.041538766571081\n",
            "3.0415387469147825\n",
            "3.041538766571073\n",
            "3.041538746914792\n",
            "3.041538766571088\n",
            "3.0415387469147737\n",
            "3.041538766571081\n",
            "3.041538746914786\n",
            "3.041538766571089\n",
            "3.0415387469147754\n",
            "3.041538766571072\n",
            "3.0415387469147817\n",
            "3.04153876657108\n",
            "3.041538746914775\n",
            "3.04153876657108\n",
            "3.041538746914771\n",
            "3.0415387665710867\n",
            "3.041538746914782\n",
            "3.041538766571082\n",
            "3.041538746914773\n",
            "3.0415387665710836\n",
            "3.041538746914765\n",
            "3.0415387665710787\n",
            "3.0415387469147706\n",
            "3.0415387665710747\n",
            "3.041538746914767\n",
            "3.0415387665710876\n",
            "3.041538746914766\n",
            "3.041538766571086\n",
            "3.041538746914777\n",
            "3.0415387665710845\n",
            "3.0415387469147737\n",
            "3.0415387665710707\n",
            "3.041538746914772\n",
            "3.041538766571072\n",
            "3.0415387469147777\n",
            "3.0415387665710774\n",
            "3.04153874691477\n",
            "3.0415387665710822\n",
            "3.041538746914774\n",
            "3.041538766571079\n",
            "3.0415387469147714\n",
            "3.041538766571084\n",
            "3.041538746914777\n",
            "3.0415387665710893\n",
            "3.04153874691478\n",
            "3.0415387665710836\n",
            "3.041538746914777\n",
            "3.04153876657107\n",
            "3.041538746914766\n",
            "3.041538766571077\n",
            "3.0415387469147777\n",
            "3.041538766571088\n",
            "3.041538746914762\n",
            "3.0415387665710725\n",
            "3.0415387469147657\n",
            "3.0415387665710782\n",
            "3.0415387469147634\n",
            "3.0415387665710685\n",
            "3.041538746914776\n",
            "3.0415387665710885\n",
            "3.041538746914767\n",
            "3.0415387665710814\n",
            "3.0415387469147777\n",
            "3.0415387665710703\n",
            "3.0415387469147785\n",
            "3.0415387665710885\n",
            "3.041538746914778\n",
            "3.041538766571086\n",
            "3.041538746914773\n",
            "3.0415387665710893\n",
            "3.0415387469147794\n",
            "3.041538766571082\n",
            "3.0415387469147777\n",
            "3.0415387665710827\n",
            "3.041538746914773\n",
            "3.0415387665710774\n",
            "3.0415387469147777\n",
            "3.041538766571066\n",
            "3.0415387469147785\n",
            "3.0415387665710694\n",
            "3.0415387469147763\n"
          ],
          "name": "stdout"
        }
      ]
    },
    {
      "cell_type": "code",
      "metadata": {
        "id": "a7aJjNVCdCt9",
        "colab_type": "code",
        "colab": {
          "base_uri": "https://localhost:8080/",
          "height": 285
        },
        "outputId": "37150c83-05b1-43f5-fce1-8316fde73d55"
      },
      "source": [
        "plt.scatter(u[:, 0], u[:, 1], c = y)"
      ],
      "execution_count": null,
      "outputs": [
        {
          "output_type": "execute_result",
          "data": {
            "text/plain": [
              "<matplotlib.collections.PathCollection at 0x7f593db383c8>"
            ]
          },
          "metadata": {
            "tags": []
          },
          "execution_count": 84
        },
        {
          "output_type": "display_data",
          "data": {
            "image/png": "[encoded data removed]",
            "text/plain": [
              "<Figure size 432x288 with 1 Axes>"
            ]
          },
          "metadata": {
            "tags": []
          }
        }
      ]
    },
    {
      "cell_type": "markdown",
      "metadata": {
        "id": "Zt8t3xH7dodF",
        "colab_type": "text"
      },
      "source": [
        "## Sparse PCA"
      ]
    },
    {
      "cell_type": "markdown",
      "metadata": {
        "id": "w7NuMFEsffVb",
        "colab_type": "text"
      },
      "source": [
        "Let's have a look at the first row of our $U$ matrix from the IRIS example."
      ]
    },
    {
      "cell_type": "code",
      "metadata": {
        "id": "l70XYXISfnT5",
        "colab_type": "code",
        "colab": {
          "base_uri": "https://localhost:8080/",
          "height": 34
        },
        "outputId": "0afd5af0-4e0c-4d89-cf91-015980c463fe"
      },
      "source": [
        "#hide_input\n",
        "u[0, :]"
      ],
      "execution_count": null,
      "outputs": [
        {
          "output_type": "execute_result",
          "data": {
            "text/plain": [
              "array([-0.25091784, -0.71055147])"
            ]
          },
          "metadata": {
            "tags": []
          },
          "execution_count": 85
        }
      ]
    },
    {
      "cell_type": "markdown",
      "metadata": {
        "id": "lRD_w5yEdyhM",
        "colab_type": "text"
      },
      "source": [
        "All entries for that observation are nonzero, imaging we have 300 variables and reduce it down to 100. THen we would have 100 non zero entries with PCA. It might be useful if $U$ were sparse meaning alot of entries in $U$ are zero. This would even further help interpreting results. This motivateS sparse PCA. In sparse PCA we have the same loss as in PCA but this time we add some constraints namely we have\n",
        "\n",
        "$\\sum_{i=1}^n \\sum_{j=1}^p (X_{ij} - (UV)_{ij})^2 \\ \\ \\ s.t. ||U||_2 = 1 \\ \\ \\text{and} \\ \\ ||U||_0 \\leq k$\n",
        "\n",
        "The first constraint helps with identifcation and the second, means that we want $K$ non zero entries for each row of our matrix $U$.\n",
        "\n",
        "Estimating this is not easy because of the $l0$ norm. One approximation could be to use a l1 penalty ala lasso. \n",
        "\n",
        "$\\sum_{i=1}^n \\sum_{j=1}^p (X_{ij} - (UV)_{ij})^2 + \\lambda ||U||_1 \\ \\ \\ s.t. ||U||_2 = 1$\n",
        "\n",
        "The downsaide with this approach is that we can't control the umber of non zero entries."
      ]
    },
    {
      "cell_type": "markdown",
      "metadata": {
        "id": "mvs4ucqqmgvB",
        "colab_type": "text"
      },
      "source": [
        "## K-Means"
      ]
    },
    {
      "cell_type": "markdown",
      "metadata": {
        "id": "DCevNA9ymkFx",
        "colab_type": "text"
      },
      "source": [
        "If we set $k = 1$ in Sparse PCA the nwe get K-Means clustering. In the matrix $U$ each row will have a non zero entry. The column index of this entry can be interpreted as cluster label.\n",
        "\n",
        "The matrix V contains the cluster centroids.\n",
        "\n",
        "Since this requires $k= 1$ I dont know how to estimate this at the moment."
      ]
    },
    {
      "cell_type": "markdown",
      "metadata": {
        "id": "VPJJ08UBnryB",
        "colab_type": "text"
      },
      "source": [
        "## Non negative matrix factorization"
      ]
    },
    {
      "cell_type": "markdown",
      "metadata": {
        "id": "kZOUjVjgnwQM",
        "colab_type": "text"
      },
      "source": [
        "Sometimes one has given a matrix which only contains non negatve entries. This could be images, bag of words,... It would be desirable to incorporate this information into matrix decomposiiotns. There are many variants on how to state the optimization problem. The most intuitive is the following\n",
        "\n",
        "$\\sum_{i=1}^n \\sum_{j=1}^p (X_{ij} - (UV)_{ij})^2  \\ \\ \\text{such that} \\ \\ \\ U \\geq 0 \\ \\ \\text{and} \\ \\ V \\geq 0$"
      ]
    },
    {
      "cell_type": "markdown",
      "metadata": {
        "id": "jjppJ_SRCXdH",
        "colab_type": "text"
      },
      "source": [
        "## Exponential dispersion family pca"
      ]
    },
    {
      "cell_type": "markdown",
      "metadata": {
        "id": "xVXPv1QRp2O1",
        "colab_type": "text"
      },
      "source": [
        "exponential dispersion pca generalizes all mentioned above. We cna think as if our data matrix was geneated by some parametrizable distribution. In other words we think of the approximation $(UV)_{ij}$ for some datapoint $x_{ij}$ as the mean of the distribution generating $x_{ij}$ for example $x_{ij} \\sim N((UV)_{ij}, \\sigma)$.\n",
        "\n",
        "If our data is non negative we could choose a poisson distribution as genarting process the solution to this problem is the same as in NNMF!"
      ]
    },
    {
      "cell_type": "markdown",
      "metadata": {
        "id": "KhzZABIICXdM",
        "colab_type": "text"
      },
      "source": [
        "### Extensions"
      ]
    },
    {
      "cell_type": "markdown",
      "metadata": {
        "id": "CFFRmzYxCXdO",
        "colab_type": "text"
      },
      "source": [
        "## Simulations"
      ]
    },
    {
      "cell_type": "markdown",
      "metadata": {
        "id": "PDHU5TNYCXdP",
        "colab_type": "text"
      },
      "source": [
        "## Real world example"
      ]
    },
    {
      "cell_type": "markdown",
      "metadata": {
        "id": "jXNa_VUAmfuw",
        "colab_type": "text"
      },
      "source": [
        "## Applications"
      ]
    },
    {
      "cell_type": "markdown",
      "metadata": {
        "id": "4XiaPBo8mhtl",
        "colab_type": "text"
      },
      "source": [
        "### Missing Value imputation"
      ]
    },
    {
      "cell_type": "markdown",
      "metadata": {
        "id": "q482CCQzmlA_",
        "colab_type": "text"
      },
      "source": [
        "compression store only U and V and recover X with minimal loss\n",
        "\n",
        "outlier detection, check where apprimation is bad"
      ]
    },
    {
      "cell_type": "markdown",
      "metadata": {
        "id": "2t1Hm6G8CXdR",
        "colab_type": "text"
      },
      "source": [
        "## Helper Functions"
      ]
    },
    {
      "cell_type": "markdown",
      "metadata": {
        "id": "seymxdinCXdS",
        "colab_type": "text"
      },
      "source": [
        "## Plot for the Blog Post"
      ]
    },
    {
      "cell_type": "code",
      "metadata": {
        "id": "EJ7dKSelCXdU",
        "colab_type": "code",
        "colab": {}
      },
      "source": [
        ""
      ],
      "execution_count": null,
      "outputs": []
    },
    {
      "cell_type": "markdown",
      "metadata": {
        "id": "NI4zDGwhCXdf",
        "colab_type": "text"
      },
      "source": [
        "## References"
      ]
    },
    {
      "cell_type": "markdown",
      "metadata": {
        "id": "GXR82KeeCXdg",
        "colab_type": "text"
      },
      "source": [
        "{% bibliography --cited %}"
      ]
    }
  ]
}