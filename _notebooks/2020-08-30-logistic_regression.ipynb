{
 "cells": [
  {
   "cell_type": "markdown",
   "metadata": {},
   "source": [
    "# \"Logistic Regression\"\n",
    "> \"My reference notebook for the logistic regression model.\"\n",
    "\n",
    "- author: Christopher Thiemann\n",
    "- toc: true\n",
    "- branch: master\n",
    "- badges: true\n",
    "- comments: true\n",
    "- categories: [statistics, machine learning, regression]\n",
    "- hide: false\n",
    "- search_exclude: true\n",
    "- image: images/logistic_regression.png"
   ]
  },
  {
   "cell_type": "code",
   "execution_count": 159,
   "metadata": {},
   "outputs": [
    {
     "name": "stdout",
     "output_type": "stream",
     "text": [
      "The rpy2.ipython extension is already loaded. To reload it, use:\n",
      "  %reload_ext rpy2.ipython\n"
     ]
    }
   ],
   "source": [
    "#hide\n",
    "import numpy as np\n",
    "from sklearn.linear_model import LogisticRegression\n",
    "import matplotlib.pyplot as plt\n",
    "import seaborn as sns; sns.set()\n",
    "plt.style.use('ggplot')\n",
    "from scipy.stats import bernoulli\n",
    "from scipy.optimize import minimize_scalar\n",
    "import pandas as pd\n",
    "import statsmodels.api as sm\n",
    "from sklearn.calibration import calibration_curve\n",
    "%load_ext rpy2.ipython"
   ]
  },
  {
   "cell_type": "markdown",
   "metadata": {},
   "source": [
    "## Motivation"
   ]
  },
  {
   "cell_type": "markdown",
   "metadata": {},
   "source": [
    "Often one has to work with binary data, e.g. in fraud detection, bought a product vs. not bought,... The question is how to model this type of data. As we will see the naive idea of using a linear regression model is not well suited. "
   ]
  },
  {
   "cell_type": "markdown",
   "metadata": {},
   "source": [
    "## The Model"
   ]
  },
  {
   "cell_type": "markdown",
   "metadata": {},
   "source": [
    "One way modeling binary data is to model it as if were drawn from a *bernouli* distribution. So if our data takes on values $y_i \\in \\{0,1\\}$ for all $i=1,...,n$ Hence \n",
    "\n",
    "$y_i \\sim Ber(\\pi_i)$\n",
    "\n",
    "as usual on the GLM setting we model the mean $\\pi_i$ as linear combination of the explanatory data $x_1,...,x_n$\n",
    "\n",
    "$\\pi_i=p(y_i = 1 | X=x_i, \\beta)=\\beta_0 + \\beta_1 x_{i1} + ... + \\beta_p x_{ip}$.\n",
    "Note $E(y_i)=\\pi_i$ Further note that the systematic component is not restricted, meaning it can take on values outside the range of $[0, 1]$. This motivates to constrain the linear component by first passing it through a function which maps values to $[0, 1]$ (there are also problems with heteroscedasticity). The most used function is the sigmoid.\n",
    "\n",
    "$f(x) = \\frac{1}{1 + e^{-x}}$\n",
    "\n",
    "Hence we model\n",
    "\n",
    "$p(y_i = 1 | X=x_i, \\beta)=f(\\beta_0 + \\beta_1 x_{i1} + ... + \\beta_p x_{ip})=f(x_i' \\beta)$\n"
   ]
  },
  {
   "cell_type": "markdown",
   "metadata": {},
   "source": [
    "### Odds"
   ]
  },
  {
   "cell_type": "markdown",
   "metadata": {},
   "source": [
    "We can rewrite the model as follows\n",
    "\n",
    "$\\pi_i + e ^{-x_i'\\beta} \\pi_i = 1$\n",
    "\n",
    "$e ^{-x_i'\\beta} = \\frac{1 - \\pi_i}{\\pi_i}$\n",
    "\n",
    "$x_i'\\beta = - ln(\\frac{1 - \\pi_i}{\\pi_i}) = ln(\\frac{ \\pi_i}{1 - \\pi_i})$\n",
    "\n",
    "Define $\\frac{ \\pi_i}{1 - \\pi_i}$ as *Odds* with this we have a linear model for the odds with a log link function. This will later help in interpreting the coefficients.\n",
    "\n",
    "$ln(Odds_i)=x_i'\\beta$"
   ]
  },
  {
   "cell_type": "markdown",
   "metadata": {},
   "source": [
    "### Estimation"
   ]
  },
  {
   "cell_type": "markdown",
   "metadata": {},
   "source": [
    "#### The loss function"
   ]
  },
  {
   "cell_type": "markdown",
   "metadata": {},
   "source": [
    "We can estimate the coeficients of interest via maximum likelihood. If $y_i$ is iid for all obersavtions we can use as thee the negative of the maximum likelihood function\n",
    "\n",
    "$L= \\Pi_i \\pi_i^{y_i} (1 - \\pi_i)^{1-y_i}$\n",
    "\n",
    "Taking the log one the negative log likelihood is\n",
    "\n",
    "$-ln(L) = - \\sum_i [ y_i ln(\\pi_i)+(1- y_i) ln(1 - \\pi_i)]$\n",
    "\n"
   ]
  },
  {
   "cell_type": "markdown",
   "metadata": {},
   "source": [
    "#### Gradient"
   ]
  },
  {
   "cell_type": "markdown",
   "metadata": {},
   "source": [
    "One can show that the gradient of the loss is given by\n",
    "\n",
    "$X'(\\pi-y)$\n",
    "\n",
    "don't forget that $\\beta$ is hidden in $\\pi$ i.e. $\\pi_i = sigmoid(x_i' \\beta)$ for all $i=1,...,n$\n"
   ]
  },
  {
   "cell_type": "markdown",
   "metadata": {},
   "source": [
    "#### Hessian"
   ]
  },
  {
   "cell_type": "markdown",
   "metadata": {},
   "source": [
    "The Hessian is given\n",
    "\n",
    "$X'SX$\n",
    "\n",
    "where $S=diag(\\pi_i(1-\\pi_i))$"
   ]
  },
  {
   "cell_type": "markdown",
   "metadata": {},
   "source": [
    "#### Convexity"
   ]
  },
  {
   "cell_type": "markdown",
   "metadata": {},
   "source": [
    "One can show that the hessian is positve definite and hence if we find a minimum of the loss we can be sure that it is also the global minimum."
   ]
  },
  {
   "cell_type": "markdown",
   "metadata": {},
   "source": [
    "#### Gradient descent"
   ]
  },
  {
   "cell_type": "markdown",
   "metadata": {},
   "source": [
    "#### IRLS"
   ]
  },
  {
   "cell_type": "markdown",
   "metadata": {},
   "source": [
    "#### Online learning"
   ]
  },
  {
   "cell_type": "markdown",
   "metadata": {},
   "source": [
    "### Latent variable interpretation"
   ]
  },
  {
   "cell_type": "markdown",
   "metadata": {},
   "source": [
    "### Generalization to more than 2 classes."
   ]
  },
  {
   "cell_type": "markdown",
   "metadata": {},
   "source": [
    "### Assumptions"
   ]
  },
  {
   "cell_type": "markdown",
   "metadata": {},
   "source": [
    "#### Linear Seperability"
   ]
  },
  {
   "cell_type": "markdown",
   "metadata": {},
   "source": [
    "One of the assumptions is that the target is not *linear seperable* by the features. That means there is a feature $x$ and threshold such that we can perfectly classify the target by a rule such as for all the data less than the threshold i.e. $y = 1(x> threshold)$ we know it is $y=0$ and above $y=1$ and hence we dont need a model at all. In the a two dimensional case the sigmoid converges to the indicator function and in the limit $\\beta_1 -> \\infty$. One way to counter this effect is to all regularization to the model.\n",
    "\n",
    "Consider the example below"
   ]
  },
  {
   "cell_type": "code",
   "execution_count": 157,
   "metadata": {},
   "outputs": [
    {
     "data": {
      "image/png": "[encoded data removed]",
      "text/plain": [
       "<Figure size 432x288 with 1 Axes>"
      ]
     },
     "metadata": {},
     "output_type": "display_data"
    }
   ],
   "source": [
    "np.random.seed(123)\n",
    "\n",
    "for i in [2, 5]:\n",
    "    \n",
    "    x = np.random.rand(100)\n",
    "    \n",
    "    y = np.where(x < .5, 1, 0)\n",
    "\n",
    "\n",
    "    y[1:i] = 1\n",
    "\n",
    "    x = x.reshape(-1, 1)\n",
    "\n",
    "    model = LogisticRegression(fit_intercept = True, penalty = 'none').fit(x, y)\n",
    "\n",
    "\n",
    "    plt.scatter(x, model.predict_proba(x)[:, 0])\n",
    "    \n",
    "    model = LogisticRegression(fit_intercept = True, penalty = 'l2').fit(x, y)\n",
    "\n",
    "\n",
    "    plt.scatter(x, model.predict_proba(x)[:, 0])\n",
    "\n",
    "\n"
   ]
  },
  {
   "cell_type": "markdown",
   "metadata": {},
   "source": [
    "### Rare events"
   ]
  },
  {
   "cell_type": "markdown",
   "metadata": {},
   "source": [
    "### Some Theory"
   ]
  },
  {
   "cell_type": "markdown",
   "metadata": {},
   "source": [
    "### Interpretation"
   ]
  },
  {
   "cell_type": "markdown",
   "metadata": {},
   "source": [
    "The problem with interpreting the coefficients is that the model is nonlinear. That means we can't just say if variable $x_1$ increases by 1 then $y$ increases by $\\beta_1$. Due to the non linearities this effect depends on on the values of the other variables $x_2,...,x_p$ and hence the effect is different for each person."
   ]
  },
  {
   "cell_type": "markdown",
   "metadata": {},
   "source": [
    "#### Odds Interpretation"
   ]
  },
  {
   "cell_type": "markdown",
   "metadata": {},
   "source": [
    "#### Partial dependence plots"
   ]
  },
  {
   "cell_type": "markdown",
   "metadata": {},
   "source": [
    "### Calibrating Probabilities"
   ]
  },
  {
   "cell_type": "markdown",
   "metadata": {},
   "source": [
    "### Extensions"
   ]
  },
  {
   "cell_type": "markdown",
   "metadata": {},
   "source": [
    "#### Regularization"
   ]
  },
  {
   "cell_type": "markdown",
   "metadata": {},
   "source": [
    "#### Bayesian"
   ]
  },
  {
   "cell_type": "markdown",
   "metadata": {},
   "source": [
    "#### Kernelized"
   ]
  },
  {
   "cell_type": "markdown",
   "metadata": {},
   "source": [
    "## Simulations"
   ]
  },
  {
   "cell_type": "markdown",
   "metadata": {},
   "source": [
    "## Applications"
   ]
  },
  {
   "cell_type": "markdown",
   "metadata": {},
   "source": [
    "### Classification"
   ]
  },
  {
   "cell_type": "markdown",
   "metadata": {},
   "source": [
    "## Real world example"
   ]
  },
  {
   "cell_type": "markdown",
   "metadata": {},
   "source": [
    "As toy data set I am going to use the [palmer penguins data](https://github.com/allisonhorst/palmerpenguins). "
   ]
  },
  {
   "cell_type": "markdown",
   "metadata": {},
   "source": [
    "### Load Data"
   ]
  },
  {
   "cell_type": "code",
   "execution_count": null,
   "metadata": {},
   "outputs": [],
   "source": [
    "%%R\n",
    "library(palmerpenguins)"
   ]
  },
  {
   "cell_type": "code",
   "execution_count": 94,
   "metadata": {},
   "outputs": [
    {
     "data": {
      "text/html": [
       "<div>\n",
       "<style scoped>\n",
       "    .dataframe tbody tr th:only-of-type {\n",
       "        vertical-align: middle;\n",
       "    }\n",
       "\n",
       "    .dataframe tbody tr th {\n",
       "        vertical-align: top;\n",
       "    }\n",
       "\n",
       "    .dataframe thead th {\n",
       "        text-align: right;\n",
       "    }\n",
       "</style>\n",
       "<table border=\"1\" class=\"dataframe\">\n",
       "  <thead>\n",
       "    <tr style=\"text-align: right;\">\n",
       "      <th></th>\n",
       "      <th>species</th>\n",
       "      <th>island</th>\n",
       "      <th>bill_length_mm</th>\n",
       "      <th>bill_depth_mm</th>\n",
       "      <th>flipper_length_mm</th>\n",
       "      <th>body_mass_g</th>\n",
       "      <th>constant</th>\n",
       "    </tr>\n",
       "  </thead>\n",
       "  <tbody>\n",
       "    <tr>\n",
       "      <th>1</th>\n",
       "      <td>Adelie</td>\n",
       "      <td>Torgersen</td>\n",
       "      <td>39.1</td>\n",
       "      <td>18.7</td>\n",
       "      <td>181</td>\n",
       "      <td>3750</td>\n",
       "      <td>1</td>\n",
       "    </tr>\n",
       "    <tr>\n",
       "      <th>2</th>\n",
       "      <td>Adelie</td>\n",
       "      <td>Torgersen</td>\n",
       "      <td>39.5</td>\n",
       "      <td>17.4</td>\n",
       "      <td>186</td>\n",
       "      <td>3800</td>\n",
       "      <td>1</td>\n",
       "    </tr>\n",
       "    <tr>\n",
       "      <th>3</th>\n",
       "      <td>Adelie</td>\n",
       "      <td>Torgersen</td>\n",
       "      <td>40.3</td>\n",
       "      <td>18.0</td>\n",
       "      <td>195</td>\n",
       "      <td>3250</td>\n",
       "      <td>1</td>\n",
       "    </tr>\n",
       "    <tr>\n",
       "      <th>5</th>\n",
       "      <td>Adelie</td>\n",
       "      <td>Torgersen</td>\n",
       "      <td>36.7</td>\n",
       "      <td>19.3</td>\n",
       "      <td>193</td>\n",
       "      <td>3450</td>\n",
       "      <td>1</td>\n",
       "    </tr>\n",
       "    <tr>\n",
       "      <th>6</th>\n",
       "      <td>Adelie</td>\n",
       "      <td>Torgersen</td>\n",
       "      <td>39.3</td>\n",
       "      <td>20.6</td>\n",
       "      <td>190</td>\n",
       "      <td>3650</td>\n",
       "      <td>1</td>\n",
       "    </tr>\n",
       "  </tbody>\n",
       "</table>\n",
       "</div>"
      ],
      "text/plain": [
       "  species     island  bill_length_mm  bill_depth_mm  flipper_length_mm  \\\n",
       "1  Adelie  Torgersen            39.1           18.7                181   \n",
       "2  Adelie  Torgersen            39.5           17.4                186   \n",
       "3  Adelie  Torgersen            40.3           18.0                195   \n",
       "5  Adelie  Torgersen            36.7           19.3                193   \n",
       "6  Adelie  Torgersen            39.3           20.6                190   \n",
       "\n",
       "   body_mass_g  constant  \n",
       "1         3750         1  \n",
       "2         3800         1  \n",
       "3         3250         1  \n",
       "5         3450         1  \n",
       "6         3650         1  "
      ]
     },
     "execution_count": 94,
     "metadata": {},
     "output_type": "execute_result"
    }
   ],
   "source": [
    "df = %R penguins\n",
    "df.dropna(inplace = True)\n",
    "df.drop(columns = ['year', 'sex'], inplace = True)\n",
    "df['constant'] = 1\n",
    "df.head()"
   ]
  },
  {
   "cell_type": "markdown",
   "metadata": {},
   "source": [
    "Since there are 3 species (3 classes in logistc regression language) I will do a one vs. all approach to stay in the binary world. In the following I will find a suitable \"target\"."
   ]
  },
  {
   "cell_type": "code",
   "execution_count": 41,
   "metadata": {},
   "outputs": [
    {
     "data": {
      "image/png": "[encoded data removed]",
      "text/plain": [
       "<Figure size 432x288 with 2 Axes>"
      ]
     },
     "metadata": {},
     "output_type": "display_data"
    }
   ],
   "source": [
    "#hide\n",
    "fig, axes = plt.subplots(1, 2, tight_layout = True)\n",
    "sns.stripplot(x = 'species', y = 'bill_depth_mm', data = df, ax = axes[0])\n",
    "sns.stripplot(x = 'species', y = 'body_mass_g', data = df, ax = axes[1]);"
   ]
  },
  {
   "cell_type": "markdown",
   "metadata": {},
   "source": [
    "Seems we will get some meaningful results if we code Gentoo = 1 and Adelie and Chinstrap = 0."
   ]
  },
  {
   "cell_type": "code",
   "execution_count": 95,
   "metadata": {},
   "outputs": [],
   "source": [
    "mask = df.species == 'Gentoo'\n",
    "df.species = df.species.astype(object)\n",
    "df.species = np.where(mask, 1 , 0)"
   ]
  },
  {
   "cell_type": "markdown",
   "metadata": {},
   "source": [
    "### Linear Seperable"
   ]
  },
  {
   "cell_type": "markdown",
   "metadata": {},
   "source": [
    "Let's try out the following model..."
   ]
  },
  {
   "cell_type": "code",
   "execution_count": 107,
   "metadata": {},
   "outputs": [
    {
     "name": "stdout",
     "output_type": "stream",
     "text": [
      "                 Generalized Linear Model Regression Results                  \n",
      "==============================================================================\n",
      "Dep. Variable:                species   No. Observations:                  333\n",
      "Model:                            GLM   Df Residuals:                      330\n",
      "Model Family:                Binomial   Df Model:                            2\n",
      "Link Function:                  logit   Scale:                          1.0000\n",
      "Method:                          IRLS   Log-Likelihood:                    nan\n",
      "Date:                 Mi, 02 Sep 2020   Deviance:                          nan\n",
      "Time:                        11:17:28   Pearson chi2:                 2.32e-14\n",
      "No. Iterations:                   100                                         \n",
      "Covariance Type:            nonrobust                                         \n",
      "=================================================================================\n",
      "                    coef    std err          z      P>|z|      [0.025      0.975]\n",
      "---------------------------------------------------------------------------------\n",
      "constant        186.6889   4.61e+07   4.05e-06      1.000   -9.03e+07    9.03e+07\n",
      "body_mass_g       0.0962   4510.397   2.13e-05      1.000   -8840.120    8840.312\n",
      "bill_depth_mm   -38.1044      2e+06   -1.9e-05      1.000   -3.92e+06    3.92e+06\n",
      "=================================================================================\n"
     ]
    }
   ],
   "source": [
    "model = sm.GLM(df.species, df[['constant', 'body_mass_g', 'bill_depth_mm']], family = sm.families.Binomial())\n",
    "sume = model.fit()\n",
    "print(sume.summary())"
   ]
  },
  {
   "cell_type": "markdown",
   "metadata": {},
   "source": [
    "Look at the standard errors and confidence intervalls, they blew up! What happend ?"
   ]
  },
  {
   "cell_type": "code",
   "execution_count": 109,
   "metadata": {},
   "outputs": [
    {
     "data": {
      "image/png": "[encoded data removed]",
      "text/plain": [
       "<Figure size 432x288 with 1 Axes>"
      ]
     },
     "metadata": {},
     "output_type": "display_data"
    }
   ],
   "source": [
    "#hide_input\n",
    "sns.scatterplot(x = 'bill_depth_mm', y= 'body_mass_g', hue = 'species', data = df);"
   ]
  },
  {
   "cell_type": "markdown",
   "metadata": {},
   "source": [
    "We ran into an example where the features are perfectly seperable by a line. Look at the plot above and remember that species = 1 is Gentoo."
   ]
  },
  {
   "cell_type": "markdown",
   "metadata": {},
   "source": [
    "### Interpreting coefficents"
   ]
  },
  {
   "cell_type": "markdown",
   "metadata": {},
   "source": [
    "Let's fit the model \n",
    "\n",
    "$logit(Odds_i) = \\beta_0 + \\beta_1 \\text{body_mass_g}_i $"
   ]
  },
  {
   "cell_type": "code",
   "execution_count": 137,
   "metadata": {},
   "outputs": [
    {
     "name": "stdout",
     "output_type": "stream",
     "text": [
      "                 Generalized Linear Model Regression Results                  \n",
      "==============================================================================\n",
      "Dep. Variable:                species   No. Observations:                  333\n",
      "Model:                            GLM   Df Residuals:                      331\n",
      "Model Family:                Binomial   Df Model:                            1\n",
      "Link Function:                  logit   Scale:                          1.0000\n",
      "Method:                          IRLS   Log-Likelihood:                -44.865\n",
      "Date:                 Mi, 02 Sep 2020   Deviance:                       89.729\n",
      "Time:                        13:41:30   Pearson chi2:                     126.\n",
      "No. Iterations:                     8                                         \n",
      "Covariance Type:            nonrobust                                         \n",
      "=================================================================================\n",
      "                    coef    std err          z      P>|z|      [0.025      0.975]\n",
      "---------------------------------------------------------------------------------\n",
      "constant         53.1168      7.658      6.936      0.000      38.107      68.127\n",
      "bill_depth_mm    -3.2354      0.464     -6.971      0.000      -4.145      -2.326\n",
      "=================================================================================\n"
     ]
    }
   ],
   "source": [
    "model = sm.GLM(df.species, df[['constant', 'bill_depth_mm']], family = sm.families.Binomial()).fit()\n",
    "print(model.summary())"
   ]
  },
  {
   "cell_type": "markdown",
   "metadata": {},
   "source": [
    "We found that $\\hat{\\beta}_1 = 0.0065$\n",
    "\n",
    "Say we have Odds for some observation is $2$ meaning it is twice as liekli to e of species Gentoo. Now if we increase the bill depth by 1mm then this will reduce the odds by $exp(-3.254) \\approx 4 $%"
   ]
  },
  {
   "cell_type": "code",
   "execution_count": 156,
   "metadata": {},
   "outputs": [
    {
     "data": {
      "image/png": "[encoded data removed]",
      "text/plain": [
       "<Figure size 432x288 with 1 Axes>"
      ]
     },
     "metadata": {},
     "output_type": "display_data"
    }
   ],
   "source": [
    "prob_one = model.predict(df[['constant', 'bill_depth_mm']])\n",
    "\n",
    "odds = prob_one / (1 - prob_one)\n",
    "\n",
    "log_odds = np.log(odds)\n",
    "\n",
    "plt.scatter(df.bill_depth_mm, log_odds);"
   ]
  },
  {
   "cell_type": "markdown",
   "metadata": {},
   "source": [
    "### Probability Calibration"
   ]
  },
  {
   "cell_type": "markdown",
   "metadata": {},
   "source": [
    "The probabilities are well calibrated in the logistic regression."
   ]
  },
  {
   "cell_type": "code",
   "execution_count": 155,
   "metadata": {},
   "outputs": [
    {
     "data": {
      "image/png": "[encoded data removed]",
      "text/plain": [
       "<Figure size 432x288 with 1 Axes>"
      ]
     },
     "metadata": {},
     "output_type": "display_data"
    }
   ],
   "source": [
    "fraction_of_positives, mean_predicted_value = calibration_curve(df.species, prob_one)\n",
    "\n",
    "plt.scatter(mean_predicted_value , fraction_of_positives)\n",
    "plt.plot([0 , 1], [0, 1])\n",
    "\n",
    "plt.title(\"calibration_curve\")\n",
    "plt.xlabel(\"mean_predicted_value\")\n",
    "plt.ylabel(\"fraction_of_positives\");"
   ]
  },
  {
   "cell_type": "markdown",
   "metadata": {},
   "source": [
    "## Helper Functions"
   ]
  },
  {
   "cell_type": "code",
   "execution_count": 161,
   "metadata": {},
   "outputs": [
    {
     "name": "stdout",
     "output_type": "stream",
     "text": [
      "7\n",
      "[ 0.051  0.108 -0.009  0.086 -0.069] [[ 0.051  0.108 -0.009  0.086 -0.069]]\n"
     ]
    }
   ],
   "source": [
    "def sigmoid(x):\n",
    "    \n",
    "    pi = 1 / (1 + np.exp(-x))\n",
    "              \n",
    "    pi = np.clip(pi, .000001, .999999)\n",
    "        \n",
    "    return pi\n",
    "\n",
    "def grad(beta, X, y):\n",
    "        \n",
    "    pi = sigmoid(X @ beta)\n",
    "        \n",
    "    return 1 / X.shape[0] * X.T @ (pi - y)\n",
    "\n",
    "def hessian(X, pi):\n",
    "    \n",
    "    S = np.diag(pi)\n",
    "    \n",
    "    return X.T @ S @ X\n",
    "\n",
    "def cross_entropy(beta, y, X):\n",
    "    \n",
    "    pi = sigmoid(X @ beta)\n",
    "        \n",
    "    return - 1 / X.shape[0] * np.sum(y * np.log(pi) + (1-y) * np.log(1 - pi))\n",
    "\n",
    "\n",
    "def gradient_descent(X, y):\n",
    "    \n",
    "    n, p = X.shape\n",
    "    \n",
    "    beta = np.zeros(p)\n",
    "\n",
    "    for i in range(100):\n",
    "        \n",
    "        \n",
    "        gradient = grad(beta, X, y)\n",
    "        \n",
    "        res = minimize_scalar(lambda x: cross_entropy(beta - np.exp(x) * gradient, y, X))\n",
    "        \n",
    "        beta_proposal = beta - np.exp(res.x) * gradient\n",
    "        \n",
    "        if np.abs(beta_proposal - beta).sum() < .0000001:\n",
    "            print(i)\n",
    "            break\n",
    "        beta = beta_proposal\n",
    "        \n",
    "    return beta\n",
    "\n",
    "def IRLS(X, y):\n",
    "    \n",
    "    n, p = X.shape\n",
    "    \n",
    "    beta = np.zeros(p)\n",
    "        \n",
    "    for i in range(1000):\n",
    "        \n",
    "        \n",
    "        eta =  X @ beta\n",
    "        \n",
    "        pi = sigmoid(eta)\n",
    "                \n",
    "        s = pi * (1 - pi)\n",
    "        \n",
    "        S = np.diag(s)\n",
    "        \n",
    "        z = X @ beta +  (y - pi) * 1 / s\n",
    "        \n",
    "        \n",
    "            \n",
    "        beta_proposal = np.linalg.inv(X.T @ S @ X) @ X.T @ S @ z\n",
    "           \n",
    "        if np.abs(beta_proposal - beta).sum() < .0000000001:\n",
    "            \n",
    "            print(i)\n",
    "            break\n",
    "            \n",
    "            \n",
    "        beta = beta_proposal\n",
    "        \n",
    "        \n",
    "    return beta\n",
    "        \n",
    "        \n",
    "    \n",
    "    \n",
    "from sklearn.datasets import load_breast_cancer\n",
    "from sklearn.preprocessing import StandardScaler\n",
    "\n",
    "\n",
    "\n",
    "np.random.seed(122)\n",
    "X, y = load_breast_cancer(return_X_y = True)\n",
    "\n",
    "#X = X[:, 1 : 3] # only take subset because p is quite large hance need regularization to avoid num. instability\n",
    "\n",
    "X = np.random.randn(len(y), 5)\n",
    "\n",
    "bb = gradient_descent(X, y)\n",
    "#bb = IRLS(X, y)\n",
    "test = LogisticRegression(fit_intercept = False, penalty = 'none').fit(X, y)\n",
    "\n",
    "print(bb.round(3), test.coef_.round(3))"
   ]
  },
  {
   "cell_type": "markdown",
   "metadata": {},
   "source": [
    "## Plot for the Blog Post"
   ]
  },
  {
   "cell_type": "code",
   "execution_count": 162,
   "metadata": {},
   "outputs": [
    {
     "data": {
      "image/png": "[encoded data removed]",
      "text/plain": [
       "<Figure size 864x720 with 1 Axes>"
      ]
     },
     "metadata": {},
     "output_type": "display_data"
    }
   ],
   "source": [
    "model = LogisticRegression(penalty = 'none')\n",
    "np.random.seed(3)\n",
    "X = np.random.randn(50, 1)\n",
    "X = np.concatenate([np.ones(50).reshape(-1, 1), X], axis = 1)\n",
    "beta = np.array([2, 3])\n",
    "\n",
    "eta = X @ beta\n",
    "\n",
    "mu = sigmoid(eta)\n",
    "\n",
    "Y = bernoulli.rvs(mu)\n",
    "\n",
    "model.fit(X, Y)\n",
    "\n",
    "fig, axes = plt.subplots(figsize = (12, 10))\n",
    "axes.scatter(X[:,1], model.predict_proba(X)[:, 1], label = 'predicted proba')\n",
    "axes.scatter(X[:,1],Y, label = 'data')\n",
    "axes.vlines(-.75, 0, 1, color = 'red', linestyle = 'dashed', label = 'decision-boundary')\n",
    "\n",
    "\n",
    "mask = model.predict(X) != Y\n",
    "axes.scatter(X[:,1][mask], Y[mask], label = 'misclassified data')\n",
    "\n",
    "axes.legend()\n",
    "\n",
    "\n",
    "fig.savefig(\"logistic_regression.png\");\n",
    "\n",
    "\n"
   ]
  },
  {
   "cell_type": "markdown",
   "metadata": {},
   "source": [
    "## References"
   ]
  },
  {
   "cell_type": "markdown",
   "metadata": {},
   "source": [
    "### Sources\n",
    "\n",
    "Chapter 7 of {% cite murphy2012machine %} - General Information"
   ]
  },
  {
   "cell_type": "markdown",
   "metadata": {},
   "source": [
    "{% bibliography --cited %}"
   ]
  }
 ],
 "metadata": {
  "kernelspec": {
   "display_name": "Python 3.8.3 64-bit",
   "language": "python",
   "name": "python38364bit154eb24c3b124597acbf66f2245041ba"
  },
  "language_info": {
   "codemirror_mode": {
    "name": "ipython",
    "version": 3
   },
   "file_extension": ".py",
   "mimetype": "text/x-python",
   "name": "python",
   "nbconvert_exporter": "python",
   "pygments_lexer": "ipython3",
   "version": "3.8.3"
  }
 },
 "nbformat": 4,
 "nbformat_minor": 4
}
