{
 "cells": [
  {
   "cell_type": "markdown",
   "metadata": {},
   "source": [
    "# \"(basic) Probability Theory\"\n",
    "> \"My reference notebook for probability theory.\"\n",
    "\n",
    "- author: Christopher Thiemann\n",
    "- toc: true\n",
    "- branch: master\n",
    "- badges: true\n",
    "- comments: true\n",
    "- categories: [statistics, theory]\n",
    "- hide: false\n",
    "- search_exclude: true\n",
    "- image: images/empirical_distribution_function.png"
   ]
  },
  {
   "cell_type": "code",
   "execution_count": 1,
   "metadata": {},
   "outputs": [],
   "source": [
    "#hide\n",
    "import numpy as np \n",
    "import matplotlib.pyplot as plt\n",
    "import seaborn as sns; sns.set()\n"
   ]
  },
  {
   "cell_type": "markdown",
   "metadata": {},
   "source": [
    "## The Model"
   ]
  },
  {
   "source": [
    "Define $(\\Omega, \\mathcal{A}, P)$ as probability space. $\\Omega$ is called the \"sample space\". In this set are all possible outcomes of an experiment. $A \\subseteq \\Omega $ is called an event. It is a collection of possible outcomes of an experiment. The family of events is then denoted by $\\mathcal{A}$, so $ A \\in \\mathcal{A}$. P is called the probability measure. It is a mapping $P: \\Omega \\rightarrow [0, 1]$. We require the probability measure to have the following properties (Axioms of propability).\n",
    "\n",
    "- $P(\\emptyset) = 0$\n",
    "- $P(\\Omega) = 1$\n",
    "- $P(\\cup_{i=1}^\\infty A_i) = \\sum_{i=1}^\\infty P(A_i)$ for all pairwise disjoint $A_i$ $(\\sigma - additivity)$\n",
    "\n",
    "Note $\\sigma - additivity$ implies additivity so we we can imply sum up the propbability of finitly many pairwise disjoint sets.\n",
    "\n",
    "If our experiment can only has countale many outcomes the nwe can set $\\mathcal{A} = \\mathcal{P}(\\Omega)$ where $\\mathcal{P}$ is the power set. If it is uncountable for example real numbers, then it is not posible to define a propability measure for all subsets of $\\Omega$ such that the properties of the measure are fulfilled. So we can not take the powerset in this case but have to restirct to  a smaller class of possible events. Later we  will see that the Borel is is a sutiable class of events."
   ],
   "cell_type": "markdown",
   "metadata": {}
  },
  {
   "source": [
    "## Laplace Distribution\n",
    "\n",
    " If $p(\\omega)$ is equal for all $\\omega \\in \\Omega$ then we can define the measure as follows:\n",
    "\n",
    " $p(A) = \\frac{|A|}{|\\Omega|}$ for $A \\in \\mathcal{P}(\\Omega)$"
   ],
   "cell_type": "markdown",
   "metadata": {}
  },
  {
   "source": [
    "### Example: Birthday Problem\n",
    "\n",
    "Given a group of 23 people, what is the probability that atleast two of them have on the same day birthday ?\n",
    "\n",
    "Lets build the proability space...\n",
    "\n",
    "Denote the days as integers, so the first of january is 1, the second of january is 2...31 december is 365, then the sample space contains all elements of the form\n",
    "\n",
    "(1,1,1,...,1) if all 23 have birthday on the first of january \n",
    "(1,1,1,...,2) all exept the last person whos birthday is on the second of january... and so on\n",
    "...\n",
    "(365, 365, 365, ..., 365).\n",
    "\n",
    "Note $|\\Omega| = 365^{23}$. To see this consider the case of only two people the nwe have $(1,1), (1, 2),...,(1,365)$, then we have $(2,1), (2, 2),...,(2,365)$,... so in total we have 365 times this vector of lenght 365 so in total $365 * 365 = 365^{2}$ possible combinatioons for birthdays. With the same idea we get the result.\n",
    "\n",
    "Since $\\Omega$ is countable we take the power set on the sample space as set of all events. \n",
    "\n",
    "Assuming that having a birthday is uniform distributed on these intergesr, so observing both having birthdfay on the first of january is equal likely then observbing one having birthday on 23 feb and the other on on 27 oct. We can use the laplace distribution.\n",
    "\n",
    "So in principle we could take the element in the power set which corresponds to the event of atleasdt two people having birthday on the same date, count the eleemnts in this set and divide by 365^23. \n",
    "\n",
    "We can make our life easier y looking at the complement i.e. the event that no one shares the  same birthday i.e. all elements in the vectors are distinct. Here it is easier t o count the number of possibiliteies. Indeed the first entry in the 23 long vecotr can take any value between 1 and 365 so in total 355 - 0, the second entry (person) can take any value in this range exept for the value in the first entry so in total 365 - 1 possible values, this continous until the 23'th person who has 365 - (n + 1) possible values. Aother way to think about this which I prefer is to think about all possible distnct date combinations in the event. E.g. (1,2,3,...,23) is one possibilitie. In total there are \"365 over 23\" possible (binomial coeficient). But each possibility appears 23! times in the event. E.g.  (1,2,3,...,23) is one way these dates could appear but it can also be the case that (23,22,...1) ... there are 23! wys of shufflig these dates. So the proability of this event is given by\n",
    "\n",
    "$\\frac{23! \\binom{365}{23}}{365^{23}}$\n",
    "\n",
    "so our the prob of atleast two sharing birthday is 1 minus that quantity."
   ],
   "cell_type": "markdown",
   "metadata": {}
  },
  {
   "source": [
    "## Random Variables (r.v.s)"
   ],
   "cell_type": "markdown",
   "metadata": {}
  },
  {
   "source": [
    "Random variables are an important concept since they make calculations easier or even possible sometimes. Take for example a coin with two sides \"head\" and \"tail\" each with probability one half. Calculating the expected value is not possible i.e. has no meaning, But if we map \"head\" to 1 and \"tail\" to 0 we are back in the numbers world. A random variable is a formal way how this mapping between sample space to numbers is defined.\n",
    "\n",
    "Given some probability space $(\\Omega, \\mathcal{A}, P)$ a random variable is a *function* $X: \\Omega \\rightarrow \\mathbb{R}^k$\n",
    "\n",
    "Of course we need some requirements on this mapping as an arbitraty mapping could desstroy the probability strucutre. For example if we mapped both \"head\" and \"tail\" to one. We couldnt figure out the probabilty of our random variable taking on the value 1. The key requiremtn is that the random variable is a measurable function/mapping.\n",
    "\n",
    "$X^{-1}(B)=\\{ \\omega \\in \\Omega : X(\\omega) \\in \\mathcal{B} \\} \\in \\mathcal{A}$ for all $B \\in \\mathcal{B}^k$\n",
    "\n",
    "The random variable induces a new probability space $(\\mathbb{R}^k, \\mathcal{B}^k, P^x)$, where $P^x$ is the probabilty measure on the random variable defined by \n",
    "\n",
    "$P^x(B) = P(X\\in B) =  P(X^{-1}(B)) = P(\\{ \\omega \\in \\Omega : X(\\omega) \\in \\mathcal{B} \\})$\n",
    "\n",
    "Take as an example the coin flip, if we ask for the probabilty that the random variable is one is the same as the probabilty for the con beeing \"head\"."
   ],
   "cell_type": "markdown",
   "metadata": {}
  },
  {
   "source": [
    "## Fundamental Rules"
   ],
   "cell_type": "markdown",
   "metadata": {}
  },
  {
   "source": [
    "Here I collect useful calculation rules. Given a probability space $(\\Omega, \\mathcal{A}, P)$, two events $A, B \\in \\mathcal{A}$ Then we have the foloowing rules\n"
   ],
   "cell_type": "markdown",
   "metadata": {}
  },
  {
   "source": [
    "### Union of two sets"
   ],
   "cell_type": "markdown",
   "metadata": {}
  },
  {
   "source": [
    "$P(A \\cup B) = P(A) + P(B) - P(A \\cap B)$"
   ],
   "cell_type": "markdown",
   "metadata": {}
  },
  {
   "source": [
    "### Rule of total probability"
   ],
   "cell_type": "markdown",
   "metadata": {}
  },
  {
   "source": [
    "$P(A) = \\sum_b P(A \\cap B) = \\sum_b P(A|B=b) P(B=b)$\n",
    "\n",
    "$P(A)$ is called **marginal distribution**"
   ],
   "cell_type": "markdown",
   "metadata": {}
  },
  {
   "source": [
    "### Chain rule"
   ],
   "cell_type": "markdown",
   "metadata": {}
  },
  {
   "source": [
    "For events $A, B, ..., Z$ it holds that\n",
    "\n",
    "$P(A,...,Z) = P(A) P(B|A) P(C|A, B) ... P(Z|A, B, ..., Y)$"
   ],
   "cell_type": "markdown",
   "metadata": {}
  },
  {
   "source": [
    "### Product rule"
   ],
   "cell_type": "markdown",
   "metadata": {}
  },
  {
   "source": [
    "$P(A,B) = P(A \\cap B) = P(A|B) P(B)$       (Product rule)\n",
    "\n",
    "$P(A,B)$ is called **joint distribution**"
   ],
   "cell_type": "markdown",
   "metadata": {}
  },
  {
   "source": [
    "### Conditional probability"
   ],
   "cell_type": "markdown",
   "metadata": {}
  },
  {
   "source": [
    "$P(A|B) = \\frac{P(A,B)}{P(B)}$"
   ],
   "cell_type": "markdown",
   "metadata": {}
  },
  {
   "source": [
    "### Bayes rule"
   ],
   "cell_type": "markdown",
   "metadata": {}
  },
  {
   "source": [
    "$P(X=x|Y=y) = \\frac{P(X=x,Y=y)}{P(Y=y)}=\\frac{P(X=x)P(Y=y|X=x)}{\\sum_{x'}P(X=x')P(Y=y|X=x')}$"
   ],
   "cell_type": "markdown",
   "metadata": {}
  },
  {
   "source": [
    "### Independence"
   ],
   "cell_type": "markdown",
   "metadata": {}
  },
  {
   "source": [
    "Two events $A, B$ are independent if\n",
    "\n",
    "$P(A, B) = P(A)P(B)$\n",
    "\n",
    "and are conditional independent given some other event $C$ if\n",
    "\n",
    "$P(A,B|C) = P(A|C)P(B|C)$\n",
    "\n",
    "For example the event of raining tomorrow is not indepedent of the streets beeing wet today. But conditional on the event that it didnt rain today they are independent."
   ],
   "cell_type": "markdown",
   "metadata": {}
  },
  {
   "source": [
    "### Cumulative distribution function (cdf)"
   ],
   "cell_type": "markdown",
   "metadata": {}
  },
  {
   "source": [
    "For a r.v. $X$ we define the cdf as\n",
    "\n",
    "$F(c) = P((-\\infty, c)) = P(X \\leq c)$ \n",
    "\n",
    "The cdf is characterized by three properties\n",
    "\n",
    "- F is non - decreasing $(F(a) \\leq F(b))$ for $a \\leq b$\n",
    "- F is continious from the right\n",
    "- $\\lim_{x \\rightarrow -\\infty} F(x)=0$ and $\\lim_{x \\rightarrow \\infty} F(x)=1$\n",
    "\n",
    "Further define the *probability density function* (pdf) as \n",
    "\n",
    "$F(x) = \\int_{-\\infty}^cf(x)dx$ i.e. $f(x)=F'(x)$ assuming the derivatve exists"
   ],
   "cell_type": "markdown",
   "metadata": {}
  },
  {
   "source": [
    "### Quantiles"
   ],
   "cell_type": "markdown",
   "metadata": {}
  },
  {
   "source": [
    "Given the properties of the cdf it always has an inverse $F^{-1}(y)$ for $y \\in [0, 1]$. For example $F^{-1}(0.5)$ is the value for which half of the probabilty mass is on the left/right. This value is known as *quantile*."
   ],
   "cell_type": "markdown",
   "metadata": {}
  },
  {
   "source": [
    "## Joint Probability distributions"
   ],
   "cell_type": "markdown",
   "metadata": {}
  },
  {
   "source": [
    "It is possible to extend this framework to more dimensions. If we have n r.v.s $X_1,...,X_n$ we have the pdf $f(X_1,...,X_n)$"
   ],
   "cell_type": "markdown",
   "metadata": {}
  },
  {
   "source": [
    "## Expected Value"
   ],
   "cell_type": "markdown",
   "metadata": {}
  },
  {
   "source": [
    "## Variance"
   ],
   "cell_type": "markdown",
   "metadata": {}
  },
  {
   "source": [
    "## Some important asyptotic results"
   ],
   "cell_type": "markdown",
   "metadata": {}
  },
  {
   "source": [
    "Let $X_1,...,X_n$ be i.i.d and Consider teh sample mean $\\bar{X}_n=\\frac{1}{n} \\sum_{i=1}^n X_i$. Note that $E(X_i)=\\mu$ and $Var(X_i)=\\sigma^2$ for all i. Then the two results hold"
   ],
   "cell_type": "markdown",
   "metadata": {}
  },
  {
   "source": [
    "### Law of large numbers"
   ],
   "cell_type": "markdown",
   "metadata": {}
  },
  {
   "source": [
    "$lim_{n \\rightarrow \\infty} P(|\\bar{X}_n - \\mu| \\geq c)=0$ for all $c > 0$\n",
    "\n",
    "or in short notation\n",
    "\n",
    "$\\bar{X}_n \\overset{p}{\\rightarrow} \\mu$\n",
    "\n",
    "In words this means for large n the sample mean is a good estimator for the mean of a distribution."
   ],
   "cell_type": "markdown",
   "metadata": {}
  },
  {
   "source": [
    "#### Example Relative Frequency"
   ],
   "cell_type": "markdown",
   "metadata": {}
  },
  {
   "source": [
    "Consider $n$ Bernoulli distributed r.v $X_i \\sim Ber(p)$. Then the sum $\\sum_{i=1}^nX_i \\sim Bin(n,p)$. Given a realization $x_1,...,x_n$ by the law of large numbers we know that the sample mean (relative frqcueny) converges to the mean whixh is $p$ as the sample size increases."
   ],
   "cell_type": "markdown",
   "metadata": {}
  },
  {
   "source": [
    "### Central limit theorem (clt)"
   ],
   "cell_type": "markdown",
   "metadata": {}
  },
  {
   "source": [
    "The clt says that the sample mean is asymptically normal distributed.\n",
    "\n",
    "$\\sqrt{n}(\\bar{X}_n -\\mu) \\overset{d}{\\rightarrow} N(0, \\sigma)$"
   ],
   "cell_type": "markdown",
   "metadata": {}
  },
  {
   "source": [
    "### Delta Method\n"
   ],
   "cell_type": "markdown",
   "metadata": {}
  },
  {
   "source": [
    "## Plot for blog post"
   ],
   "cell_type": "markdown",
   "metadata": {}
  },
  {
   "cell_type": "code",
   "execution_count": 25,
   "metadata": {},
   "outputs": [
    {
     "output_type": "display_data",
     "data": {
      "text/plain": "<Figure size 432x288 with 1 Axes>",
      "image/svg+xml": "<?xml version=\"1.0\" encoding=\"utf-8\" standalone=\"no\"?>\r\n<!DOCTYPE svg PUBLIC \"-//W3C//DTD SVG 1.1//EN\"\r\n  \"http://www.w3.org/Graphics/SVG/1.1/DTD/svg11.dtd\">\r\n<!-- Created with matplotlib (https://matplotlib.org/) -->\r\n<svg height=\"280.963594pt\" version=\"1.1\" viewBox=\"0 0 388.964375 280.963594\" width=\"388.964375pt\" xmlns=\"http://www.w3.org/2000/svg\" xmlns:xlink=\"http://www.w3.org/1999/xlink\">\r\n <defs>\r\n  <style type=\"text/css\">\r\n*{stroke-linecap:butt;stroke-linejoin:round;}\r\n  </style>\r\n </defs>\r\n <g id=\"figure_1\">\r\n  <g id=\"patch_1\">\r\n   <path d=\"M 0 280.963594 \r\nL 388.964375 280.963594 \r\nL 388.964375 0 \r\nL 0 0 \r\nz\r\n\" style=\"fill:#ffffff;\"/>\r\n  </g>\r\n  <g id=\"axes_1\">\r\n   <g id=\"patch_2\">\r\n    <path d=\"M 46.964375 239.229375 \r\nL 381.764375 239.229375 \r\nL 381.764375 21.789375 \r\nL 46.964375 21.789375 \r\nz\r\n\" style=\"fill:#eaeaf2;\"/>\r\n   </g>\r\n   <g id=\"matplotlib.axis_1\">\r\n    <g id=\"xtick_1\">\r\n     <g id=\"line2d_1\">\r\n      <path clip-path=\"url(#p8e6ff1541a)\" d=\"M 99.830413 239.229375 \r\nL 99.830413 21.789375 \r\n\" style=\"fill:none;stroke:#ffffff;stroke-linecap:round;\"/>\r\n     </g>\r\n     <g id=\"text_1\">\r\n      <!-- 0.2 -->\r\n      <defs>\r\n       <path d=\"M 4.15625 35.296875 \r\nQ 4.15625 48 6.765625 55.734375 \r\nQ 9.375 63.484375 14.515625 67.671875 \r\nQ 19.671875 71.875 27.484375 71.875 \r\nQ 33.25 71.875 37.59375 69.546875 \r\nQ 41.9375 67.234375 44.765625 62.859375 \r\nQ 47.609375 58.5 49.21875 52.21875 \r\nQ 50.828125 45.953125 50.828125 35.296875 \r\nQ 50.828125 22.703125 48.234375 14.96875 \r\nQ 45.65625 7.234375 40.5 3 \r\nQ 35.359375 -1.21875 27.484375 -1.21875 \r\nQ 17.140625 -1.21875 11.234375 6.203125 \r\nQ 4.15625 15.140625 4.15625 35.296875 \r\nz\r\nM 13.1875 35.296875 \r\nQ 13.1875 17.671875 17.3125 11.828125 \r\nQ 21.4375 6 27.484375 6 \r\nQ 33.546875 6 37.671875 11.859375 \r\nQ 41.796875 17.71875 41.796875 35.296875 \r\nQ 41.796875 52.984375 37.671875 58.78125 \r\nQ 33.546875 64.59375 27.390625 64.59375 \r\nQ 21.34375 64.59375 17.71875 59.46875 \r\nQ 13.1875 52.9375 13.1875 35.296875 \r\nz\r\n\" id=\"ArialMT-48\"/>\r\n       <path d=\"M 9.078125 0 \r\nL 9.078125 10.015625 \r\nL 19.09375 10.015625 \r\nL 19.09375 0 \r\nz\r\n\" id=\"ArialMT-46\"/>\r\n       <path d=\"M 50.34375 8.453125 \r\nL 50.34375 0 \r\nL 3.03125 0 \r\nQ 2.9375 3.171875 4.046875 6.109375 \r\nQ 5.859375 10.9375 9.828125 15.625 \r\nQ 13.8125 20.3125 21.34375 26.46875 \r\nQ 33.015625 36.03125 37.109375 41.625 \r\nQ 41.21875 47.21875 41.21875 52.203125 \r\nQ 41.21875 57.421875 37.46875 61 \r\nQ 33.734375 64.59375 27.734375 64.59375 \r\nQ 21.390625 64.59375 17.578125 60.78125 \r\nQ 13.765625 56.984375 13.71875 50.25 \r\nL 4.6875 51.171875 \r\nQ 5.609375 61.28125 11.65625 66.578125 \r\nQ 17.71875 71.875 27.9375 71.875 \r\nQ 38.234375 71.875 44.234375 66.15625 \r\nQ 50.25 60.453125 50.25 52 \r\nQ 50.25 47.703125 48.484375 43.546875 \r\nQ 46.734375 39.40625 42.65625 34.8125 \r\nQ 38.578125 30.21875 29.109375 22.21875 \r\nQ 21.1875 15.578125 18.9375 13.203125 \r\nQ 16.703125 10.84375 15.234375 8.453125 \r\nz\r\n\" id=\"ArialMT-50\"/>\r\n      </defs>\r\n      <g style=\"fill:#262626;\" transform=\"translate(92.185413 256.602969)scale(0.11 -0.11)\">\r\n       <use xlink:href=\"#ArialMT-48\"/>\r\n       <use x=\"55.615234\" xlink:href=\"#ArialMT-46\"/>\r\n       <use x=\"83.398438\" xlink:href=\"#ArialMT-50\"/>\r\n      </g>\r\n     </g>\r\n    </g>\r\n    <g id=\"xtick_2\">\r\n     <g id=\"line2d_2\">\r\n      <path clip-path=\"url(#p8e6ff1541a)\" d=\"M 168.214214 239.229375 \r\nL 168.214214 21.789375 \r\n\" style=\"fill:none;stroke:#ffffff;stroke-linecap:round;\"/>\r\n     </g>\r\n     <g id=\"text_2\">\r\n      <!-- 0.4 -->\r\n      <defs>\r\n       <path d=\"M 32.328125 0 \r\nL 32.328125 17.140625 \r\nL 1.265625 17.140625 \r\nL 1.265625 25.203125 \r\nL 33.9375 71.578125 \r\nL 41.109375 71.578125 \r\nL 41.109375 25.203125 \r\nL 50.78125 25.203125 \r\nL 50.78125 17.140625 \r\nL 41.109375 17.140625 \r\nL 41.109375 0 \r\nz\r\nM 32.328125 25.203125 \r\nL 32.328125 57.46875 \r\nL 9.90625 25.203125 \r\nz\r\n\" id=\"ArialMT-52\"/>\r\n      </defs>\r\n      <g style=\"fill:#262626;\" transform=\"translate(160.569214 256.602969)scale(0.11 -0.11)\">\r\n       <use xlink:href=\"#ArialMT-48\"/>\r\n       <use x=\"55.615234\" xlink:href=\"#ArialMT-46\"/>\r\n       <use x=\"83.398438\" xlink:href=\"#ArialMT-52\"/>\r\n      </g>\r\n     </g>\r\n    </g>\r\n    <g id=\"xtick_3\">\r\n     <g id=\"line2d_3\">\r\n      <path clip-path=\"url(#p8e6ff1541a)\" d=\"M 236.598014 239.229375 \r\nL 236.598014 21.789375 \r\n\" style=\"fill:none;stroke:#ffffff;stroke-linecap:round;\"/>\r\n     </g>\r\n     <g id=\"text_3\">\r\n      <!-- 0.6 -->\r\n      <defs>\r\n       <path d=\"M 49.75 54.046875 \r\nL 41.015625 53.375 \r\nQ 39.84375 58.546875 37.703125 60.890625 \r\nQ 34.125 64.65625 28.90625 64.65625 \r\nQ 24.703125 64.65625 21.53125 62.3125 \r\nQ 17.390625 59.28125 14.984375 53.46875 \r\nQ 12.59375 47.65625 12.5 36.921875 \r\nQ 15.671875 41.75 20.265625 44.09375 \r\nQ 24.859375 46.4375 29.890625 46.4375 \r\nQ 38.671875 46.4375 44.84375 39.96875 \r\nQ 51.03125 33.5 51.03125 23.25 \r\nQ 51.03125 16.5 48.125 10.71875 \r\nQ 45.21875 4.9375 40.140625 1.859375 \r\nQ 35.0625 -1.21875 28.609375 -1.21875 \r\nQ 17.625 -1.21875 10.6875 6.859375 \r\nQ 3.765625 14.9375 3.765625 33.5 \r\nQ 3.765625 54.25 11.421875 63.671875 \r\nQ 18.109375 71.875 29.4375 71.875 \r\nQ 37.890625 71.875 43.28125 67.140625 \r\nQ 48.6875 62.40625 49.75 54.046875 \r\nz\r\nM 13.875 23.1875 \r\nQ 13.875 18.65625 15.796875 14.5 \r\nQ 17.71875 10.359375 21.1875 8.171875 \r\nQ 24.65625 6 28.46875 6 \r\nQ 34.03125 6 38.03125 10.484375 \r\nQ 42.046875 14.984375 42.046875 22.703125 \r\nQ 42.046875 30.125 38.078125 34.390625 \r\nQ 34.125 38.671875 28.125 38.671875 \r\nQ 22.171875 38.671875 18.015625 34.390625 \r\nQ 13.875 30.125 13.875 23.1875 \r\nz\r\n\" id=\"ArialMT-54\"/>\r\n      </defs>\r\n      <g style=\"fill:#262626;\" transform=\"translate(228.953014 256.602969)scale(0.11 -0.11)\">\r\n       <use xlink:href=\"#ArialMT-48\"/>\r\n       <use x=\"55.615234\" xlink:href=\"#ArialMT-46\"/>\r\n       <use x=\"83.398438\" xlink:href=\"#ArialMT-54\"/>\r\n      </g>\r\n     </g>\r\n    </g>\r\n    <g id=\"xtick_4\">\r\n     <g id=\"line2d_4\">\r\n      <path clip-path=\"url(#p8e6ff1541a)\" d=\"M 304.981815 239.229375 \r\nL 304.981815 21.789375 \r\n\" style=\"fill:none;stroke:#ffffff;stroke-linecap:round;\"/>\r\n     </g>\r\n     <g id=\"text_4\">\r\n      <!-- 0.8 -->\r\n      <defs>\r\n       <path d=\"M 17.671875 38.8125 \r\nQ 12.203125 40.828125 9.5625 44.53125 \r\nQ 6.9375 48.25 6.9375 53.421875 \r\nQ 6.9375 61.234375 12.546875 66.546875 \r\nQ 18.171875 71.875 27.484375 71.875 \r\nQ 36.859375 71.875 42.578125 66.421875 \r\nQ 48.296875 60.984375 48.296875 53.171875 \r\nQ 48.296875 48.1875 45.671875 44.5 \r\nQ 43.0625 40.828125 37.75 38.8125 \r\nQ 44.34375 36.671875 47.78125 31.875 \r\nQ 51.21875 27.09375 51.21875 20.453125 \r\nQ 51.21875 11.28125 44.71875 5.03125 \r\nQ 38.234375 -1.21875 27.640625 -1.21875 \r\nQ 17.046875 -1.21875 10.546875 5.046875 \r\nQ 4.046875 11.328125 4.046875 20.703125 \r\nQ 4.046875 27.6875 7.59375 32.390625 \r\nQ 11.140625 37.109375 17.671875 38.8125 \r\nz\r\nM 15.921875 53.71875 \r\nQ 15.921875 48.640625 19.1875 45.40625 \r\nQ 22.46875 42.1875 27.6875 42.1875 \r\nQ 32.765625 42.1875 36.015625 45.375 \r\nQ 39.265625 48.578125 39.265625 53.21875 \r\nQ 39.265625 58.0625 35.90625 61.359375 \r\nQ 32.5625 64.65625 27.59375 64.65625 \r\nQ 22.5625 64.65625 19.234375 61.421875 \r\nQ 15.921875 58.203125 15.921875 53.71875 \r\nz\r\nM 13.09375 20.65625 \r\nQ 13.09375 16.890625 14.875 13.375 \r\nQ 16.65625 9.859375 20.171875 7.921875 \r\nQ 23.6875 6 27.734375 6 \r\nQ 34.03125 6 38.125 10.046875 \r\nQ 42.234375 14.109375 42.234375 20.359375 \r\nQ 42.234375 26.703125 38.015625 30.859375 \r\nQ 33.796875 35.015625 27.4375 35.015625 \r\nQ 21.234375 35.015625 17.15625 30.90625 \r\nQ 13.09375 26.8125 13.09375 20.65625 \r\nz\r\n\" id=\"ArialMT-56\"/>\r\n      </defs>\r\n      <g style=\"fill:#262626;\" transform=\"translate(297.336815 256.602969)scale(0.11 -0.11)\">\r\n       <use xlink:href=\"#ArialMT-48\"/>\r\n       <use x=\"55.615234\" xlink:href=\"#ArialMT-46\"/>\r\n       <use x=\"83.398438\" xlink:href=\"#ArialMT-56\"/>\r\n      </g>\r\n     </g>\r\n    </g>\r\n    <g id=\"xtick_5\">\r\n     <g id=\"line2d_5\">\r\n      <path clip-path=\"url(#p8e6ff1541a)\" d=\"M 373.365616 239.229375 \r\nL 373.365616 21.789375 \r\n\" style=\"fill:none;stroke:#ffffff;stroke-linecap:round;\"/>\r\n     </g>\r\n     <g id=\"text_5\">\r\n      <!-- 1.0 -->\r\n      <defs>\r\n       <path d=\"M 37.25 0 \r\nL 28.46875 0 \r\nL 28.46875 56 \r\nQ 25.296875 52.984375 20.140625 49.953125 \r\nQ 14.984375 46.921875 10.890625 45.40625 \r\nL 10.890625 53.90625 \r\nQ 18.265625 57.375 23.78125 62.296875 \r\nQ 29.296875 67.234375 31.59375 71.875 \r\nL 37.25 71.875 \r\nz\r\n\" id=\"ArialMT-49\"/>\r\n      </defs>\r\n      <g style=\"fill:#262626;\" transform=\"translate(365.720616 256.602969)scale(0.11 -0.11)\">\r\n       <use xlink:href=\"#ArialMT-49\"/>\r\n       <use x=\"55.615234\" xlink:href=\"#ArialMT-46\"/>\r\n       <use x=\"83.398438\" xlink:href=\"#ArialMT-48\"/>\r\n      </g>\r\n     </g>\r\n    </g>\r\n    <g id=\"text_6\">\r\n     <!-- x -->\r\n     <defs>\r\n      <path d=\"M 0.734375 0 \r\nL 19.671875 26.953125 \r\nL 2.15625 51.859375 \r\nL 13.140625 51.859375 \r\nL 21.09375 39.703125 \r\nQ 23.34375 36.234375 24.703125 33.890625 \r\nQ 26.859375 37.109375 28.65625 39.59375 \r\nL 37.40625 51.859375 \r\nL 47.90625 51.859375 \r\nL 29.984375 27.4375 \r\nL 49.265625 0 \r\nL 38.484375 0 \r\nL 27.828125 16.109375 \r\nL 25 20.453125 \r\nL 11.375 0 \r\nz\r\n\" id=\"ArialMT-120\"/>\r\n     </defs>\r\n     <g style=\"fill:#262626;\" transform=\"translate(211.364375 271.378594)scale(0.12 -0.12)\">\r\n      <use xlink:href=\"#ArialMT-120\"/>\r\n     </g>\r\n    </g>\r\n   </g>\r\n   <g id=\"matplotlib.axis_2\">\r\n    <g id=\"ytick_1\">\r\n     <g id=\"line2d_6\">\r\n      <path clip-path=\"url(#p8e6ff1541a)\" d=\"M 46.964375 236.666124 \r\nL 381.764375 236.666124 \r\n\" style=\"fill:none;stroke:#ffffff;stroke-linecap:round;\"/>\r\n     </g>\r\n     <g id=\"text_7\">\r\n      <!-- 0.0 -->\r\n      <g style=\"fill:#262626;\" transform=\"translate(22.174375 240.602921)scale(0.11 -0.11)\">\r\n       <use xlink:href=\"#ArialMT-48\"/>\r\n       <use x=\"55.615234\" xlink:href=\"#ArialMT-46\"/>\r\n       <use x=\"83.398438\" xlink:href=\"#ArialMT-48\"/>\r\n      </g>\r\n     </g>\r\n    </g>\r\n    <g id=\"ytick_2\">\r\n     <g id=\"line2d_7\">\r\n      <path clip-path=\"url(#p8e6ff1541a)\" d=\"M 46.964375 196.225458 \r\nL 381.764375 196.225458 \r\n\" style=\"fill:none;stroke:#ffffff;stroke-linecap:round;\"/>\r\n     </g>\r\n     <g id=\"text_8\">\r\n      <!-- 0.2 -->\r\n      <g style=\"fill:#262626;\" transform=\"translate(22.174375 200.162255)scale(0.11 -0.11)\">\r\n       <use xlink:href=\"#ArialMT-48\"/>\r\n       <use x=\"55.615234\" xlink:href=\"#ArialMT-46\"/>\r\n       <use x=\"83.398438\" xlink:href=\"#ArialMT-50\"/>\r\n      </g>\r\n     </g>\r\n    </g>\r\n    <g id=\"ytick_3\">\r\n     <g id=\"line2d_8\">\r\n      <path clip-path=\"url(#p8e6ff1541a)\" d=\"M 46.964375 155.784791 \r\nL 381.764375 155.784791 \r\n\" style=\"fill:none;stroke:#ffffff;stroke-linecap:round;\"/>\r\n     </g>\r\n     <g id=\"text_9\">\r\n      <!-- 0.4 -->\r\n      <g style=\"fill:#262626;\" transform=\"translate(22.174375 159.721588)scale(0.11 -0.11)\">\r\n       <use xlink:href=\"#ArialMT-48\"/>\r\n       <use x=\"55.615234\" xlink:href=\"#ArialMT-46\"/>\r\n       <use x=\"83.398438\" xlink:href=\"#ArialMT-52\"/>\r\n      </g>\r\n     </g>\r\n    </g>\r\n    <g id=\"ytick_4\">\r\n     <g id=\"line2d_9\">\r\n      <path clip-path=\"url(#p8e6ff1541a)\" d=\"M 46.964375 115.344125 \r\nL 381.764375 115.344125 \r\n\" style=\"fill:none;stroke:#ffffff;stroke-linecap:round;\"/>\r\n     </g>\r\n     <g id=\"text_10\">\r\n      <!-- 0.6 -->\r\n      <g style=\"fill:#262626;\" transform=\"translate(22.174375 119.280922)scale(0.11 -0.11)\">\r\n       <use xlink:href=\"#ArialMT-48\"/>\r\n       <use x=\"55.615234\" xlink:href=\"#ArialMT-46\"/>\r\n       <use x=\"83.398438\" xlink:href=\"#ArialMT-54\"/>\r\n      </g>\r\n     </g>\r\n    </g>\r\n    <g id=\"ytick_5\">\r\n     <g id=\"line2d_10\">\r\n      <path clip-path=\"url(#p8e6ff1541a)\" d=\"M 46.964375 74.903459 \r\nL 381.764375 74.903459 \r\n\" style=\"fill:none;stroke:#ffffff;stroke-linecap:round;\"/>\r\n     </g>\r\n     <g id=\"text_11\">\r\n      <!-- 0.8 -->\r\n      <g style=\"fill:#262626;\" transform=\"translate(22.174375 78.840256)scale(0.11 -0.11)\">\r\n       <use xlink:href=\"#ArialMT-48\"/>\r\n       <use x=\"55.615234\" xlink:href=\"#ArialMT-46\"/>\r\n       <use x=\"83.398438\" xlink:href=\"#ArialMT-56\"/>\r\n      </g>\r\n     </g>\r\n    </g>\r\n    <g id=\"ytick_6\">\r\n     <g id=\"line2d_11\">\r\n      <path clip-path=\"url(#p8e6ff1541a)\" d=\"M 46.964375 34.462792 \r\nL 381.764375 34.462792 \r\n\" style=\"fill:none;stroke:#ffffff;stroke-linecap:round;\"/>\r\n     </g>\r\n     <g id=\"text_12\">\r\n      <!-- 1.0 -->\r\n      <g style=\"fill:#262626;\" transform=\"translate(22.174375 38.399589)scale(0.11 -0.11)\">\r\n       <use xlink:href=\"#ArialMT-49\"/>\r\n       <use x=\"55.615234\" xlink:href=\"#ArialMT-46\"/>\r\n       <use x=\"83.398438\" xlink:href=\"#ArialMT-48\"/>\r\n      </g>\r\n     </g>\r\n    </g>\r\n    <g id=\"text_13\">\r\n     <!-- p -->\r\n     <defs>\r\n      <path d=\"M 6.59375 -19.875 \r\nL 6.59375 51.859375 \r\nL 14.59375 51.859375 \r\nL 14.59375 45.125 \r\nQ 17.4375 49.078125 21 51.046875 \r\nQ 24.5625 53.03125 29.640625 53.03125 \r\nQ 36.28125 53.03125 41.359375 49.609375 \r\nQ 46.4375 46.1875 49.015625 39.953125 \r\nQ 51.609375 33.734375 51.609375 26.3125 \r\nQ 51.609375 18.359375 48.75 11.984375 \r\nQ 45.90625 5.609375 40.453125 2.21875 \r\nQ 35.015625 -1.171875 29 -1.171875 \r\nQ 24.609375 -1.171875 21.109375 0.6875 \r\nQ 17.625 2.546875 15.375 5.375 \r\nL 15.375 -19.875 \r\nz\r\nM 14.546875 25.640625 \r\nQ 14.546875 15.625 18.59375 10.84375 \r\nQ 22.65625 6.0625 28.421875 6.0625 \r\nQ 34.28125 6.0625 38.453125 11.015625 \r\nQ 42.625 15.96875 42.625 26.375 \r\nQ 42.625 36.28125 38.546875 41.203125 \r\nQ 34.46875 46.140625 28.8125 46.140625 \r\nQ 23.1875 46.140625 18.859375 40.890625 \r\nQ 14.546875 35.640625 14.546875 25.640625 \r\nz\r\n\" id=\"ArialMT-112\"/>\r\n     </defs>\r\n     <g style=\"fill:#262626;\" transform=\"translate(15.789375 133.845938)rotate(-90)scale(0.12 -0.12)\">\r\n      <use xlink:href=\"#ArialMT-112\"/>\r\n     </g>\r\n    </g>\r\n   </g>\r\n   <g id=\"PathCollection_1\">\r\n    <defs>\r\n     <path d=\"M 0 3 \r\nC 0.795609 3 1.55874 2.683901 2.12132 2.12132 \r\nC 2.683901 1.55874 3 0.795609 3 0 \r\nC 3 -0.795609 2.683901 -1.55874 2.12132 -2.12132 \r\nC 1.55874 -2.683901 0.795609 -3 0 -3 \r\nC -0.795609 -3 -1.55874 -2.683901 -2.12132 -2.12132 \r\nC -2.683901 -1.55874 -3 -0.795609 -3 0 \r\nC -3 0.795609 -2.683901 1.55874 -2.12132 2.12132 \r\nC -1.55874 2.683901 -0.795609 3 0 3 \r\nz\r\n\" id=\"m5a2b2e26df\" style=\"stroke:#4c72b0;\"/>\r\n    </defs>\r\n    <g clip-path=\"url(#p8e6ff1541a)\">\r\n     <use style=\"fill:#4c72b0;stroke:#4c72b0;\" x=\"65.246347\" xlink:href=\"#m5a2b2e26df\" y=\"226.555958\"/>\r\n     <use style=\"fill:#4c72b0;stroke:#4c72b0;\" x=\"80.704587\" xlink:href=\"#m5a2b2e26df\" y=\"216.445791\"/>\r\n     <use style=\"fill:#4c72b0;stroke:#4c72b0;\" x=\"99.491552\" xlink:href=\"#m5a2b2e26df\" y=\"206.335624\"/>\r\n     <use style=\"fill:#4c72b0;stroke:#4c72b0;\" x=\"103.116824\" xlink:href=\"#m5a2b2e26df\" y=\"196.225458\"/>\r\n     <use style=\"fill:#4c72b0;stroke:#4c72b0;\" x=\"130.962173\" xlink:href=\"#m5a2b2e26df\" y=\"186.115291\"/>\r\n     <use style=\"fill:#4c72b0;stroke:#4c72b0;\" x=\"167.169481\" xlink:href=\"#m5a2b2e26df\" y=\"176.005125\"/>\r\n     <use style=\"fill:#4c72b0;stroke:#4c72b0;\" x=\"190.751073\" xlink:href=\"#m5a2b2e26df\" y=\"165.894958\"/>\r\n     <use style=\"fill:#4c72b0;stroke:#4c72b0;\" x=\"194.383748\" xlink:href=\"#m5a2b2e26df\" y=\"155.784791\"/>\r\n     <use style=\"fill:#4c72b0;stroke:#4c72b0;\" x=\"232.367439\" xlink:href=\"#m5a2b2e26df\" y=\"145.674625\"/>\r\n     <use style=\"fill:#4c72b0;stroke:#4c72b0;\" x=\"258.563782\" xlink:href=\"#m5a2b2e26df\" y=\"135.564458\"/>\r\n     <use style=\"fill:#4c72b0;stroke:#4c72b0;\" x=\"268.4339\" xlink:href=\"#m5a2b2e26df\" y=\"125.454292\"/>\r\n     <use style=\"fill:#4c72b0;stroke:#4c72b0;\" x=\"289.682498\" xlink:href=\"#m5a2b2e26df\" y=\"115.344125\"/>\r\n     <use style=\"fill:#4c72b0;stroke:#4c72b0;\" x=\"291.363281\" xlink:href=\"#m5a2b2e26df\" y=\"105.233959\"/>\r\n     <use style=\"fill:#4c72b0;stroke:#4c72b0;\" x=\"312.142612\" xlink:href=\"#m5a2b2e26df\" y=\"95.123792\"/>\r\n     <use style=\"fill:#4c72b0;stroke:#4c72b0;\" x=\"328.250418\" xlink:href=\"#m5a2b2e26df\" y=\"85.013625\"/>\r\n     <use style=\"fill:#4c72b0;stroke:#4c72b0;\" x=\"330.59159\" xlink:href=\"#m5a2b2e26df\" y=\"74.903459\"/>\r\n     <use style=\"fill:#4c72b0;stroke:#4c72b0;\" x=\"331.046817\" xlink:href=\"#m5a2b2e26df\" y=\"64.793292\"/>\r\n     <use style=\"fill:#4c72b0;stroke:#4c72b0;\" x=\"337.037138\" xlink:href=\"#m5a2b2e26df\" y=\"54.683126\"/>\r\n     <use style=\"fill:#4c72b0;stroke:#4c72b0;\" x=\"337.180336\" xlink:href=\"#m5a2b2e26df\" y=\"44.572959\"/>\r\n     <use style=\"fill:#4c72b0;stroke:#4c72b0;\" x=\"363.482403\" xlink:href=\"#m5a2b2e26df\" y=\"34.462792\"/>\r\n    </g>\r\n   </g>\r\n   <g id=\"LineCollection_1\">\r\n    <path clip-path=\"url(#p8e6ff1541a)\" d=\"M 65.246347 226.555958 \r\nL 80.704587 226.555958 \r\n\" style=\"fill:none;stroke:#1a1a1a;stroke-width:1.5;\"/>\r\n   </g>\r\n   <g id=\"LineCollection_2\">\r\n    <path clip-path=\"url(#p8e6ff1541a)\" d=\"M 80.704587 216.445791 \r\nL 99.491552 216.445791 \r\n\" style=\"fill:none;stroke:#1a1a1a;stroke-width:1.5;\"/>\r\n   </g>\r\n   <g id=\"LineCollection_3\">\r\n    <path clip-path=\"url(#p8e6ff1541a)\" d=\"M 99.491552 206.335624 \r\nL 103.116824 206.335624 \r\n\" style=\"fill:none;stroke:#1a1a1a;stroke-width:1.5;\"/>\r\n   </g>\r\n   <g id=\"LineCollection_4\">\r\n    <path clip-path=\"url(#p8e6ff1541a)\" d=\"M 103.116824 196.225458 \r\nL 130.962173 196.225458 \r\n\" style=\"fill:none;stroke:#1a1a1a;stroke-width:1.5;\"/>\r\n   </g>\r\n   <g id=\"LineCollection_5\">\r\n    <path clip-path=\"url(#p8e6ff1541a)\" d=\"M 130.962173 186.115291 \r\nL 167.169481 186.115291 \r\n\" style=\"fill:none;stroke:#1a1a1a;stroke-width:1.5;\"/>\r\n   </g>\r\n   <g id=\"LineCollection_6\">\r\n    <path clip-path=\"url(#p8e6ff1541a)\" d=\"M 167.169481 176.005125 \r\nL 190.751073 176.005125 \r\n\" style=\"fill:none;stroke:#1a1a1a;stroke-width:1.5;\"/>\r\n   </g>\r\n   <g id=\"LineCollection_7\">\r\n    <path clip-path=\"url(#p8e6ff1541a)\" d=\"M 190.751073 165.894958 \r\nL 194.383748 165.894958 \r\n\" style=\"fill:none;stroke:#1a1a1a;stroke-width:1.5;\"/>\r\n   </g>\r\n   <g id=\"LineCollection_8\">\r\n    <path clip-path=\"url(#p8e6ff1541a)\" d=\"M 194.383748 155.784791 \r\nL 232.367439 155.784791 \r\n\" style=\"fill:none;stroke:#1a1a1a;stroke-width:1.5;\"/>\r\n   </g>\r\n   <g id=\"LineCollection_9\">\r\n    <path clip-path=\"url(#p8e6ff1541a)\" d=\"M 232.367439 145.674625 \r\nL 258.563782 145.674625 \r\n\" style=\"fill:none;stroke:#1a1a1a;stroke-width:1.5;\"/>\r\n   </g>\r\n   <g id=\"LineCollection_10\">\r\n    <path clip-path=\"url(#p8e6ff1541a)\" d=\"M 258.563782 135.564458 \r\nL 268.4339 135.564458 \r\n\" style=\"fill:none;stroke:#1a1a1a;stroke-width:1.5;\"/>\r\n   </g>\r\n   <g id=\"LineCollection_11\">\r\n    <path clip-path=\"url(#p8e6ff1541a)\" d=\"M 268.4339 125.454292 \r\nL 289.682498 125.454292 \r\n\" style=\"fill:none;stroke:#1a1a1a;stroke-width:1.5;\"/>\r\n   </g>\r\n   <g id=\"LineCollection_12\">\r\n    <path clip-path=\"url(#p8e6ff1541a)\" d=\"M 289.682498 115.344125 \r\nL 291.363281 115.344125 \r\n\" style=\"fill:none;stroke:#1a1a1a;stroke-width:1.5;\"/>\r\n   </g>\r\n   <g id=\"LineCollection_13\">\r\n    <path clip-path=\"url(#p8e6ff1541a)\" d=\"M 291.363281 105.233959 \r\nL 312.142612 105.233959 \r\n\" style=\"fill:none;stroke:#1a1a1a;stroke-width:1.5;\"/>\r\n   </g>\r\n   <g id=\"LineCollection_14\">\r\n    <path clip-path=\"url(#p8e6ff1541a)\" d=\"M 312.142612 95.123792 \r\nL 328.250418 95.123792 \r\n\" style=\"fill:none;stroke:#1a1a1a;stroke-width:1.5;\"/>\r\n   </g>\r\n   <g id=\"LineCollection_15\">\r\n    <path clip-path=\"url(#p8e6ff1541a)\" d=\"M 328.250418 85.013625 \r\nL 330.59159 85.013625 \r\n\" style=\"fill:none;stroke:#1a1a1a;stroke-width:1.5;\"/>\r\n   </g>\r\n   <g id=\"LineCollection_16\">\r\n    <path clip-path=\"url(#p8e6ff1541a)\" d=\"M 330.59159 74.903459 \r\nL 331.046817 74.903459 \r\n\" style=\"fill:none;stroke:#1a1a1a;stroke-width:1.5;\"/>\r\n   </g>\r\n   <g id=\"LineCollection_17\">\r\n    <path clip-path=\"url(#p8e6ff1541a)\" d=\"M 331.046817 64.793292 \r\nL 337.037138 64.793292 \r\n\" style=\"fill:none;stroke:#1a1a1a;stroke-width:1.5;\"/>\r\n   </g>\r\n   <g id=\"LineCollection_18\">\r\n    <path clip-path=\"url(#p8e6ff1541a)\" d=\"M 337.037138 54.683126 \r\nL 337.180336 54.683126 \r\n\" style=\"fill:none;stroke:#1a1a1a;stroke-width:1.5;\"/>\r\n   </g>\r\n   <g id=\"LineCollection_19\">\r\n    <path clip-path=\"url(#p8e6ff1541a)\" d=\"M 337.180336 44.572959 \r\nL 363.482403 44.572959 \r\n\" style=\"fill:none;stroke:#1a1a1a;stroke-width:1.5;\"/>\r\n   </g>\r\n   <g id=\"patch_3\">\r\n    <path d=\"M 46.964375 239.229375 \r\nL 46.964375 21.789375 \r\n\" style=\"fill:none;stroke:#ffffff;stroke-linecap:square;stroke-linejoin:miter;stroke-width:1.25;\"/>\r\n   </g>\r\n   <g id=\"patch_4\">\r\n    <path d=\"M 381.764375 239.229375 \r\nL 381.764375 21.789375 \r\n\" style=\"fill:none;stroke:#ffffff;stroke-linecap:square;stroke-linejoin:miter;stroke-width:1.25;\"/>\r\n   </g>\r\n   <g id=\"patch_5\">\r\n    <path d=\"M 46.964375 239.229375 \r\nL 381.764375 239.229375 \r\n\" style=\"fill:none;stroke:#ffffff;stroke-linecap:square;stroke-linejoin:miter;stroke-width:1.25;\"/>\r\n   </g>\r\n   <g id=\"patch_6\">\r\n    <path d=\"M 46.964375 21.789375 \r\nL 381.764375 21.789375 \r\n\" style=\"fill:none;stroke:#ffffff;stroke-linecap:square;stroke-linejoin:miter;stroke-width:1.25;\"/>\r\n   </g>\r\n   <g id=\"text_14\">\r\n    <!-- Empirical Distribution Function -->\r\n    <defs>\r\n     <path d=\"M 7.90625 0 \r\nL 7.90625 71.578125 \r\nL 59.671875 71.578125 \r\nL 59.671875 63.140625 \r\nL 17.390625 63.140625 \r\nL 17.390625 41.21875 \r\nL 56.984375 41.21875 \r\nL 56.984375 32.8125 \r\nL 17.390625 32.8125 \r\nL 17.390625 8.453125 \r\nL 61.328125 8.453125 \r\nL 61.328125 0 \r\nz\r\n\" id=\"ArialMT-69\"/>\r\n     <path d=\"M 6.59375 0 \r\nL 6.59375 51.859375 \r\nL 14.453125 51.859375 \r\nL 14.453125 44.578125 \r\nQ 16.890625 48.390625 20.9375 50.703125 \r\nQ 25 53.03125 30.171875 53.03125 \r\nQ 35.9375 53.03125 39.625 50.640625 \r\nQ 43.3125 48.25 44.828125 43.953125 \r\nQ 50.984375 53.03125 60.84375 53.03125 \r\nQ 68.5625 53.03125 72.703125 48.75 \r\nQ 76.859375 44.484375 76.859375 35.59375 \r\nL 76.859375 0 \r\nL 68.109375 0 \r\nL 68.109375 32.671875 \r\nQ 68.109375 37.9375 67.25 40.25 \r\nQ 66.40625 42.578125 64.15625 43.984375 \r\nQ 61.921875 45.40625 58.890625 45.40625 \r\nQ 53.421875 45.40625 49.796875 41.765625 \r\nQ 46.1875 38.140625 46.1875 30.125 \r\nL 46.1875 0 \r\nL 37.40625 0 \r\nL 37.40625 33.6875 \r\nQ 37.40625 39.546875 35.25 42.46875 \r\nQ 33.109375 45.40625 28.21875 45.40625 \r\nQ 24.515625 45.40625 21.359375 43.453125 \r\nQ 18.21875 41.5 16.796875 37.734375 \r\nQ 15.375 33.984375 15.375 26.90625 \r\nL 15.375 0 \r\nz\r\n\" id=\"ArialMT-109\"/>\r\n     <path d=\"M 6.640625 61.46875 \r\nL 6.640625 71.578125 \r\nL 15.4375 71.578125 \r\nL 15.4375 61.46875 \r\nz\r\nM 6.640625 0 \r\nL 6.640625 51.859375 \r\nL 15.4375 51.859375 \r\nL 15.4375 0 \r\nz\r\n\" id=\"ArialMT-105\"/>\r\n     <path d=\"M 6.5 0 \r\nL 6.5 51.859375 \r\nL 14.40625 51.859375 \r\nL 14.40625 44 \r\nQ 17.4375 49.515625 20 51.265625 \r\nQ 22.5625 53.03125 25.640625 53.03125 \r\nQ 30.078125 53.03125 34.671875 50.203125 \r\nL 31.640625 42.046875 \r\nQ 28.421875 43.953125 25.203125 43.953125 \r\nQ 22.3125 43.953125 20.015625 42.21875 \r\nQ 17.71875 40.484375 16.75 37.40625 \r\nQ 15.28125 32.71875 15.28125 27.15625 \r\nL 15.28125 0 \r\nz\r\n\" id=\"ArialMT-114\"/>\r\n     <path d=\"M 40.4375 19 \r\nL 49.078125 17.875 \r\nQ 47.65625 8.9375 41.8125 3.875 \r\nQ 35.984375 -1.171875 27.484375 -1.171875 \r\nQ 16.84375 -1.171875 10.375 5.78125 \r\nQ 3.90625 12.75 3.90625 25.734375 \r\nQ 3.90625 34.125 6.6875 40.421875 \r\nQ 9.46875 46.734375 15.15625 49.875 \r\nQ 20.84375 53.03125 27.546875 53.03125 \r\nQ 35.984375 53.03125 41.359375 48.75 \r\nQ 46.734375 44.484375 48.25 36.625 \r\nL 39.703125 35.296875 \r\nQ 38.484375 40.53125 35.375 43.15625 \r\nQ 32.28125 45.796875 27.875 45.796875 \r\nQ 21.234375 45.796875 17.078125 41.03125 \r\nQ 12.9375 36.28125 12.9375 25.984375 \r\nQ 12.9375 15.53125 16.9375 10.796875 \r\nQ 20.953125 6.0625 27.390625 6.0625 \r\nQ 32.5625 6.0625 36.03125 9.234375 \r\nQ 39.5 12.40625 40.4375 19 \r\nz\r\n\" id=\"ArialMT-99\"/>\r\n     <path d=\"M 40.4375 6.390625 \r\nQ 35.546875 2.25 31.03125 0.53125 \r\nQ 26.515625 -1.171875 21.34375 -1.171875 \r\nQ 12.796875 -1.171875 8.203125 3 \r\nQ 3.609375 7.171875 3.609375 13.671875 \r\nQ 3.609375 17.484375 5.34375 20.625 \r\nQ 7.078125 23.78125 9.890625 25.6875 \r\nQ 12.703125 27.59375 16.21875 28.5625 \r\nQ 18.796875 29.25 24.03125 29.890625 \r\nQ 34.671875 31.15625 39.703125 32.90625 \r\nQ 39.75 34.71875 39.75 35.203125 \r\nQ 39.75 40.578125 37.25 42.78125 \r\nQ 33.890625 45.75 27.25 45.75 \r\nQ 21.046875 45.75 18.09375 43.578125 \r\nQ 15.140625 41.40625 13.71875 35.890625 \r\nL 5.125 37.0625 \r\nQ 6.296875 42.578125 8.984375 45.96875 \r\nQ 11.671875 49.359375 16.75 51.1875 \r\nQ 21.828125 53.03125 28.515625 53.03125 \r\nQ 35.15625 53.03125 39.296875 51.46875 \r\nQ 43.453125 49.90625 45.40625 47.53125 \r\nQ 47.359375 45.171875 48.140625 41.546875 \r\nQ 48.578125 39.3125 48.578125 33.453125 \r\nL 48.578125 21.734375 \r\nQ 48.578125 9.46875 49.140625 6.21875 \r\nQ 49.703125 2.984375 51.375 0 \r\nL 42.1875 0 \r\nQ 40.828125 2.734375 40.4375 6.390625 \r\nz\r\nM 39.703125 26.03125 \r\nQ 34.90625 24.078125 25.34375 22.703125 \r\nQ 19.921875 21.921875 17.671875 20.9375 \r\nQ 15.4375 19.96875 14.203125 18.09375 \r\nQ 12.984375 16.21875 12.984375 13.921875 \r\nQ 12.984375 10.40625 15.640625 8.0625 \r\nQ 18.3125 5.71875 23.4375 5.71875 \r\nQ 28.515625 5.71875 32.46875 7.9375 \r\nQ 36.421875 10.15625 38.28125 14.015625 \r\nQ 39.703125 17 39.703125 22.796875 \r\nz\r\n\" id=\"ArialMT-97\"/>\r\n     <path d=\"M 6.390625 0 \r\nL 6.390625 71.578125 \r\nL 15.1875 71.578125 \r\nL 15.1875 0 \r\nz\r\n\" id=\"ArialMT-108\"/>\r\n     <path id=\"ArialMT-32\"/>\r\n     <path d=\"M 7.71875 0 \r\nL 7.71875 71.578125 \r\nL 32.375 71.578125 \r\nQ 40.71875 71.578125 45.125 70.5625 \r\nQ 51.265625 69.140625 55.609375 65.4375 \r\nQ 61.28125 60.640625 64.078125 53.1875 \r\nQ 66.890625 45.75 66.890625 36.1875 \r\nQ 66.890625 28.03125 64.984375 21.734375 \r\nQ 63.09375 15.4375 60.109375 11.296875 \r\nQ 57.125 7.171875 53.578125 4.796875 \r\nQ 50.046875 2.4375 45.046875 1.21875 \r\nQ 40.046875 0 33.546875 0 \r\nz\r\nM 17.1875 8.453125 \r\nL 32.46875 8.453125 \r\nQ 39.546875 8.453125 43.578125 9.765625 \r\nQ 47.609375 11.078125 50 13.484375 \r\nQ 53.375 16.84375 55.25 22.53125 \r\nQ 57.125 28.21875 57.125 36.328125 \r\nQ 57.125 47.5625 53.4375 53.59375 \r\nQ 49.75 59.625 44.484375 61.671875 \r\nQ 40.671875 63.140625 32.234375 63.140625 \r\nL 17.1875 63.140625 \r\nz\r\n\" id=\"ArialMT-68\"/>\r\n     <path d=\"M 3.078125 15.484375 \r\nL 11.765625 16.84375 \r\nQ 12.5 11.625 15.84375 8.84375 \r\nQ 19.1875 6.0625 25.203125 6.0625 \r\nQ 31.25 6.0625 34.171875 8.515625 \r\nQ 37.109375 10.984375 37.109375 14.3125 \r\nQ 37.109375 17.28125 34.515625 19 \r\nQ 32.71875 20.171875 25.53125 21.96875 \r\nQ 15.875 24.421875 12.140625 26.203125 \r\nQ 8.40625 27.984375 6.46875 31.125 \r\nQ 4.546875 34.28125 4.546875 38.09375 \r\nQ 4.546875 41.546875 6.125 44.5 \r\nQ 7.71875 47.46875 10.453125 49.421875 \r\nQ 12.5 50.921875 16.03125 51.96875 \r\nQ 19.578125 53.03125 23.640625 53.03125 \r\nQ 29.734375 53.03125 34.34375 51.265625 \r\nQ 38.96875 49.515625 41.15625 46.5 \r\nQ 43.359375 43.5 44.1875 38.484375 \r\nL 35.59375 37.3125 \r\nQ 35.015625 41.3125 32.203125 43.546875 \r\nQ 29.390625 45.796875 24.265625 45.796875 \r\nQ 18.21875 45.796875 15.625 43.796875 \r\nQ 13.03125 41.796875 13.03125 39.109375 \r\nQ 13.03125 37.40625 14.109375 36.03125 \r\nQ 15.1875 34.625 17.484375 33.6875 \r\nQ 18.796875 33.203125 25.25 31.453125 \r\nQ 34.578125 28.953125 38.25 27.359375 \r\nQ 41.9375 25.78125 44.03125 22.75 \r\nQ 46.140625 19.734375 46.140625 15.234375 \r\nQ 46.140625 10.84375 43.578125 6.953125 \r\nQ 41.015625 3.078125 36.171875 0.953125 \r\nQ 31.34375 -1.171875 25.25 -1.171875 \r\nQ 15.140625 -1.171875 9.84375 3.03125 \r\nQ 4.546875 7.234375 3.078125 15.484375 \r\nz\r\n\" id=\"ArialMT-115\"/>\r\n     <path d=\"M 25.78125 7.859375 \r\nL 27.046875 0.09375 \r\nQ 23.34375 -0.6875 20.40625 -0.6875 \r\nQ 15.625 -0.6875 12.984375 0.828125 \r\nQ 10.359375 2.34375 9.28125 4.8125 \r\nQ 8.203125 7.28125 8.203125 15.1875 \r\nL 8.203125 45.015625 \r\nL 1.765625 45.015625 \r\nL 1.765625 51.859375 \r\nL 8.203125 51.859375 \r\nL 8.203125 64.703125 \r\nL 16.9375 69.96875 \r\nL 16.9375 51.859375 \r\nL 25.78125 51.859375 \r\nL 25.78125 45.015625 \r\nL 16.9375 45.015625 \r\nL 16.9375 14.703125 \r\nQ 16.9375 10.9375 17.40625 9.859375 \r\nQ 17.875 8.796875 18.921875 8.15625 \r\nQ 19.96875 7.515625 21.921875 7.515625 \r\nQ 23.390625 7.515625 25.78125 7.859375 \r\nz\r\n\" id=\"ArialMT-116\"/>\r\n     <path d=\"M 14.703125 0 \r\nL 6.546875 0 \r\nL 6.546875 71.578125 \r\nL 15.328125 71.578125 \r\nL 15.328125 46.046875 \r\nQ 20.90625 53.03125 29.546875 53.03125 \r\nQ 34.328125 53.03125 38.59375 51.09375 \r\nQ 42.875 49.171875 45.625 45.671875 \r\nQ 48.390625 42.1875 49.953125 37.25 \r\nQ 51.515625 32.328125 51.515625 26.703125 \r\nQ 51.515625 13.375 44.921875 6.09375 \r\nQ 38.328125 -1.171875 29.109375 -1.171875 \r\nQ 19.921875 -1.171875 14.703125 6.5 \r\nz\r\nM 14.59375 26.3125 \r\nQ 14.59375 17 17.140625 12.84375 \r\nQ 21.296875 6.0625 28.375 6.0625 \r\nQ 34.125 6.0625 38.328125 11.0625 \r\nQ 42.53125 16.0625 42.53125 25.984375 \r\nQ 42.53125 36.140625 38.5 40.96875 \r\nQ 34.46875 45.796875 28.765625 45.796875 \r\nQ 23 45.796875 18.796875 40.796875 \r\nQ 14.59375 35.796875 14.59375 26.3125 \r\nz\r\n\" id=\"ArialMT-98\"/>\r\n     <path d=\"M 40.578125 0 \r\nL 40.578125 7.625 \r\nQ 34.515625 -1.171875 24.125 -1.171875 \r\nQ 19.53125 -1.171875 15.546875 0.578125 \r\nQ 11.578125 2.34375 9.640625 5 \r\nQ 7.71875 7.671875 6.9375 11.53125 \r\nQ 6.390625 14.109375 6.390625 19.734375 \r\nL 6.390625 51.859375 \r\nL 15.1875 51.859375 \r\nL 15.1875 23.09375 \r\nQ 15.1875 16.21875 15.71875 13.8125 \r\nQ 16.546875 10.359375 19.234375 8.375 \r\nQ 21.921875 6.390625 25.875 6.390625 \r\nQ 29.828125 6.390625 33.296875 8.421875 \r\nQ 36.765625 10.453125 38.203125 13.9375 \r\nQ 39.65625 17.4375 39.65625 24.078125 \r\nL 39.65625 51.859375 \r\nL 48.4375 51.859375 \r\nL 48.4375 0 \r\nz\r\n\" id=\"ArialMT-117\"/>\r\n     <path d=\"M 3.328125 25.921875 \r\nQ 3.328125 40.328125 11.328125 47.265625 \r\nQ 18.015625 53.03125 27.640625 53.03125 \r\nQ 38.328125 53.03125 45.109375 46.015625 \r\nQ 51.90625 39.015625 51.90625 26.65625 \r\nQ 51.90625 16.65625 48.90625 10.90625 \r\nQ 45.90625 5.171875 40.15625 2 \r\nQ 34.421875 -1.171875 27.640625 -1.171875 \r\nQ 16.75 -1.171875 10.03125 5.8125 \r\nQ 3.328125 12.796875 3.328125 25.921875 \r\nz\r\nM 12.359375 25.921875 \r\nQ 12.359375 15.96875 16.703125 11.015625 \r\nQ 21.046875 6.0625 27.640625 6.0625 \r\nQ 34.1875 6.0625 38.53125 11.03125 \r\nQ 42.875 16.015625 42.875 26.21875 \r\nQ 42.875 35.84375 38.5 40.796875 \r\nQ 34.125 45.75 27.640625 45.75 \r\nQ 21.046875 45.75 16.703125 40.8125 \r\nQ 12.359375 35.890625 12.359375 25.921875 \r\nz\r\n\" id=\"ArialMT-111\"/>\r\n     <path d=\"M 6.59375 0 \r\nL 6.59375 51.859375 \r\nL 14.5 51.859375 \r\nL 14.5 44.484375 \r\nQ 20.21875 53.03125 31 53.03125 \r\nQ 35.6875 53.03125 39.625 51.34375 \r\nQ 43.5625 49.65625 45.515625 46.921875 \r\nQ 47.46875 44.1875 48.25 40.4375 \r\nQ 48.734375 37.984375 48.734375 31.890625 \r\nL 48.734375 0 \r\nL 39.9375 0 \r\nL 39.9375 31.546875 \r\nQ 39.9375 36.921875 38.90625 39.578125 \r\nQ 37.890625 42.234375 35.28125 43.8125 \r\nQ 32.671875 45.40625 29.15625 45.40625 \r\nQ 23.53125 45.40625 19.453125 41.84375 \r\nQ 15.375 38.28125 15.375 28.328125 \r\nL 15.375 0 \r\nz\r\n\" id=\"ArialMT-110\"/>\r\n     <path d=\"M 8.203125 0 \r\nL 8.203125 71.578125 \r\nL 56.5 71.578125 \r\nL 56.5 63.140625 \r\nL 17.671875 63.140625 \r\nL 17.671875 40.96875 \r\nL 51.265625 40.96875 \r\nL 51.265625 32.515625 \r\nL 17.671875 32.515625 \r\nL 17.671875 0 \r\nz\r\n\" id=\"ArialMT-70\"/>\r\n    </defs>\r\n    <g style=\"fill:#262626;\" transform=\"translate(133.339063 15.789375)scale(0.12 -0.12)\">\r\n     <use xlink:href=\"#ArialMT-69\"/>\r\n     <use x=\"66.699219\" xlink:href=\"#ArialMT-109\"/>\r\n     <use x=\"150\" xlink:href=\"#ArialMT-112\"/>\r\n     <use x=\"205.615234\" xlink:href=\"#ArialMT-105\"/>\r\n     <use x=\"227.832031\" xlink:href=\"#ArialMT-114\"/>\r\n     <use x=\"261.132812\" xlink:href=\"#ArialMT-105\"/>\r\n     <use x=\"283.349609\" xlink:href=\"#ArialMT-99\"/>\r\n     <use x=\"333.349609\" xlink:href=\"#ArialMT-97\"/>\r\n     <use x=\"388.964844\" xlink:href=\"#ArialMT-108\"/>\r\n     <use x=\"411.181641\" xlink:href=\"#ArialMT-32\"/>\r\n     <use x=\"438.964844\" xlink:href=\"#ArialMT-68\"/>\r\n     <use x=\"511.181641\" xlink:href=\"#ArialMT-105\"/>\r\n     <use x=\"533.398438\" xlink:href=\"#ArialMT-115\"/>\r\n     <use x=\"583.398438\" xlink:href=\"#ArialMT-116\"/>\r\n     <use x=\"611.181641\" xlink:href=\"#ArialMT-114\"/>\r\n     <use x=\"644.482422\" xlink:href=\"#ArialMT-105\"/>\r\n     <use x=\"666.699219\" xlink:href=\"#ArialMT-98\"/>\r\n     <use x=\"722.314453\" xlink:href=\"#ArialMT-117\"/>\r\n     <use x=\"777.929688\" xlink:href=\"#ArialMT-116\"/>\r\n     <use x=\"805.712891\" xlink:href=\"#ArialMT-105\"/>\r\n     <use x=\"827.929688\" xlink:href=\"#ArialMT-111\"/>\r\n     <use x=\"883.544922\" xlink:href=\"#ArialMT-110\"/>\r\n     <use x=\"939.160156\" xlink:href=\"#ArialMT-32\"/>\r\n     <use x=\"966.943359\" xlink:href=\"#ArialMT-70\"/>\r\n     <use x=\"1028.027344\" xlink:href=\"#ArialMT-117\"/>\r\n     <use x=\"1083.642578\" xlink:href=\"#ArialMT-110\"/>\r\n     <use x=\"1139.257812\" xlink:href=\"#ArialMT-99\"/>\r\n     <use x=\"1189.257812\" xlink:href=\"#ArialMT-116\"/>\r\n     <use x=\"1217.041016\" xlink:href=\"#ArialMT-105\"/>\r\n     <use x=\"1239.257812\" xlink:href=\"#ArialMT-111\"/>\r\n     <use x=\"1294.873047\" xlink:href=\"#ArialMT-110\"/>\r\n    </g>\r\n   </g>\r\n  </g>\r\n </g>\r\n <defs>\r\n  <clipPath id=\"p8e6ff1541a\">\r\n   <rect height=\"217.44\" width=\"334.8\" x=\"46.964375\" y=\"21.789375\"/>\r\n  </clipPath>\r\n </defs>\r\n</svg>\r\n",
      "image/png": "[encoded data removed]"
     },
     "metadata": {}
    }
   ],
   "source": [
    "#hide-output\n",
    "data = np.random.uniform(0, 1, 20)\n",
    "\n",
    "x = np.sort(data)\n",
    "n = x.size\n",
    "y = np.arange(1, n+1) / n\n",
    "\n",
    "fig, axes = plt.subplots()\n",
    "axes.set_title(\"Empirical Distribution Function\")\n",
    "axes.scatter(x, y)\n",
    "axes.set_xlabel(\"x\")\n",
    "axes.set_ylabel(\"p\")\n",
    "for i, j in enumerate(x[:-1]):\n",
    "\n",
    "    axes.hlines(y[i], x[i], x[i+1])\n",
    "\n",
    "fig.savefig(\"empirical_distribution_function.png\")"
   ]
  },
  {
   "source": [
    "## TODO\n",
    "\n",
    "Incorporate formulars from these sources\n",
    "\n",
    "- [link](https://static1.squarespace.com/static/54bf3241e4b0f0d81bf7ff36/t/55e9494fe4b011aed10e48e5/1441352015658/probability_cheatsheet.pdf)\n",
    "- [link](https://www.uio.no/studier/emner/matnat/math/STK1100/v16/formelsamling-stk-1100-1110_eng_nov_2015.pdf)"
   ],
   "cell_type": "markdown",
   "metadata": {}
  },
  {
   "source": [
    "## Sources"
   ],
   "cell_type": "markdown",
   "metadata": {}
  },
  {
   "source": [
    "My main sources are\n",
    "\n",
    "- {% cite murphy2012machine %}\n",
    "- {% cite statistik %}\n",
    "\n"
   ],
   "cell_type": "markdown",
   "metadata": {}
  },
  {
   "cell_type": "markdown",
   "metadata": {},
   "source": [
    "## References"
   ]
  },
  {
   "cell_type": "markdown",
   "metadata": {},
   "source": [
    "{% bibliography --cited %}"
   ]
  }
 ],
 "metadata": {
  "kernelspec": {
   "name": "Python 3.8.2 64-bit ('new_base': conda)",
   "display_name": "Python 3.8.2 64-bit ('new_base': conda)",
   "metadata": {
    "interpreter": {
     "hash": "53a41db535624128ff192d41e12e439784dfeec1ad5ca9ac843ae27fdce331fa"
    }
   }
  },
  "language_info": {
   "codemirror_mode": {
    "name": "ipython",
    "version": 3
   },
   "file_extension": ".py",
   "mimetype": "text/x-python",
   "name": "python",
   "nbconvert_exporter": "python",
   "pygments_lexer": "ipython3",
   "version": "3.8.2-final"
  }
 },
 "nbformat": 4,
 "nbformat_minor": 4
}