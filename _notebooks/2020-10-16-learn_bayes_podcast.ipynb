{
  "nbformat": 4,
  "nbformat_minor": 0,
  "metadata": {
    "kernelspec": {
      "name": "Python 3.7.9 64-bit ('statistics_blog': conda)",
      "display_name": "Python 3.7.9 64-bit ('statistics_blog': conda)",
      "metadata": {
        "interpreter": {
          "hash": "1903b2bc6fa09ef9a571b65384e6224e56d66c2aef7136d7796c6206344f5845"
        }
      }
    },
    "language_info": {
      "codemirror_mode": {
        "name": "ipython",
        "version": 3
      },
      "file_extension": ".py",
      "mimetype": "text/x-python",
      "name": "python",
      "nbconvert_exporter": "python",
      "pygments_lexer": "ipython3",
      "version": "3.7.9-final"
    },
    "colab": {
      "name": "base_notebook.ipynb",
      "provenance": []
    }
  },
  "cells": [
    {
      "cell_type": "markdown",
      "metadata": {
        "id": "SfuNUt8Ni_zY"
      },
      "source": [
        "# \"Learn bayes podcast\"\n",
        "> \"Subheader\"\n",
        "\n",
        "- author: Christopher Thiemann\n",
        "- toc: true\n",
        "- branch: master\n",
        "- badges: true\n",
        "- comments: true\n",
        "- categories: [statistics, ]\n",
        "- hide: false\n",
        "- search_exclude: true\n",
        "- image: images/poisson.png"
      ]
    },
    {
      "cell_type": "code",
      "metadata": {
        "id": "xraFuLIIi_zZ",
        "outputId": "14b2151c-849d-411a-8593-414bbfefffee"
      },
      "source": [
        "#hide\n",
        "import warnings\n",
        "\n",
        "\n",
        "import numpy as np\n",
        "import scipy as sp\n",
        "import sklearn\n",
        "import statsmodels.api as sm\n",
        "from statsmodels.formula.api import ols\n",
        "\n",
        "\n",
        "import matplotlib as mpl\n",
        "import matplotlib.pyplot as plt\n",
        "%matplotlib inline\n",
        "%config InlineBackend.figure_format = 'retina'\n",
        "\n",
        "import seaborn as sns\n",
        "sns.set_context(\"poster\")\n",
        "sns.set(rc={'figure.figsize': (16, 9.)})\n",
        "sns.set_style(\"whitegrid\")\n",
        "\n",
        "import pandas as pd\n",
        "pd.set_option(\"display.max_rows\", 120)\n",
        "pd.set_option(\"display.max_columns\", 120)\n",
        "\n",
        "# supress warnings related to r\n",
        "from rpy2.rinterface import RRuntimeWarning\n",
        "warnings.filterwarnings('ignore', category= FutureWarning)\n",
        "warnings.filterwarnings('ignore', category= RRuntimeWarning)\n",
        "\n",
        "#load the r interface\n",
        "%load_ext rpy2.ipython\n",
        "from rpy2.robjects import pandas2ri\n",
        "pandas2ri.activate()\n",
        "\n",
        "import rpy2.interactive as r\n",
        "import rpy2.interactive.packages # this can take few seconds\n",
        "rlib = r.packages.packages\n",
        "r.packages.importr(\"utils\")\n",
        "rlib.utils.install_packages(\"tidyverse\")\n",
        "rlib.utils.install_packages(\"GGally\")"
      ],
      "execution_count": null,
      "outputs": [
        {
          "output_type": "error",
          "ename": "ModuleNotFoundError",
          "evalue": "No module named 'sklearn'",
          "traceback": [
            "\u001b[1;31m---------------------------------------------------------------------------\u001b[0m",
            "\u001b[1;31mModuleNotFoundError\u001b[0m                       Traceback (most recent call last)",
            "\u001b[1;32m<ipython-input-3-e2a0fbb86c93>\u001b[0m in \u001b[0;36m<module>\u001b[1;34m\u001b[0m\n\u001b[0;32m      5\u001b[0m \u001b[1;32mimport\u001b[0m \u001b[0mnumpy\u001b[0m \u001b[1;32mas\u001b[0m \u001b[0mnp\u001b[0m\u001b[1;33m\u001b[0m\u001b[1;33m\u001b[0m\u001b[0m\n\u001b[0;32m      6\u001b[0m \u001b[1;32mimport\u001b[0m \u001b[0mscipy\u001b[0m \u001b[1;32mas\u001b[0m \u001b[0msp\u001b[0m\u001b[1;33m\u001b[0m\u001b[1;33m\u001b[0m\u001b[0m\n\u001b[1;32m----> 7\u001b[1;33m \u001b[1;32mimport\u001b[0m \u001b[0msklearn\u001b[0m\u001b[1;33m\u001b[0m\u001b[1;33m\u001b[0m\u001b[0m\n\u001b[0m\u001b[0;32m      8\u001b[0m \u001b[1;32mimport\u001b[0m \u001b[0mstatsmodels\u001b[0m\u001b[1;33m.\u001b[0m\u001b[0mapi\u001b[0m \u001b[1;32mas\u001b[0m \u001b[0msm\u001b[0m\u001b[1;33m\u001b[0m\u001b[1;33m\u001b[0m\u001b[0m\n\u001b[0;32m      9\u001b[0m \u001b[1;32mfrom\u001b[0m \u001b[0mstatsmodels\u001b[0m\u001b[1;33m.\u001b[0m\u001b[0mformula\u001b[0m\u001b[1;33m.\u001b[0m\u001b[0mapi\u001b[0m \u001b[1;32mimport\u001b[0m \u001b[0mols\u001b[0m\u001b[1;33m\u001b[0m\u001b[1;33m\u001b[0m\u001b[0m\n",
            "\u001b[1;31mModuleNotFoundError\u001b[0m: No module named 'sklearn'"
          ]
        }
      ]
    },
    {
      "cell_type": "code",
      "metadata": {
        "id": "HFrOkGVzi_zf"
      },
      "source": [
        "#hide\n",
        "# load r packages\n",
        "%%R \n",
        "library(tidyverse)\n",
        "library(GGally)"
      ],
      "execution_count": null,
      "outputs": []
    },
    {
      "cell_type": "markdown",
      "metadata": {
        "id": "yx_5nd1ni_zh"
      },
      "source": [
        "## Helper Functions"
      ]
    },
    {
      "cell_type": "markdown",
      "metadata": {
        "id": "jm9Gr5jgi_zi"
      },
      "source": [
        "## Plot for the Blog Post"
      ]
    },
    {
      "cell_type": "markdown",
      "metadata": {
        "id": "bdeC9lovi_zj"
      },
      "source": [
        "## Sources\n",
        "\n",
        "- Hello This is a markdown page {% cite signaltrain %}"
      ]
    },
    {
      "cell_type": "markdown",
      "metadata": {
        "id": "2tldkChRi_zk"
      },
      "source": [
        "## References"
      ]
    },
    {
      "cell_type": "markdown",
      "metadata": {
        "id": "8DZcXTWei_zk"
      },
      "source": [
        "{% bibliography --cited %}"
      ]
    }
  ]
}