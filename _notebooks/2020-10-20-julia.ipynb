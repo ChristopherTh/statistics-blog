{
  "nbformat": 4,
  "nbformat_minor": 0,
  "metadata": {
    "kernelspec": {
      "display_name": "Julia 1.5.2",
      "language": "julia",
      "name": "julia-1.5"
    },
    "language_info": {
      "file_extension": ".jl",
      "mimetype": "application/julia",
      "name": "julia",
      "version": "1.5.2"
    },
    "colab": {
      "name": "2020-10-20-julia.ipynb",
      "provenance": []
    }
  },
  "cells": [
    {
      "cell_type": "markdown",
      "metadata": {
        "id": "d4NI3VA_9Vsr"
      },
      "source": [
        "# \"Julia\"\n",
        "> \"Basics of the julia language\"\n",
        "\n",
        "- author: Christopher Thiemann\n",
        "- toc: true\n",
        "- branch: master\n",
        "- badges: true\n",
        "- comments: true\n",
        "- categories: [julia ]\n",
        "- hide: true\n",
        "- search_exclude: true"
      ]
    },
    {
      "cell_type": "code",
      "metadata": {
        "id": "0KxgnKSC9Vss",
        "outputId": "e63e27ff-b412-4fc4-bd3c-7f018447edd1"
      },
      "source": [
        "answer = 43"
      ],
      "execution_count": null,
      "outputs": [
        {
          "output_type": "execute_result",
          "data": {
            "text/plain": [
              "43"
            ]
          },
          "metadata": {
            "tags": []
          },
          "execution_count": 1
        }
      ]
    },
    {
      "cell_type": "code",
      "metadata": {
        "id": "wmz0ubiQ9Vsy",
        "outputId": "e87d8c97-062f-4b6c-fab0-9b43c8f48ccb"
      },
      "source": [
        "x = 2"
      ],
      "execution_count": null,
      "outputs": [
        {
          "output_type": "execute_result",
          "data": {
            "text/plain": [
              "2"
            ]
          },
          "metadata": {
            "tags": []
          },
          "execution_count": 2
        }
      ]
    },
    {
      "cell_type": "code",
      "metadata": {
        "id": "ov1b8PQc9Vs1",
        "outputId": "a486eab5-b412-4565-af2e-fc89fbc2ca92"
      },
      "source": [
        "1 < x < 3"
      ],
      "execution_count": null,
      "outputs": [
        {
          "output_type": "execute_result",
          "data": {
            "text/plain": [
              "true"
            ]
          },
          "metadata": {
            "tags": []
          },
          "execution_count": 4
        }
      ]
    },
    {
      "cell_type": "code",
      "metadata": {
        "id": "EKyY0tVn9Vs4",
        "outputId": "d757e6e1-346f-4439-9c5e-5d4a6f189402"
      },
      "source": [
        "M = [1 0; 0 1]"
      ],
      "execution_count": null,
      "outputs": [
        {
          "output_type": "execute_result",
          "data": {
            "text/plain": [
              "2×2 Array{Int64,2}:\n",
              " 1  0\n",
              " 0  1"
            ]
          },
          "metadata": {
            "tags": []
          },
          "execution_count": 5
        }
      ]
    },
    {
      "cell_type": "code",
      "metadata": {
        "id": "Okj3vgil9Vs7",
        "outputId": "498a9bdb-6d56-49a6-b25c-9faf9264a71d"
      },
      "source": [
        "typeof(size(M))"
      ],
      "execution_count": null,
      "outputs": [
        {
          "output_type": "execute_result",
          "data": {
            "text/plain": [
              "Tuple{Int64,Int64}"
            ]
          },
          "metadata": {
            "tags": []
          },
          "execution_count": 14
        }
      ]
    },
    {
      "cell_type": "markdown",
      "metadata": {
        "id": "XmS1VlR99VtA"
      },
      "source": [
        "## Basics"
      ]
    },
    {
      "cell_type": "markdown",
      "metadata": {
        "id": "888Tqm6B9VtB"
      },
      "source": [
        "### Assignement"
      ]
    },
    {
      "cell_type": "code",
      "metadata": {
        "id": "NWW9pkNu9VtB",
        "outputId": "95ea3f27-70e6-4c51-87d4-0587d65733db"
      },
      "source": [
        "answer = 42\n",
        "x, y, z = 1, [1:10; ], \"A string\" # just like in python !\n",
        "x, y = y, x # swap x and y"
      ],
      "execution_count": null,
      "outputs": [
        {
          "output_type": "execute_result",
          "data": {
            "text/plain": [
              "([1, 2, 3, 4, 5, 6, 7, 8, 9, 10], 1)"
            ]
          },
          "metadata": {
            "tags": []
          },
          "execution_count": 20
        }
      ]
    },
    {
      "cell_type": "markdown",
      "metadata": {
        "id": "jDYpf67F9VtF"
      },
      "source": [
        "### Declaring Constants"
      ]
    },
    {
      "cell_type": "code",
      "metadata": {
        "id": "d2zuoZ4m9VtG",
        "outputId": "d67c5a8b-9f61-4e63-c143-bdd3da3f8798"
      },
      "source": [
        "const DATE_OF_BIRTH = 2012"
      ],
      "execution_count": null,
      "outputs": [
        {
          "output_type": "execute_result",
          "data": {
            "text/plain": [
              "2012"
            ]
          },
          "metadata": {
            "tags": []
          },
          "execution_count": 23
        }
      ]
    },
    {
      "cell_type": "markdown",
      "metadata": {
        "id": "p13CLiU09VtJ"
      },
      "source": [
        "### Commenting"
      ]
    },
    {
      "cell_type": "code",
      "metadata": {
        "id": "HEuz1K549VtJ",
        "outputId": "355adc21-0134-4dd8-fbb1-0031a59033fb"
      },
      "source": [
        "1 + 1 # Hello, this is a comment!"
      ],
      "execution_count": null,
      "outputs": [
        {
          "output_type": "execute_result",
          "data": {
            "text/plain": [
              "2"
            ]
          },
          "metadata": {
            "tags": []
          },
          "execution_count": 25
        }
      ]
    },
    {
      "cell_type": "markdown",
      "metadata": {
        "id": "z9D3KFvW9VtM"
      },
      "source": [
        "### Delimited comment"
      ]
    },
    {
      "cell_type": "code",
      "metadata": {
        "id": "kE20gO4S9VtN",
        "outputId": "520efdd8-db7a-42f3-f556-f8451d1041c2"
      },
      "source": [
        "1 + #= This comment is inside code! =# 1"
      ],
      "execution_count": null,
      "outputs": [
        {
          "output_type": "execute_result",
          "data": {
            "text/plain": [
              "2"
            ]
          },
          "metadata": {
            "tags": []
          },
          "execution_count": 27
        }
      ]
    },
    {
      "cell_type": "markdown",
      "metadata": {
        "id": "b6zpQnlj9VtP"
      },
      "source": [
        "### Chaining"
      ]
    },
    {
      "cell_type": "code",
      "metadata": {
        "id": "dxPapjgx9VtP",
        "outputId": "f73901ba-7b5c-478e-e6f5-931f6781bc7a"
      },
      "source": [
        "x = y = z = 1  # right-to-left"
      ],
      "execution_count": null,
      "outputs": [
        {
          "output_type": "execute_result",
          "data": {
            "text/plain": [
              "1"
            ]
          },
          "metadata": {
            "tags": []
          },
          "execution_count": 28
        }
      ]
    },
    {
      "cell_type": "code",
      "metadata": {
        "id": "DLUe5rwp9VtT",
        "outputId": "6c784b6a-d448-49d9-8133-7395312a5b99"
      },
      "source": [
        "0 < x < 3  #works"
      ],
      "execution_count": null,
      "outputs": [
        {
          "output_type": "execute_result",
          "data": {
            "text/plain": [
              "true"
            ]
          },
          "metadata": {
            "tags": []
          },
          "execution_count": 29
        }
      ]
    },
    {
      "cell_type": "code",
      "metadata": {
        "id": "dVHM2FZl9VtV",
        "outputId": "bb1f79ec-72ba-46ec-83c9-e7965e27c06d"
      },
      "source": [
        "z = 10\n",
        "b = 2\n",
        "x < y < z < b # works too!"
      ],
      "execution_count": null,
      "outputs": [
        {
          "output_type": "execute_result",
          "data": {
            "text/plain": [
              "false"
            ]
          },
          "metadata": {
            "tags": []
          },
          "execution_count": 31
        }
      ]
    },
    {
      "cell_type": "markdown",
      "metadata": {
        "id": "HSw0uk_-9VtY"
      },
      "source": [
        "### Function definition\n"
      ]
    },
    {
      "cell_type": "code",
      "metadata": {
        "id": "K-U9aXP-9VtZ",
        "outputId": "ad1e64e4-07bd-4ff6-edee-21cbbc8138d6"
      },
      "source": [
        "function add_one(i)\n",
        "    return i + 1 # Just a bit different to python.\n",
        "end\n",
        "\n",
        "add_one(2)"
      ],
      "execution_count": null,
      "outputs": [
        {
          "output_type": "execute_result",
          "data": {
            "text/plain": [
              "3"
            ]
          },
          "metadata": {
            "tags": []
          },
          "execution_count": 32
        }
      ]
    },
    {
      "cell_type": "markdown",
      "metadata": {
        "id": "B2t4djgW9Vtb"
      },
      "source": [
        "### Insert LaTeX symbols\n",
        "Now this is a cool feature...in a code cell type for example \\alpha + Tab "
      ]
    },
    {
      "cell_type": "code",
      "metadata": {
        "id": "7VxVCUIz9Vtc",
        "outputId": "c5b68320-932d-4cea-b84b-657578db1813"
      },
      "source": [
        "β = 1"
      ],
      "execution_count": null,
      "outputs": [
        {
          "output_type": "execute_result",
          "data": {
            "text/plain": [
              "1"
            ]
          },
          "metadata": {
            "tags": []
          },
          "execution_count": 34
        }
      ]
    },
    {
      "cell_type": "markdown",
      "metadata": {
        "id": "fYvbgaMU9Vte"
      },
      "source": [
        "## Operators"
      ]
    },
    {
      "cell_type": "markdown",
      "metadata": {
        "id": "OhunPtro9Vtf"
      },
      "source": [
        "### Basic Arithmetic \n",
        "works as expected"
      ]
    },
    {
      "cell_type": "code",
      "metadata": {
        "id": "HV4t71iL9Vtg",
        "outputId": "9ebaa238-199d-4ec8-e7b2-2748d5b2f403"
      },
      "source": [
        "println(1 + 1)\n",
        "println(1 - 3)\n",
        "println(3 * 3)\n",
        "println(4 / 2)"
      ],
      "execution_count": null,
      "outputs": [
        {
          "output_type": "stream",
          "text": [
            "2\n",
            "-2\n",
            "9\n",
            "2.0\n"
          ],
          "name": "stdout"
        }
      ]
    },
    {
      "cell_type": "markdown",
      "metadata": {
        "id": "65V-0n7-9Vti"
      },
      "source": [
        "### Exponentiation"
      ]
    },
    {
      "cell_type": "code",
      "metadata": {
        "id": "S6PnOFGa9Vtj",
        "outputId": "62e61179-d9bb-449b-a2c1-42f32bb939dc"
      },
      "source": [
        "2^2 # note the difference to python 2 ** 2"
      ],
      "execution_count": null,
      "outputs": [
        {
          "output_type": "execute_result",
          "data": {
            "text/plain": [
              "4"
            ]
          },
          "metadata": {
            "tags": []
          },
          "execution_count": 38
        }
      ]
    },
    {
      "cell_type": "markdown",
      "metadata": {
        "id": "k7bR9ZiU9Vtl"
      },
      "source": [
        "### Remainder"
      ]
    },
    {
      "cell_type": "code",
      "metadata": {
        "id": "5PPKsBbl9Vtl",
        "outputId": "b9c3486c-70ec-46ca-a539-c7087ac5bd32"
      },
      "source": [
        "4 % 3"
      ],
      "execution_count": null,
      "outputs": [
        {
          "output_type": "execute_result",
          "data": {
            "text/plain": [
              "1"
            ]
          },
          "metadata": {
            "tags": []
          },
          "execution_count": 40
        }
      ]
    },
    {
      "cell_type": "markdown",
      "metadata": {
        "id": "nTKAEnWV9Vto"
      },
      "source": [
        "### Negation"
      ]
    },
    {
      "cell_type": "code",
      "metadata": {
        "id": "_X4tKv4q9Vtp",
        "outputId": "50e6ecce-80f1-4ac7-ee96-dadeda424cb2"
      },
      "source": [
        "!true # note the difference to numpys ~"
      ],
      "execution_count": null,
      "outputs": [
        {
          "output_type": "execute_result",
          "data": {
            "text/plain": [
              "false"
            ]
          },
          "metadata": {
            "tags": []
          },
          "execution_count": 43
        }
      ]
    },
    {
      "cell_type": "markdown",
      "metadata": {
        "id": "kQ00UEuH9Vts"
      },
      "source": [
        "### Equality"
      ]
    },
    {
      "cell_type": "code",
      "metadata": {
        "id": "-aevgOd49Vtt",
        "outputId": "840d1c71-45a9-40a0-9f43-948dd8b7be6a"
      },
      "source": [
        "true == true"
      ],
      "execution_count": null,
      "outputs": [
        {
          "output_type": "execute_result",
          "data": {
            "text/plain": [
              "true"
            ]
          },
          "metadata": {
            "tags": []
          },
          "execution_count": 45
        }
      ]
    },
    {
      "cell_type": "markdown",
      "metadata": {
        "id": "Un1RMdBq9Vtv"
      },
      "source": [
        "### Inequality"
      ]
    },
    {
      "cell_type": "code",
      "metadata": {
        "id": "G-WxRq0n9Vtw",
        "outputId": "69d51c9e-b485-4ffc-d6a2-a1cc7fcd8949"
      },
      "source": [
        "true != true"
      ],
      "execution_count": null,
      "outputs": [
        {
          "output_type": "execute_result",
          "data": {
            "text/plain": [
              "false"
            ]
          },
          "metadata": {
            "tags": []
          },
          "execution_count": 47
        }
      ]
    },
    {
      "cell_type": "markdown",
      "metadata": {
        "id": "FGIwmz0g9Vty"
      },
      "source": [
        "### Elementwise operation"
      ]
    },
    {
      "cell_type": "code",
      "metadata": {
        "id": "-sKLQYuV9Vty",
        "outputId": "9d24f887-cd54-482d-b734-caf3a417a88b"
      },
      "source": [
        "[1 2; 3 3] .* [9 9;9 9] # elementwise"
      ],
      "execution_count": null,
      "outputs": [
        {
          "output_type": "execute_result",
          "data": {
            "text/plain": [
              "2×2 Array{Int64,2}:\n",
              "  9  18\n",
              " 27  27"
            ]
          },
          "metadata": {
            "tags": []
          },
          "execution_count": 60
        }
      ]
    },
    {
      "cell_type": "code",
      "metadata": {
        "id": "f52oLPYh9Vt3",
        "outputId": "3af7079f-e0b5-40c6-bc49-31df6ecdb248"
      },
      "source": [
        "[1 2; 3 3] * [9 9;9 9] #matrix materix product"
      ],
      "execution_count": null,
      "outputs": [
        {
          "output_type": "execute_result",
          "data": {
            "text/plain": [
              "2×2 Array{Int64,2}:\n",
              " 27  27\n",
              " 54  54"
            ]
          },
          "metadata": {
            "tags": []
          },
          "execution_count": 61
        }
      ]
    },
    {
      "cell_type": "markdown",
      "metadata": {
        "id": "W-6K7Uh09Vt6"
      },
      "source": [
        "### Check for nan"
      ]
    },
    {
      "cell_type": "code",
      "metadata": {
        "id": "iVvGAYxB9Vt6",
        "outputId": "bd677b1f-ba83-4a26-e77a-72d8616e40e1"
      },
      "source": [
        "isnan(9)"
      ],
      "execution_count": null,
      "outputs": [
        {
          "output_type": "execute_result",
          "data": {
            "text/plain": [
              "false"
            ]
          },
          "metadata": {
            "tags": []
          },
          "execution_count": 65
        }
      ]
    },
    {
      "cell_type": "markdown",
      "metadata": {
        "id": "rk76kal29Vt-"
      },
      "source": [
        "## Ternary operator"
      ]
    },
    {
      "cell_type": "markdown",
      "metadata": {
        "id": "y570128L9Vt-"
      },
      "source": [
        "The syntax is\n",
        "\n",
        "cond ? do_true : else"
      ]
    },
    {
      "cell_type": "code",
      "metadata": {
        "id": "wmOKDRKF9Vt-",
        "outputId": "b9c628e6-e6f4-4f42-8c36-148f144fa417"
      },
      "source": [
        "1 != 1 ? println(3) : println(999)"
      ],
      "execution_count": null,
      "outputs": [
        {
          "output_type": "stream",
          "text": [
            "999\n"
          ],
          "name": "stdout"
        }
      ]
    },
    {
      "cell_type": "markdown",
      "metadata": {
        "id": "xl01cCK79VuA"
      },
      "source": [
        "### And/or"
      ]
    },
    {
      "cell_type": "code",
      "metadata": {
        "id": "pW57itRU9VuA",
        "outputId": "fc492310-0a1d-4965-d1dc-7c7d63c1db22"
      },
      "source": [
        "true && true"
      ],
      "execution_count": null,
      "outputs": [
        {
          "output_type": "execute_result",
          "data": {
            "text/plain": [
              "true"
            ]
          },
          "metadata": {
            "tags": []
          },
          "execution_count": 70
        }
      ]
    },
    {
      "cell_type": "code",
      "metadata": {
        "id": "ODfA4-KB9VuD",
        "outputId": "d027bbd2-8981-416a-ff7c-eda9fdac5aed"
      },
      "source": [
        "false || true"
      ],
      "execution_count": null,
      "outputs": [
        {
          "output_type": "execute_result",
          "data": {
            "text/plain": [
              "true"
            ]
          },
          "metadata": {
            "tags": []
          },
          "execution_count": 72
        }
      ]
    },
    {
      "cell_type": "code",
      "metadata": {
        "id": "gbJo64lo9VuF"
      },
      "source": [
        ""
      ],
      "execution_count": null,
      "outputs": []
    },
    {
      "cell_type": "markdown",
      "metadata": {
        "id": "b1FV7gLS9VuI"
      },
      "source": [
        "## Sources"
      ]
    },
    {
      "cell_type": "markdown",
      "metadata": {
        "id": "bibIUMOj9VuJ"
      },
      "source": [
        "- [ ] https://juliadocs.github.io/Julia-Cheat-Sheet/\n",
        "- [ ] https://github.com/JuliaLang/julia\n",
        "\n",
        "- [ ] https://arxiv.org/pdf/2003.10146.pdf\n",
        "\n",
        "- [ ] https://github.com/h-Klok/StatsWithJuliaBook\n",
        "\n",
        "- [ ] juliahub\n",
        "\n",
        "- [ ] juliaacademy\n",
        "\n",
        "- [ ] https://www.sas.upenn.edu/~jesusfv/Chapter_HPC_8_Julia.pdf\n",
        "\n",
        "- [ ] https://www.packtpub.com/product/hands-on-design-patterns-and-best-practices-with-julia/9781838648817\n",
        "\n",
        "- [ ] https://www.elsevier.com/books/introduction-to-quantitative-macroeconomics-using-julia/caraiani/978-0-12-812219-8\n",
        "\n",
        "- [ ] https://colab.research.google.com/github/ageron/julia_notebooks/blob/master/Julia_for_Pythonistas.ipynb#scrollTo=EEzvvzCl1i0F\n",
        "\n",
        "- [ ] https://cheatsheets.quantecon.org/"
      ]
    },
    {
      "cell_type": "code",
      "metadata": {
        "id": "qqF3u1wn9VuK"
      },
      "source": [
        ""
      ],
      "execution_count": null,
      "outputs": []
    }
  ]
}